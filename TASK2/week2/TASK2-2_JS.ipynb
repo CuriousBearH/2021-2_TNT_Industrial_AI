{
  "nbformat": 4,
  "nbformat_minor": 2,
  "metadata": {
    "kernelspec": {
      "name": "python3",
      "display_name": "Python 3.9.6 64-bit ('torch180': conda)"
    },
    "language_info": {
      "codemirror_mode": {
        "name": "ipython",
        "version": 3
      },
      "file_extension": ".py",
      "mimetype": "text/x-python",
      "name": "python",
      "nbconvert_exporter": "python",
      "pygments_lexer": "ipython3",
      "version": "3.9.6"
    },
    "colab": {
      "name": "task2_data augmentation.ipynb",
      "provenance": [],
      "collapsed_sections": [
        "xv563-o6RUtl",
        "9vUr3jywYYJO"
      ]
    },
    "accelerator": "GPU",
    "interpreter": {
      "hash": "f91df44f1f4041b715e40fddbdf5aae97f67392faf430b430b7e94856d31ad21"
    }
  },
  "cells": [
    {
      "cell_type": "code",
      "execution_count": 1,
      "source": [
        "import os\r\n",
        "from os.path import join\r\n",
        "import numpy as np\r\n",
        "import pandas as pd\r\n",
        "import cv2\r\n",
        "import gc\r\n",
        "import torch \r\n",
        "import torch.nn as nn\r\n",
        "import torch.nn.functional as F\r\n",
        "import torch.optim as optim\r\n",
        "from torch.utils.data import Dataset, TensorDataset, DataLoader, SubsetRandomSampler\r\n",
        "import torchvision.transforms as T\r\n",
        "import pytorch_lightning as pl \r\n",
        "from pytorch_lightning import LightningModule, LightningDataModule, Trainer, seed_everything\r\n",
        "from pytorch_lightning.callbacks import ModelCheckpoint, EarlyStopping, LearningRateMonitor\r\n",
        "from pytorch_lightning.loggers import TensorBoardLogger\r\n",
        "from torch.optim.lr_scheduler import ReduceLROnPlateau\r\n",
        "from torchmetrics.functional import accuracy\r\n",
        "from torchsummaryX import summary\r\n",
        "import matplotlib.pyplot as plt\r\n",
        "from tqdm import tqdm\r\n",
        "\r\n",
        "from sklearn.preprocessing import LabelEncoder\r\n",
        "from sklearn.model_selection import KFold \r\n",
        "from sklearn.model_selection import cross_val_score\r\n",
        "from sklearn.model_selection import train_test_split\r\n",
        "\r\n",
        "seed_everything(7)\r\n",
        "USE_CUDA = torch.cuda.is_available() \r\n",
        "AVAIL_GPUS = min(1, torch.cuda.device_count())\r\n",
        "device = torch.device('cuda:0' if USE_CUDA else 'cpu')\r\n",
        "\r\n",
        "print('pytorch version :',torch.__version__)\r\n",
        "print('Training device :',device)\r\n",
        "print('cuda index :', torch.cuda.current_device())\r\n",
        "print('graphic name :', torch.cuda.get_device_name())"
      ],
      "outputs": [
        {
          "output_type": "stream",
          "name": "stderr",
          "text": [
            "Global seed set to 7\n"
          ]
        },
        {
          "output_type": "stream",
          "name": "stdout",
          "text": [
            "pytorch version : 1.9.0\n",
            "Training device : cuda:0\n",
            "cuda index : 0\n",
            "graphic name : NVIDIA GeForce RTX 3080 Ti\n"
          ]
        }
      ],
      "metadata": {}
    },
    {
      "cell_type": "markdown",
      "source": [
        "# EDA"
      ],
      "metadata": {}
    },
    {
      "cell_type": "code",
      "execution_count": 2,
      "source": [
        "df = pd.read_pickle(r\"C:\\Users\\user\\Drive\\TNT\\2021-2_TNT_Industrial_AI\\TASK2\\Week1\\LSWMD.pkl\")"
      ],
      "outputs": [],
      "metadata": {
        "id": "xYbmehJaIwwC"
      }
    },
    {
      "cell_type": "code",
      "execution_count": 3,
      "source": [
        "def removebrackets(array):\r\n",
        "    if array.shape == (1, 1):\r\n",
        "        return \"\".join(array[0])\r\n",
        "    elif array.shape == (0, 0):\r\n",
        "        return None"
      ],
      "outputs": [],
      "metadata": {}
    },
    {
      "cell_type": "code",
      "execution_count": 4,
      "source": [
        "df.rename(columns = {'trianTestLabel':'TrainTestLabel'}, inplace = 'True')\r\n",
        "df['TrainTestLabel'] = df['TrainTestLabel'].apply(removebrackets)\r\n",
        "df['failureType'] = df['failureType'].apply(removebrackets)"
      ],
      "outputs": [],
      "metadata": {}
    },
    {
      "cell_type": "code",
      "execution_count": 5,
      "source": [
        "df = df.dropna()"
      ],
      "outputs": [],
      "metadata": {}
    },
    {
      "cell_type": "code",
      "execution_count": 6,
      "source": [
        "df.info()"
      ],
      "outputs": [
        {
          "output_type": "stream",
          "name": "stdout",
          "text": [
            "<class 'pandas.core.frame.DataFrame'>\n",
            "Int64Index: 172950 entries, 0 to 811454\n",
            "Data columns (total 6 columns):\n",
            " #   Column          Non-Null Count   Dtype  \n",
            "---  ------          --------------   -----  \n",
            " 0   waferMap        172950 non-null  object \n",
            " 1   dieSize         172950 non-null  float64\n",
            " 2   lotName         172950 non-null  object \n",
            " 3   waferIndex      172950 non-null  float64\n",
            " 4   TrainTestLabel  172950 non-null  object \n",
            " 5   failureType     172950 non-null  object \n",
            "dtypes: float64(2), object(4)\n",
            "memory usage: 9.2+ MB\n"
          ]
        }
      ],
      "metadata": {
        "_cell_guid": "79c7e3d0-c299-4dcb-8224-4455121ee9b0",
        "_uuid": "d629ff2d2480ee46fbb7e2d37f6b5fab8052498a",
        "colab": {
          "base_uri": "https://localhost:8080/"
        },
        "id": "vSTdJhxDYYI4",
        "outputId": "11844310-b011-498c-896e-12db9abc74a5"
      }
    },
    {
      "cell_type": "code",
      "execution_count": 7,
      "source": [
        "df.isnull().sum()"
      ],
      "outputs": [
        {
          "output_type": "execute_result",
          "data": {
            "text/plain": [
              "waferMap          0\n",
              "dieSize           0\n",
              "lotName           0\n",
              "waferIndex        0\n",
              "TrainTestLabel    0\n",
              "failureType       0\n",
              "dtype: int64"
            ]
          },
          "metadata": {},
          "execution_count": 7
        }
      ],
      "metadata": {}
    },
    {
      "cell_type": "code",
      "execution_count": 8,
      "source": [
        "df.head()"
      ],
      "outputs": [
        {
          "output_type": "execute_result",
          "data": {
            "text/html": [
              "<div>\n",
              "<style scoped>\n",
              "    .dataframe tbody tr th:only-of-type {\n",
              "        vertical-align: middle;\n",
              "    }\n",
              "\n",
              "    .dataframe tbody tr th {\n",
              "        vertical-align: top;\n",
              "    }\n",
              "\n",
              "    .dataframe thead th {\n",
              "        text-align: right;\n",
              "    }\n",
              "</style>\n",
              "<table border=\"1\" class=\"dataframe\">\n",
              "  <thead>\n",
              "    <tr style=\"text-align: right;\">\n",
              "      <th></th>\n",
              "      <th>waferMap</th>\n",
              "      <th>dieSize</th>\n",
              "      <th>lotName</th>\n",
              "      <th>waferIndex</th>\n",
              "      <th>TrainTestLabel</th>\n",
              "      <th>failureType</th>\n",
              "    </tr>\n",
              "  </thead>\n",
              "  <tbody>\n",
              "    <tr>\n",
              "      <th>0</th>\n",
              "      <td>[[0, 0, 0, 0, 0, 0, 0, 0, 0, 0, 0, 0, 0, 0, 0,...</td>\n",
              "      <td>1683.0</td>\n",
              "      <td>lot1</td>\n",
              "      <td>1.0</td>\n",
              "      <td>Training</td>\n",
              "      <td>none</td>\n",
              "    </tr>\n",
              "    <tr>\n",
              "      <th>1</th>\n",
              "      <td>[[0, 0, 0, 0, 0, 0, 0, 0, 0, 0, 0, 0, 0, 0, 0,...</td>\n",
              "      <td>1683.0</td>\n",
              "      <td>lot1</td>\n",
              "      <td>2.0</td>\n",
              "      <td>Training</td>\n",
              "      <td>none</td>\n",
              "    </tr>\n",
              "    <tr>\n",
              "      <th>2</th>\n",
              "      <td>[[0, 0, 0, 0, 0, 0, 0, 0, 0, 0, 0, 0, 0, 0, 0,...</td>\n",
              "      <td>1683.0</td>\n",
              "      <td>lot1</td>\n",
              "      <td>3.0</td>\n",
              "      <td>Training</td>\n",
              "      <td>none</td>\n",
              "    </tr>\n",
              "    <tr>\n",
              "      <th>3</th>\n",
              "      <td>[[0, 0, 0, 0, 0, 0, 0, 0, 0, 0, 0, 0, 0, 0, 0,...</td>\n",
              "      <td>1683.0</td>\n",
              "      <td>lot1</td>\n",
              "      <td>4.0</td>\n",
              "      <td>Training</td>\n",
              "      <td>none</td>\n",
              "    </tr>\n",
              "    <tr>\n",
              "      <th>4</th>\n",
              "      <td>[[0, 0, 0, 0, 0, 0, 0, 0, 0, 0, 0, 0, 0, 0, 0,...</td>\n",
              "      <td>1683.0</td>\n",
              "      <td>lot1</td>\n",
              "      <td>5.0</td>\n",
              "      <td>Training</td>\n",
              "      <td>none</td>\n",
              "    </tr>\n",
              "  </tbody>\n",
              "</table>\n",
              "</div>"
            ],
            "text/plain": [
              "                                            waferMap  dieSize lotName  \\\n",
              "0  [[0, 0, 0, 0, 0, 0, 0, 0, 0, 0, 0, 0, 0, 0, 0,...   1683.0    lot1   \n",
              "1  [[0, 0, 0, 0, 0, 0, 0, 0, 0, 0, 0, 0, 0, 0, 0,...   1683.0    lot1   \n",
              "2  [[0, 0, 0, 0, 0, 0, 0, 0, 0, 0, 0, 0, 0, 0, 0,...   1683.0    lot1   \n",
              "3  [[0, 0, 0, 0, 0, 0, 0, 0, 0, 0, 0, 0, 0, 0, 0,...   1683.0    lot1   \n",
              "4  [[0, 0, 0, 0, 0, 0, 0, 0, 0, 0, 0, 0, 0, 0, 0,...   1683.0    lot1   \n",
              "\n",
              "   waferIndex TrainTestLabel failureType  \n",
              "0         1.0       Training        none  \n",
              "1         2.0       Training        none  \n",
              "2         3.0       Training        none  \n",
              "3         4.0       Training        none  \n",
              "4         5.0       Training        none  "
            ]
          },
          "metadata": {},
          "execution_count": 8
        }
      ],
      "metadata": {
        "_cell_guid": "68f6fd95-8687-450f-827b-418cc7143362",
        "_uuid": "6bb42da7f6371cdc7c624d67d29cb3ed395c7393",
        "colab": {
          "base_uri": "https://localhost:8080/",
          "height": 204
        },
        "id": "6m3AgSgWYYI6",
        "outputId": "76aa284d-60a9-4db8-ef22-a3ce99b59cb7"
      }
    },
    {
      "cell_type": "code",
      "execution_count": 9,
      "source": [
        "df.tail()"
      ],
      "outputs": [
        {
          "output_type": "execute_result",
          "data": {
            "text/html": [
              "<div>\n",
              "<style scoped>\n",
              "    .dataframe tbody tr th:only-of-type {\n",
              "        vertical-align: middle;\n",
              "    }\n",
              "\n",
              "    .dataframe tbody tr th {\n",
              "        vertical-align: top;\n",
              "    }\n",
              "\n",
              "    .dataframe thead th {\n",
              "        text-align: right;\n",
              "    }\n",
              "</style>\n",
              "<table border=\"1\" class=\"dataframe\">\n",
              "  <thead>\n",
              "    <tr style=\"text-align: right;\">\n",
              "      <th></th>\n",
              "      <th>waferMap</th>\n",
              "      <th>dieSize</th>\n",
              "      <th>lotName</th>\n",
              "      <th>waferIndex</th>\n",
              "      <th>TrainTestLabel</th>\n",
              "      <th>failureType</th>\n",
              "    </tr>\n",
              "  </thead>\n",
              "  <tbody>\n",
              "    <tr>\n",
              "      <th>811450</th>\n",
              "      <td>[[0, 0, 0, 0, 0, 0, 0, 0, 0, 0, 0, 1, 2, 1, 2,...</td>\n",
              "      <td>600.0</td>\n",
              "      <td>lot47542</td>\n",
              "      <td>21.0</td>\n",
              "      <td>Test</td>\n",
              "      <td>Edge-Loc</td>\n",
              "    </tr>\n",
              "    <tr>\n",
              "      <th>811451</th>\n",
              "      <td>[[0, 0, 0, 0, 0, 0, 0, 0, 0, 0, 0, 1, 1, 1, 1,...</td>\n",
              "      <td>600.0</td>\n",
              "      <td>lot47542</td>\n",
              "      <td>22.0</td>\n",
              "      <td>Test</td>\n",
              "      <td>Edge-Loc</td>\n",
              "    </tr>\n",
              "    <tr>\n",
              "      <th>811452</th>\n",
              "      <td>[[0, 0, 0, 0, 0, 0, 0, 0, 0, 0, 0, 1, 2, 1, 1,...</td>\n",
              "      <td>600.0</td>\n",
              "      <td>lot47542</td>\n",
              "      <td>23.0</td>\n",
              "      <td>Test</td>\n",
              "      <td>Edge-Ring</td>\n",
              "    </tr>\n",
              "    <tr>\n",
              "      <th>811453</th>\n",
              "      <td>[[0, 0, 0, 0, 0, 0, 0, 0, 0, 0, 0, 2, 2, 1, 1,...</td>\n",
              "      <td>600.0</td>\n",
              "      <td>lot47542</td>\n",
              "      <td>24.0</td>\n",
              "      <td>Test</td>\n",
              "      <td>Edge-Loc</td>\n",
              "    </tr>\n",
              "    <tr>\n",
              "      <th>811454</th>\n",
              "      <td>[[0, 0, 0, 0, 0, 0, 0, 0, 0, 0, 0, 1, 2, 1, 1,...</td>\n",
              "      <td>600.0</td>\n",
              "      <td>lot47542</td>\n",
              "      <td>25.0</td>\n",
              "      <td>Test</td>\n",
              "      <td>Edge-Ring</td>\n",
              "    </tr>\n",
              "  </tbody>\n",
              "</table>\n",
              "</div>"
            ],
            "text/plain": [
              "                                                 waferMap  dieSize   lotName  \\\n",
              "811450  [[0, 0, 0, 0, 0, 0, 0, 0, 0, 0, 0, 1, 2, 1, 2,...    600.0  lot47542   \n",
              "811451  [[0, 0, 0, 0, 0, 0, 0, 0, 0, 0, 0, 1, 1, 1, 1,...    600.0  lot47542   \n",
              "811452  [[0, 0, 0, 0, 0, 0, 0, 0, 0, 0, 0, 1, 2, 1, 1,...    600.0  lot47542   \n",
              "811453  [[0, 0, 0, 0, 0, 0, 0, 0, 0, 0, 0, 2, 2, 1, 1,...    600.0  lot47542   \n",
              "811454  [[0, 0, 0, 0, 0, 0, 0, 0, 0, 0, 0, 1, 2, 1, 1,...    600.0  lot47542   \n",
              "\n",
              "        waferIndex TrainTestLabel failureType  \n",
              "811450        21.0           Test    Edge-Loc  \n",
              "811451        22.0           Test    Edge-Loc  \n",
              "811452        23.0           Test   Edge-Ring  \n",
              "811453        24.0           Test    Edge-Loc  \n",
              "811454        25.0           Test   Edge-Ring  "
            ]
          },
          "metadata": {},
          "execution_count": 9
        }
      ],
      "metadata": {
        "_cell_guid": "26296434-bb94-4600-ac5c-e60052540fc2",
        "_uuid": "81b4438880a465265144c4189c8e79457329604e",
        "colab": {
          "base_uri": "https://localhost:8080/",
          "height": 204
        },
        "id": "hzbXacIoYYI7",
        "outputId": "0fe3c9f8-1077-40d7-e674-c43adb9143e8"
      }
    },
    {
      "cell_type": "markdown",
      "source": [
        "### EDA "
      ],
      "metadata": {
        "id": "frmgw8LpRK6v"
      }
    },
    {
      "cell_type": "code",
      "execution_count": 10,
      "source": [
        "import matplotlib.pyplot as plt\r\n",
        "%matplotlib inline\r\n",
        "\r\n",
        "\r\n",
        "uni_Index=np.unique(df.waferIndex, return_counts=True)\r\n",
        "plt.bar(uni_Index[0],uni_Index[1], color='gold', align='center', alpha=0.5)\r\n",
        "plt.title(\" wafer Index distribution\")\r\n",
        "plt.xlabel(\"index #\")\r\n",
        "plt.ylabel(\"frequency\")\r\n",
        "plt.xlim(0,26)\r\n",
        "plt.ylim(3000, 10000)\r\n",
        "plt.show()\r\n",
        "# 매우 균일한 분포를 보이므로, waferindex는 고려하지 않아도 됨."
      ],
      "outputs": [
        {
          "output_type": "display_data",
          "data": {
            "image/png": "[encoded data removed]",
            "text/plain": [
              "<Figure size 432x288 with 1 Axes>"
            ]
          },
          "metadata": {
            "needs_background": "light"
          }
        }
      ],
      "metadata": {
        "_cell_guid": "6f939db7-e348-418c-bad1-596881441789",
        "_uuid": "b2dcf6fdd761ba3782b88a45f5592df200bd35ba",
        "colab": {
          "base_uri": "https://localhost:8080/",
          "height": 295
        },
        "id": "fm5i43tEYYI9",
        "outputId": "ac9e6e35-edd1-42d8-a6a6-0068f3c30050"
      }
    },
    {
      "cell_type": "code",
      "execution_count": 11,
      "source": [
        "# failureType\r\n",
        "\r\n",
        "plt.figure(figsize=(10, 10))\r\n",
        "labels = np.unique(df.failureType, return_counts=True)[0]\r\n",
        "counts = np.unique(df.failureType, return_counts=True)[1]\r\n",
        "\r\n",
        "pie = plt.pie(x = counts, labels=labels, autopct = \"%.1f%%\")\r\n",
        "_, texts, autotexts =pie\r\n",
        "for items in texts:\r\n",
        "    items.set_color('white') \r\n",
        "    items.set_fontsize('10')\r\n",
        "for items in autotexts:\r\n",
        "    items.set_fontsize('10')\r\n",
        "plt.title('failureType', color = 'white', fontsize = 20)\r\n",
        "plt.legend()\r\n",
        "plt.show()\r\n",
        "\r\n",
        "# Loc, Edge-loc에 비해 Near-full, Donut들의 인스턴스 개수가 매우 작음."
      ],
      "outputs": [
        {
          "output_type": "display_data",
          "data": {
            "image/png": "[encoded data removed]",
            "text/plain": [
              "<Figure size 720x720 with 1 Axes>"
            ]
          },
          "metadata": {}
        }
      ],
      "metadata": {}
    },
    {
      "cell_type": "code",
      "execution_count": 12,
      "source": [
        "labels"
      ],
      "outputs": [
        {
          "output_type": "execute_result",
          "data": {
            "text/plain": [
              "array(['Center', 'Donut', 'Edge-Loc', 'Edge-Ring', 'Loc', 'Near-full',\n",
              "       'Random', 'Scratch', 'none'], dtype=object)"
            ]
          },
          "metadata": {},
          "execution_count": 12
        }
      ],
      "metadata": {}
    },
    {
      "cell_type": "code",
      "execution_count": 13,
      "source": [
        "counts"
      ],
      "outputs": [
        {
          "output_type": "execute_result",
          "data": {
            "text/plain": [
              "array([  4294,    555,   5189,   9680,   3593,    149,    866,   1193,\n",
              "       147431], dtype=int64)"
            ]
          },
          "metadata": {},
          "execution_count": 13
        }
      ],
      "metadata": {}
    },
    {
      "cell_type": "markdown",
      "source": [
        "# Preprocessing"
      ],
      "metadata": {}
    },
    {
      "cell_type": "code",
      "execution_count": 14,
      "source": [
        "df.failureType = df.failureType.map({\r\n",
        "    'Center': 0,\r\n",
        "    'Donut': 1,\r\n",
        "    'Edge-Loc': 2,\r\n",
        "    'Edge-Ring' : 3,\r\n",
        "    'Loc': 4,\r\n",
        "    'Near-full' : 5,\r\n",
        "    'Random' : 6,\r\n",
        "    'Scratch' : 7,\r\n",
        "    \"none\" : 8\r\n",
        "    })\r\n"
      ],
      "outputs": [],
      "metadata": {}
    },
    {
      "cell_type": "code",
      "execution_count": 15,
      "source": [
        "df = df.drop(['waferIndex'], axis = 1)"
      ],
      "outputs": [],
      "metadata": {
        "_cell_guid": "b9b24bdd-8fb9-463e-bf28-c4ebeed7ae4d",
        "_uuid": "652a9c89d538962295917acbfcde37a88b7337f1",
        "id": "dS25NUC1YYI-"
      }
    },
    {
      "cell_type": "code",
      "execution_count": 16,
      "source": [
        "print(np.unique(df.TrainTestLabel, return_counts=True)[0])\r\n",
        "print(np.unique(df.TrainTestLabel, return_counts=True)[1])"
      ],
      "outputs": [
        {
          "output_type": "stream",
          "name": "stdout",
          "text": [
            "['Test' 'Training']\n",
            "[118595  54355]\n"
          ]
        }
      ],
      "metadata": {}
    },
    {
      "cell_type": "code",
      "execution_count": 17,
      "source": [
        "def find_dim(x):\r\n",
        "    dim0=np.size(x,axis=0)\r\n",
        "    dim1=np.size(x,axis=1)\r\n",
        "    return dim0,dim1\r\n",
        "    \r\n",
        "df['waferMapDim']=df.waferMap.apply(find_dim)\r\n",
        "df.sample(5)\r\n",
        "# waferMapDim 열 생성 "
      ],
      "outputs": [
        {
          "output_type": "execute_result",
          "data": {
            "text/html": [
              "<div>\n",
              "<style scoped>\n",
              "    .dataframe tbody tr th:only-of-type {\n",
              "        vertical-align: middle;\n",
              "    }\n",
              "\n",
              "    .dataframe tbody tr th {\n",
              "        vertical-align: top;\n",
              "    }\n",
              "\n",
              "    .dataframe thead th {\n",
              "        text-align: right;\n",
              "    }\n",
              "</style>\n",
              "<table border=\"1\" class=\"dataframe\">\n",
              "  <thead>\n",
              "    <tr style=\"text-align: right;\">\n",
              "      <th></th>\n",
              "      <th>waferMap</th>\n",
              "      <th>dieSize</th>\n",
              "      <th>lotName</th>\n",
              "      <th>TrainTestLabel</th>\n",
              "      <th>failureType</th>\n",
              "      <th>waferMapDim</th>\n",
              "    </tr>\n",
              "  </thead>\n",
              "  <tbody>\n",
              "    <tr>\n",
              "      <th>144888</th>\n",
              "      <td>[[0, 0, 0, 0, 0, 0, 0, 0, 0, 0, 0, 0, 0, 0, 0,...</td>\n",
              "      <td>3036.0</td>\n",
              "      <td>lot9334</td>\n",
              "      <td>Training</td>\n",
              "      <td>3</td>\n",
              "      <td>(63, 62)</td>\n",
              "    </tr>\n",
              "    <tr>\n",
              "      <th>719149</th>\n",
              "      <td>[[0, 0, 0, 0, 0, 0, 0, 0, 0, 0, 0, 0, 0, 0, 0,...</td>\n",
              "      <td>1256.0</td>\n",
              "      <td>lot43795</td>\n",
              "      <td>Test</td>\n",
              "      <td>8</td>\n",
              "      <td>(41, 40)</td>\n",
              "    </tr>\n",
              "    <tr>\n",
              "      <th>736354</th>\n",
              "      <td>[[0, 0, 0, 0, 0, 0, 0, 0, 0, 0, 0, 0, 1, 1, 1,...</td>\n",
              "      <td>741.0</td>\n",
              "      <td>lot44493</td>\n",
              "      <td>Test</td>\n",
              "      <td>8</td>\n",
              "      <td>(33, 29)</td>\n",
              "    </tr>\n",
              "    <tr>\n",
              "      <th>776748</th>\n",
              "      <td>[[0, 0, 0, 0, 0, 0, 0, 0, 0, 0, 0, 0, 1, 1, 1,...</td>\n",
              "      <td>935.0</td>\n",
              "      <td>lot46133</td>\n",
              "      <td>Test</td>\n",
              "      <td>8</td>\n",
              "      <td>(35, 34)</td>\n",
              "    </tr>\n",
              "    <tr>\n",
              "      <th>658613</th>\n",
              "      <td>[[0, 0, 0, 0, 0, 0, 0, 0, 0, 0, 0, 0, 0, 0, 0,...</td>\n",
              "      <td>776.0</td>\n",
              "      <td>lot41100</td>\n",
              "      <td>Test</td>\n",
              "      <td>8</td>\n",
              "      <td>(30, 34)</td>\n",
              "    </tr>\n",
              "  </tbody>\n",
              "</table>\n",
              "</div>"
            ],
            "text/plain": [
              "                                                 waferMap  dieSize   lotName  \\\n",
              "144888  [[0, 0, 0, 0, 0, 0, 0, 0, 0, 0, 0, 0, 0, 0, 0,...   3036.0   lot9334   \n",
              "719149  [[0, 0, 0, 0, 0, 0, 0, 0, 0, 0, 0, 0, 0, 0, 0,...   1256.0  lot43795   \n",
              "736354  [[0, 0, 0, 0, 0, 0, 0, 0, 0, 0, 0, 0, 1, 1, 1,...    741.0  lot44493   \n",
              "776748  [[0, 0, 0, 0, 0, 0, 0, 0, 0, 0, 0, 0, 1, 1, 1,...    935.0  lot46133   \n",
              "658613  [[0, 0, 0, 0, 0, 0, 0, 0, 0, 0, 0, 0, 0, 0, 0,...    776.0  lot41100   \n",
              "\n",
              "       TrainTestLabel  failureType waferMapDim  \n",
              "144888       Training            3    (63, 62)  \n",
              "719149           Test            8    (41, 40)  \n",
              "736354           Test            8    (33, 29)  \n",
              "776748           Test            8    (35, 34)  \n",
              "658613           Test            8    (30, 34)  "
            ]
          },
          "metadata": {},
          "execution_count": 17
        }
      ],
      "metadata": {
        "_cell_guid": "846afbcf-dc89-4f69-9def-512eaa64b533",
        "_uuid": "a06d8b69be3752f5035e6ca1ffe841e0c9a761ad",
        "colab": {
          "base_uri": "https://localhost:8080/",
          "height": 204
        },
        "id": "24ElHIdMYYI_",
        "outputId": "20b56b55-cebb-4c69-cf7e-62c723236dfc"
      }
    },
    {
      "cell_type": "code",
      "execution_count": 18,
      "source": [
        "heights = []\r\n",
        "widths = []\r\n",
        "for i in df.waferMapDim:\r\n",
        "    heights.append(i[0])\r\n",
        "    widths.append(i[1])"
      ],
      "outputs": [],
      "metadata": {}
    },
    {
      "cell_type": "code",
      "execution_count": 30,
      "source": [
        "wfmap = df.iloc[10].waferMap\r\n",
        "pd.DataFrame(wfmap)\r\n"
      ],
      "outputs": [
        {
          "output_type": "execute_result",
          "data": {
            "text/html": [
              "<div>\n",
              "<style scoped>\n",
              "    .dataframe tbody tr th:only-of-type {\n",
              "        vertical-align: middle;\n",
              "    }\n",
              "\n",
              "    .dataframe tbody tr th {\n",
              "        vertical-align: top;\n",
              "    }\n",
              "\n",
              "    .dataframe thead th {\n",
              "        text-align: right;\n",
              "    }\n",
              "</style>\n",
              "<table border=\"1\" class=\"dataframe\">\n",
              "  <thead>\n",
              "    <tr style=\"text-align: right;\">\n",
              "      <th></th>\n",
              "      <th>0</th>\n",
              "      <th>1</th>\n",
              "      <th>2</th>\n",
              "      <th>3</th>\n",
              "      <th>4</th>\n",
              "      <th>5</th>\n",
              "      <th>6</th>\n",
              "      <th>7</th>\n",
              "      <th>8</th>\n",
              "      <th>9</th>\n",
              "      <th>...</th>\n",
              "      <th>38</th>\n",
              "      <th>39</th>\n",
              "      <th>40</th>\n",
              "      <th>41</th>\n",
              "      <th>42</th>\n",
              "      <th>43</th>\n",
              "      <th>44</th>\n",
              "      <th>45</th>\n",
              "      <th>46</th>\n",
              "      <th>47</th>\n",
              "    </tr>\n",
              "  </thead>\n",
              "  <tbody>\n",
              "    <tr>\n",
              "      <th>0</th>\n",
              "      <td>0</td>\n",
              "      <td>0</td>\n",
              "      <td>0</td>\n",
              "      <td>0</td>\n",
              "      <td>0</td>\n",
              "      <td>0</td>\n",
              "      <td>0</td>\n",
              "      <td>0</td>\n",
              "      <td>0</td>\n",
              "      <td>0</td>\n",
              "      <td>...</td>\n",
              "      <td>0</td>\n",
              "      <td>0</td>\n",
              "      <td>0</td>\n",
              "      <td>0</td>\n",
              "      <td>0</td>\n",
              "      <td>0</td>\n",
              "      <td>0</td>\n",
              "      <td>0</td>\n",
              "      <td>0</td>\n",
              "      <td>0</td>\n",
              "    </tr>\n",
              "    <tr>\n",
              "      <th>1</th>\n",
              "      <td>0</td>\n",
              "      <td>0</td>\n",
              "      <td>0</td>\n",
              "      <td>0</td>\n",
              "      <td>0</td>\n",
              "      <td>0</td>\n",
              "      <td>0</td>\n",
              "      <td>0</td>\n",
              "      <td>0</td>\n",
              "      <td>0</td>\n",
              "      <td>...</td>\n",
              "      <td>0</td>\n",
              "      <td>0</td>\n",
              "      <td>0</td>\n",
              "      <td>0</td>\n",
              "      <td>0</td>\n",
              "      <td>0</td>\n",
              "      <td>0</td>\n",
              "      <td>0</td>\n",
              "      <td>0</td>\n",
              "      <td>0</td>\n",
              "    </tr>\n",
              "    <tr>\n",
              "      <th>2</th>\n",
              "      <td>0</td>\n",
              "      <td>0</td>\n",
              "      <td>0</td>\n",
              "      <td>0</td>\n",
              "      <td>0</td>\n",
              "      <td>0</td>\n",
              "      <td>0</td>\n",
              "      <td>0</td>\n",
              "      <td>0</td>\n",
              "      <td>0</td>\n",
              "      <td>...</td>\n",
              "      <td>0</td>\n",
              "      <td>0</td>\n",
              "      <td>0</td>\n",
              "      <td>0</td>\n",
              "      <td>0</td>\n",
              "      <td>0</td>\n",
              "      <td>0</td>\n",
              "      <td>0</td>\n",
              "      <td>0</td>\n",
              "      <td>0</td>\n",
              "    </tr>\n",
              "    <tr>\n",
              "      <th>3</th>\n",
              "      <td>0</td>\n",
              "      <td>0</td>\n",
              "      <td>0</td>\n",
              "      <td>0</td>\n",
              "      <td>0</td>\n",
              "      <td>0</td>\n",
              "      <td>0</td>\n",
              "      <td>0</td>\n",
              "      <td>0</td>\n",
              "      <td>0</td>\n",
              "      <td>...</td>\n",
              "      <td>0</td>\n",
              "      <td>0</td>\n",
              "      <td>0</td>\n",
              "      <td>0</td>\n",
              "      <td>0</td>\n",
              "      <td>0</td>\n",
              "      <td>0</td>\n",
              "      <td>0</td>\n",
              "      <td>0</td>\n",
              "      <td>0</td>\n",
              "    </tr>\n",
              "    <tr>\n",
              "      <th>4</th>\n",
              "      <td>0</td>\n",
              "      <td>0</td>\n",
              "      <td>0</td>\n",
              "      <td>0</td>\n",
              "      <td>0</td>\n",
              "      <td>0</td>\n",
              "      <td>0</td>\n",
              "      <td>0</td>\n",
              "      <td>0</td>\n",
              "      <td>0</td>\n",
              "      <td>...</td>\n",
              "      <td>0</td>\n",
              "      <td>0</td>\n",
              "      <td>0</td>\n",
              "      <td>0</td>\n",
              "      <td>0</td>\n",
              "      <td>0</td>\n",
              "      <td>0</td>\n",
              "      <td>0</td>\n",
              "      <td>0</td>\n",
              "      <td>0</td>\n",
              "    </tr>\n",
              "    <tr>\n",
              "      <th>5</th>\n",
              "      <td>0</td>\n",
              "      <td>0</td>\n",
              "      <td>0</td>\n",
              "      <td>0</td>\n",
              "      <td>0</td>\n",
              "      <td>0</td>\n",
              "      <td>0</td>\n",
              "      <td>0</td>\n",
              "      <td>0</td>\n",
              "      <td>1</td>\n",
              "      <td>...</td>\n",
              "      <td>1</td>\n",
              "      <td>0</td>\n",
              "      <td>0</td>\n",
              "      <td>0</td>\n",
              "      <td>0</td>\n",
              "      <td>0</td>\n",
              "      <td>0</td>\n",
              "      <td>0</td>\n",
              "      <td>0</td>\n",
              "      <td>0</td>\n",
              "    </tr>\n",
              "    <tr>\n",
              "      <th>6</th>\n",
              "      <td>0</td>\n",
              "      <td>0</td>\n",
              "      <td>0</td>\n",
              "      <td>0</td>\n",
              "      <td>0</td>\n",
              "      <td>0</td>\n",
              "      <td>0</td>\n",
              "      <td>1</td>\n",
              "      <td>1</td>\n",
              "      <td>1</td>\n",
              "      <td>...</td>\n",
              "      <td>1</td>\n",
              "      <td>1</td>\n",
              "      <td>0</td>\n",
              "      <td>0</td>\n",
              "      <td>0</td>\n",
              "      <td>0</td>\n",
              "      <td>0</td>\n",
              "      <td>0</td>\n",
              "      <td>0</td>\n",
              "      <td>0</td>\n",
              "    </tr>\n",
              "    <tr>\n",
              "      <th>7</th>\n",
              "      <td>0</td>\n",
              "      <td>0</td>\n",
              "      <td>0</td>\n",
              "      <td>0</td>\n",
              "      <td>0</td>\n",
              "      <td>0</td>\n",
              "      <td>1</td>\n",
              "      <td>1</td>\n",
              "      <td>1</td>\n",
              "      <td>1</td>\n",
              "      <td>...</td>\n",
              "      <td>1</td>\n",
              "      <td>1</td>\n",
              "      <td>1</td>\n",
              "      <td>0</td>\n",
              "      <td>0</td>\n",
              "      <td>0</td>\n",
              "      <td>0</td>\n",
              "      <td>0</td>\n",
              "      <td>0</td>\n",
              "      <td>0</td>\n",
              "    </tr>\n",
              "    <tr>\n",
              "      <th>8</th>\n",
              "      <td>0</td>\n",
              "      <td>0</td>\n",
              "      <td>0</td>\n",
              "      <td>0</td>\n",
              "      <td>0</td>\n",
              "      <td>1</td>\n",
              "      <td>1</td>\n",
              "      <td>1</td>\n",
              "      <td>1</td>\n",
              "      <td>1</td>\n",
              "      <td>...</td>\n",
              "      <td>1</td>\n",
              "      <td>1</td>\n",
              "      <td>1</td>\n",
              "      <td>1</td>\n",
              "      <td>0</td>\n",
              "      <td>0</td>\n",
              "      <td>0</td>\n",
              "      <td>0</td>\n",
              "      <td>0</td>\n",
              "      <td>0</td>\n",
              "    </tr>\n",
              "    <tr>\n",
              "      <th>9</th>\n",
              "      <td>0</td>\n",
              "      <td>0</td>\n",
              "      <td>0</td>\n",
              "      <td>0</td>\n",
              "      <td>0</td>\n",
              "      <td>1</td>\n",
              "      <td>1</td>\n",
              "      <td>1</td>\n",
              "      <td>1</td>\n",
              "      <td>1</td>\n",
              "      <td>...</td>\n",
              "      <td>1</td>\n",
              "      <td>1</td>\n",
              "      <td>1</td>\n",
              "      <td>1</td>\n",
              "      <td>1</td>\n",
              "      <td>0</td>\n",
              "      <td>0</td>\n",
              "      <td>0</td>\n",
              "      <td>0</td>\n",
              "      <td>0</td>\n",
              "    </tr>\n",
              "    <tr>\n",
              "      <th>10</th>\n",
              "      <td>0</td>\n",
              "      <td>0</td>\n",
              "      <td>0</td>\n",
              "      <td>0</td>\n",
              "      <td>2</td>\n",
              "      <td>2</td>\n",
              "      <td>1</td>\n",
              "      <td>1</td>\n",
              "      <td>1</td>\n",
              "      <td>1</td>\n",
              "      <td>...</td>\n",
              "      <td>1</td>\n",
              "      <td>1</td>\n",
              "      <td>1</td>\n",
              "      <td>1</td>\n",
              "      <td>1</td>\n",
              "      <td>1</td>\n",
              "      <td>0</td>\n",
              "      <td>0</td>\n",
              "      <td>0</td>\n",
              "      <td>0</td>\n",
              "    </tr>\n",
              "    <tr>\n",
              "      <th>11</th>\n",
              "      <td>0</td>\n",
              "      <td>0</td>\n",
              "      <td>0</td>\n",
              "      <td>1</td>\n",
              "      <td>1</td>\n",
              "      <td>1</td>\n",
              "      <td>1</td>\n",
              "      <td>1</td>\n",
              "      <td>1</td>\n",
              "      <td>1</td>\n",
              "      <td>...</td>\n",
              "      <td>1</td>\n",
              "      <td>2</td>\n",
              "      <td>1</td>\n",
              "      <td>2</td>\n",
              "      <td>1</td>\n",
              "      <td>1</td>\n",
              "      <td>0</td>\n",
              "      <td>0</td>\n",
              "      <td>0</td>\n",
              "      <td>0</td>\n",
              "    </tr>\n",
              "    <tr>\n",
              "      <th>12</th>\n",
              "      <td>0</td>\n",
              "      <td>0</td>\n",
              "      <td>0</td>\n",
              "      <td>1</td>\n",
              "      <td>2</td>\n",
              "      <td>1</td>\n",
              "      <td>1</td>\n",
              "      <td>1</td>\n",
              "      <td>1</td>\n",
              "      <td>1</td>\n",
              "      <td>...</td>\n",
              "      <td>1</td>\n",
              "      <td>1</td>\n",
              "      <td>1</td>\n",
              "      <td>2</td>\n",
              "      <td>1</td>\n",
              "      <td>1</td>\n",
              "      <td>1</td>\n",
              "      <td>0</td>\n",
              "      <td>0</td>\n",
              "      <td>0</td>\n",
              "    </tr>\n",
              "    <tr>\n",
              "      <th>13</th>\n",
              "      <td>0</td>\n",
              "      <td>0</td>\n",
              "      <td>1</td>\n",
              "      <td>1</td>\n",
              "      <td>1</td>\n",
              "      <td>1</td>\n",
              "      <td>1</td>\n",
              "      <td>1</td>\n",
              "      <td>1</td>\n",
              "      <td>1</td>\n",
              "      <td>...</td>\n",
              "      <td>1</td>\n",
              "      <td>1</td>\n",
              "      <td>1</td>\n",
              "      <td>1</td>\n",
              "      <td>1</td>\n",
              "      <td>2</td>\n",
              "      <td>1</td>\n",
              "      <td>2</td>\n",
              "      <td>0</td>\n",
              "      <td>0</td>\n",
              "    </tr>\n",
              "    <tr>\n",
              "      <th>14</th>\n",
              "      <td>0</td>\n",
              "      <td>0</td>\n",
              "      <td>1</td>\n",
              "      <td>1</td>\n",
              "      <td>1</td>\n",
              "      <td>1</td>\n",
              "      <td>1</td>\n",
              "      <td>1</td>\n",
              "      <td>1</td>\n",
              "      <td>1</td>\n",
              "      <td>...</td>\n",
              "      <td>1</td>\n",
              "      <td>1</td>\n",
              "      <td>1</td>\n",
              "      <td>1</td>\n",
              "      <td>1</td>\n",
              "      <td>1</td>\n",
              "      <td>1</td>\n",
              "      <td>1</td>\n",
              "      <td>0</td>\n",
              "      <td>0</td>\n",
              "    </tr>\n",
              "    <tr>\n",
              "      <th>15</th>\n",
              "      <td>0</td>\n",
              "      <td>1</td>\n",
              "      <td>1</td>\n",
              "      <td>1</td>\n",
              "      <td>1</td>\n",
              "      <td>1</td>\n",
              "      <td>1</td>\n",
              "      <td>1</td>\n",
              "      <td>1</td>\n",
              "      <td>1</td>\n",
              "      <td>...</td>\n",
              "      <td>1</td>\n",
              "      <td>1</td>\n",
              "      <td>1</td>\n",
              "      <td>1</td>\n",
              "      <td>1</td>\n",
              "      <td>1</td>\n",
              "      <td>1</td>\n",
              "      <td>2</td>\n",
              "      <td>0</td>\n",
              "      <td>0</td>\n",
              "    </tr>\n",
              "    <tr>\n",
              "      <th>16</th>\n",
              "      <td>0</td>\n",
              "      <td>1</td>\n",
              "      <td>1</td>\n",
              "      <td>1</td>\n",
              "      <td>1</td>\n",
              "      <td>1</td>\n",
              "      <td>1</td>\n",
              "      <td>1</td>\n",
              "      <td>1</td>\n",
              "      <td>1</td>\n",
              "      <td>...</td>\n",
              "      <td>1</td>\n",
              "      <td>1</td>\n",
              "      <td>1</td>\n",
              "      <td>1</td>\n",
              "      <td>1</td>\n",
              "      <td>1</td>\n",
              "      <td>1</td>\n",
              "      <td>1</td>\n",
              "      <td>1</td>\n",
              "      <td>0</td>\n",
              "    </tr>\n",
              "    <tr>\n",
              "      <th>17</th>\n",
              "      <td>0</td>\n",
              "      <td>1</td>\n",
              "      <td>1</td>\n",
              "      <td>1</td>\n",
              "      <td>1</td>\n",
              "      <td>1</td>\n",
              "      <td>1</td>\n",
              "      <td>1</td>\n",
              "      <td>1</td>\n",
              "      <td>1</td>\n",
              "      <td>...</td>\n",
              "      <td>1</td>\n",
              "      <td>1</td>\n",
              "      <td>1</td>\n",
              "      <td>1</td>\n",
              "      <td>1</td>\n",
              "      <td>1</td>\n",
              "      <td>1</td>\n",
              "      <td>1</td>\n",
              "      <td>1</td>\n",
              "      <td>0</td>\n",
              "    </tr>\n",
              "    <tr>\n",
              "      <th>18</th>\n",
              "      <td>1</td>\n",
              "      <td>1</td>\n",
              "      <td>1</td>\n",
              "      <td>1</td>\n",
              "      <td>1</td>\n",
              "      <td>2</td>\n",
              "      <td>1</td>\n",
              "      <td>1</td>\n",
              "      <td>1</td>\n",
              "      <td>1</td>\n",
              "      <td>...</td>\n",
              "      <td>1</td>\n",
              "      <td>1</td>\n",
              "      <td>1</td>\n",
              "      <td>1</td>\n",
              "      <td>1</td>\n",
              "      <td>1</td>\n",
              "      <td>1</td>\n",
              "      <td>1</td>\n",
              "      <td>2</td>\n",
              "      <td>0</td>\n",
              "    </tr>\n",
              "    <tr>\n",
              "      <th>19</th>\n",
              "      <td>1</td>\n",
              "      <td>1</td>\n",
              "      <td>1</td>\n",
              "      <td>1</td>\n",
              "      <td>2</td>\n",
              "      <td>1</td>\n",
              "      <td>1</td>\n",
              "      <td>1</td>\n",
              "      <td>1</td>\n",
              "      <td>1</td>\n",
              "      <td>...</td>\n",
              "      <td>1</td>\n",
              "      <td>1</td>\n",
              "      <td>1</td>\n",
              "      <td>1</td>\n",
              "      <td>1</td>\n",
              "      <td>1</td>\n",
              "      <td>1</td>\n",
              "      <td>1</td>\n",
              "      <td>2</td>\n",
              "      <td>2</td>\n",
              "    </tr>\n",
              "    <tr>\n",
              "      <th>20</th>\n",
              "      <td>2</td>\n",
              "      <td>1</td>\n",
              "      <td>1</td>\n",
              "      <td>1</td>\n",
              "      <td>1</td>\n",
              "      <td>1</td>\n",
              "      <td>1</td>\n",
              "      <td>1</td>\n",
              "      <td>1</td>\n",
              "      <td>1</td>\n",
              "      <td>...</td>\n",
              "      <td>1</td>\n",
              "      <td>1</td>\n",
              "      <td>1</td>\n",
              "      <td>1</td>\n",
              "      <td>1</td>\n",
              "      <td>1</td>\n",
              "      <td>1</td>\n",
              "      <td>1</td>\n",
              "      <td>2</td>\n",
              "      <td>1</td>\n",
              "    </tr>\n",
              "    <tr>\n",
              "      <th>21</th>\n",
              "      <td>2</td>\n",
              "      <td>1</td>\n",
              "      <td>1</td>\n",
              "      <td>1</td>\n",
              "      <td>1</td>\n",
              "      <td>1</td>\n",
              "      <td>1</td>\n",
              "      <td>1</td>\n",
              "      <td>1</td>\n",
              "      <td>1</td>\n",
              "      <td>...</td>\n",
              "      <td>1</td>\n",
              "      <td>1</td>\n",
              "      <td>1</td>\n",
              "      <td>1</td>\n",
              "      <td>1</td>\n",
              "      <td>1</td>\n",
              "      <td>1</td>\n",
              "      <td>1</td>\n",
              "      <td>1</td>\n",
              "      <td>1</td>\n",
              "    </tr>\n",
              "    <tr>\n",
              "      <th>22</th>\n",
              "      <td>1</td>\n",
              "      <td>1</td>\n",
              "      <td>1</td>\n",
              "      <td>1</td>\n",
              "      <td>1</td>\n",
              "      <td>1</td>\n",
              "      <td>1</td>\n",
              "      <td>1</td>\n",
              "      <td>1</td>\n",
              "      <td>1</td>\n",
              "      <td>...</td>\n",
              "      <td>1</td>\n",
              "      <td>1</td>\n",
              "      <td>1</td>\n",
              "      <td>1</td>\n",
              "      <td>1</td>\n",
              "      <td>1</td>\n",
              "      <td>1</td>\n",
              "      <td>1</td>\n",
              "      <td>1</td>\n",
              "      <td>1</td>\n",
              "    </tr>\n",
              "    <tr>\n",
              "      <th>23</th>\n",
              "      <td>1</td>\n",
              "      <td>1</td>\n",
              "      <td>1</td>\n",
              "      <td>1</td>\n",
              "      <td>1</td>\n",
              "      <td>1</td>\n",
              "      <td>1</td>\n",
              "      <td>1</td>\n",
              "      <td>1</td>\n",
              "      <td>1</td>\n",
              "      <td>...</td>\n",
              "      <td>1</td>\n",
              "      <td>1</td>\n",
              "      <td>1</td>\n",
              "      <td>1</td>\n",
              "      <td>1</td>\n",
              "      <td>1</td>\n",
              "      <td>1</td>\n",
              "      <td>1</td>\n",
              "      <td>1</td>\n",
              "      <td>2</td>\n",
              "    </tr>\n",
              "    <tr>\n",
              "      <th>24</th>\n",
              "      <td>1</td>\n",
              "      <td>1</td>\n",
              "      <td>1</td>\n",
              "      <td>1</td>\n",
              "      <td>1</td>\n",
              "      <td>1</td>\n",
              "      <td>1</td>\n",
              "      <td>1</td>\n",
              "      <td>1</td>\n",
              "      <td>1</td>\n",
              "      <td>...</td>\n",
              "      <td>1</td>\n",
              "      <td>1</td>\n",
              "      <td>1</td>\n",
              "      <td>1</td>\n",
              "      <td>1</td>\n",
              "      <td>1</td>\n",
              "      <td>1</td>\n",
              "      <td>1</td>\n",
              "      <td>1</td>\n",
              "      <td>1</td>\n",
              "    </tr>\n",
              "    <tr>\n",
              "      <th>25</th>\n",
              "      <td>1</td>\n",
              "      <td>1</td>\n",
              "      <td>1</td>\n",
              "      <td>1</td>\n",
              "      <td>1</td>\n",
              "      <td>1</td>\n",
              "      <td>1</td>\n",
              "      <td>1</td>\n",
              "      <td>1</td>\n",
              "      <td>1</td>\n",
              "      <td>...</td>\n",
              "      <td>1</td>\n",
              "      <td>1</td>\n",
              "      <td>1</td>\n",
              "      <td>1</td>\n",
              "      <td>1</td>\n",
              "      <td>1</td>\n",
              "      <td>1</td>\n",
              "      <td>1</td>\n",
              "      <td>1</td>\n",
              "      <td>2</td>\n",
              "    </tr>\n",
              "    <tr>\n",
              "      <th>26</th>\n",
              "      <td>1</td>\n",
              "      <td>1</td>\n",
              "      <td>1</td>\n",
              "      <td>1</td>\n",
              "      <td>1</td>\n",
              "      <td>1</td>\n",
              "      <td>1</td>\n",
              "      <td>1</td>\n",
              "      <td>1</td>\n",
              "      <td>1</td>\n",
              "      <td>...</td>\n",
              "      <td>1</td>\n",
              "      <td>1</td>\n",
              "      <td>1</td>\n",
              "      <td>1</td>\n",
              "      <td>1</td>\n",
              "      <td>1</td>\n",
              "      <td>1</td>\n",
              "      <td>1</td>\n",
              "      <td>1</td>\n",
              "      <td>0</td>\n",
              "    </tr>\n",
              "    <tr>\n",
              "      <th>27</th>\n",
              "      <td>1</td>\n",
              "      <td>1</td>\n",
              "      <td>1</td>\n",
              "      <td>1</td>\n",
              "      <td>1</td>\n",
              "      <td>1</td>\n",
              "      <td>1</td>\n",
              "      <td>1</td>\n",
              "      <td>1</td>\n",
              "      <td>1</td>\n",
              "      <td>...</td>\n",
              "      <td>1</td>\n",
              "      <td>1</td>\n",
              "      <td>1</td>\n",
              "      <td>1</td>\n",
              "      <td>1</td>\n",
              "      <td>1</td>\n",
              "      <td>1</td>\n",
              "      <td>1</td>\n",
              "      <td>1</td>\n",
              "      <td>0</td>\n",
              "    </tr>\n",
              "    <tr>\n",
              "      <th>28</th>\n",
              "      <td>0</td>\n",
              "      <td>1</td>\n",
              "      <td>1</td>\n",
              "      <td>1</td>\n",
              "      <td>1</td>\n",
              "      <td>1</td>\n",
              "      <td>1</td>\n",
              "      <td>1</td>\n",
              "      <td>1</td>\n",
              "      <td>1</td>\n",
              "      <td>...</td>\n",
              "      <td>1</td>\n",
              "      <td>1</td>\n",
              "      <td>1</td>\n",
              "      <td>1</td>\n",
              "      <td>1</td>\n",
              "      <td>1</td>\n",
              "      <td>1</td>\n",
              "      <td>1</td>\n",
              "      <td>2</td>\n",
              "      <td>0</td>\n",
              "    </tr>\n",
              "    <tr>\n",
              "      <th>29</th>\n",
              "      <td>0</td>\n",
              "      <td>1</td>\n",
              "      <td>1</td>\n",
              "      <td>1</td>\n",
              "      <td>1</td>\n",
              "      <td>1</td>\n",
              "      <td>1</td>\n",
              "      <td>1</td>\n",
              "      <td>1</td>\n",
              "      <td>1</td>\n",
              "      <td>...</td>\n",
              "      <td>1</td>\n",
              "      <td>1</td>\n",
              "      <td>1</td>\n",
              "      <td>1</td>\n",
              "      <td>1</td>\n",
              "      <td>1</td>\n",
              "      <td>2</td>\n",
              "      <td>1</td>\n",
              "      <td>2</td>\n",
              "      <td>0</td>\n",
              "    </tr>\n",
              "    <tr>\n",
              "      <th>30</th>\n",
              "      <td>0</td>\n",
              "      <td>1</td>\n",
              "      <td>1</td>\n",
              "      <td>1</td>\n",
              "      <td>1</td>\n",
              "      <td>1</td>\n",
              "      <td>1</td>\n",
              "      <td>1</td>\n",
              "      <td>1</td>\n",
              "      <td>1</td>\n",
              "      <td>...</td>\n",
              "      <td>1</td>\n",
              "      <td>1</td>\n",
              "      <td>1</td>\n",
              "      <td>1</td>\n",
              "      <td>1</td>\n",
              "      <td>1</td>\n",
              "      <td>1</td>\n",
              "      <td>1</td>\n",
              "      <td>0</td>\n",
              "      <td>0</td>\n",
              "    </tr>\n",
              "    <tr>\n",
              "      <th>31</th>\n",
              "      <td>0</td>\n",
              "      <td>0</td>\n",
              "      <td>1</td>\n",
              "      <td>1</td>\n",
              "      <td>1</td>\n",
              "      <td>1</td>\n",
              "      <td>1</td>\n",
              "      <td>1</td>\n",
              "      <td>1</td>\n",
              "      <td>1</td>\n",
              "      <td>...</td>\n",
              "      <td>1</td>\n",
              "      <td>1</td>\n",
              "      <td>1</td>\n",
              "      <td>1</td>\n",
              "      <td>1</td>\n",
              "      <td>1</td>\n",
              "      <td>1</td>\n",
              "      <td>1</td>\n",
              "      <td>0</td>\n",
              "      <td>0</td>\n",
              "    </tr>\n",
              "    <tr>\n",
              "      <th>32</th>\n",
              "      <td>0</td>\n",
              "      <td>0</td>\n",
              "      <td>1</td>\n",
              "      <td>1</td>\n",
              "      <td>1</td>\n",
              "      <td>1</td>\n",
              "      <td>1</td>\n",
              "      <td>1</td>\n",
              "      <td>1</td>\n",
              "      <td>1</td>\n",
              "      <td>...</td>\n",
              "      <td>1</td>\n",
              "      <td>1</td>\n",
              "      <td>1</td>\n",
              "      <td>1</td>\n",
              "      <td>1</td>\n",
              "      <td>1</td>\n",
              "      <td>1</td>\n",
              "      <td>0</td>\n",
              "      <td>0</td>\n",
              "      <td>0</td>\n",
              "    </tr>\n",
              "    <tr>\n",
              "      <th>33</th>\n",
              "      <td>0</td>\n",
              "      <td>0</td>\n",
              "      <td>0</td>\n",
              "      <td>1</td>\n",
              "      <td>1</td>\n",
              "      <td>1</td>\n",
              "      <td>1</td>\n",
              "      <td>1</td>\n",
              "      <td>1</td>\n",
              "      <td>1</td>\n",
              "      <td>...</td>\n",
              "      <td>1</td>\n",
              "      <td>1</td>\n",
              "      <td>1</td>\n",
              "      <td>1</td>\n",
              "      <td>1</td>\n",
              "      <td>1</td>\n",
              "      <td>1</td>\n",
              "      <td>0</td>\n",
              "      <td>0</td>\n",
              "      <td>0</td>\n",
              "    </tr>\n",
              "    <tr>\n",
              "      <th>34</th>\n",
              "      <td>0</td>\n",
              "      <td>0</td>\n",
              "      <td>0</td>\n",
              "      <td>0</td>\n",
              "      <td>1</td>\n",
              "      <td>1</td>\n",
              "      <td>1</td>\n",
              "      <td>1</td>\n",
              "      <td>1</td>\n",
              "      <td>1</td>\n",
              "      <td>...</td>\n",
              "      <td>1</td>\n",
              "      <td>1</td>\n",
              "      <td>1</td>\n",
              "      <td>1</td>\n",
              "      <td>1</td>\n",
              "      <td>1</td>\n",
              "      <td>0</td>\n",
              "      <td>0</td>\n",
              "      <td>0</td>\n",
              "      <td>0</td>\n",
              "    </tr>\n",
              "    <tr>\n",
              "      <th>35</th>\n",
              "      <td>0</td>\n",
              "      <td>0</td>\n",
              "      <td>0</td>\n",
              "      <td>0</td>\n",
              "      <td>1</td>\n",
              "      <td>1</td>\n",
              "      <td>1</td>\n",
              "      <td>1</td>\n",
              "      <td>1</td>\n",
              "      <td>2</td>\n",
              "      <td>...</td>\n",
              "      <td>1</td>\n",
              "      <td>1</td>\n",
              "      <td>1</td>\n",
              "      <td>1</td>\n",
              "      <td>1</td>\n",
              "      <td>0</td>\n",
              "      <td>0</td>\n",
              "      <td>0</td>\n",
              "      <td>0</td>\n",
              "      <td>0</td>\n",
              "    </tr>\n",
              "    <tr>\n",
              "      <th>36</th>\n",
              "      <td>0</td>\n",
              "      <td>0</td>\n",
              "      <td>0</td>\n",
              "      <td>0</td>\n",
              "      <td>0</td>\n",
              "      <td>1</td>\n",
              "      <td>2</td>\n",
              "      <td>1</td>\n",
              "      <td>1</td>\n",
              "      <td>1</td>\n",
              "      <td>...</td>\n",
              "      <td>1</td>\n",
              "      <td>1</td>\n",
              "      <td>1</td>\n",
              "      <td>1</td>\n",
              "      <td>2</td>\n",
              "      <td>0</td>\n",
              "      <td>0</td>\n",
              "      <td>0</td>\n",
              "      <td>0</td>\n",
              "      <td>0</td>\n",
              "    </tr>\n",
              "    <tr>\n",
              "      <th>37</th>\n",
              "      <td>0</td>\n",
              "      <td>0</td>\n",
              "      <td>0</td>\n",
              "      <td>0</td>\n",
              "      <td>0</td>\n",
              "      <td>0</td>\n",
              "      <td>1</td>\n",
              "      <td>1</td>\n",
              "      <td>1</td>\n",
              "      <td>1</td>\n",
              "      <td>...</td>\n",
              "      <td>1</td>\n",
              "      <td>1</td>\n",
              "      <td>1</td>\n",
              "      <td>1</td>\n",
              "      <td>0</td>\n",
              "      <td>0</td>\n",
              "      <td>0</td>\n",
              "      <td>0</td>\n",
              "      <td>0</td>\n",
              "      <td>0</td>\n",
              "    </tr>\n",
              "    <tr>\n",
              "      <th>38</th>\n",
              "      <td>0</td>\n",
              "      <td>0</td>\n",
              "      <td>0</td>\n",
              "      <td>0</td>\n",
              "      <td>0</td>\n",
              "      <td>0</td>\n",
              "      <td>0</td>\n",
              "      <td>1</td>\n",
              "      <td>1</td>\n",
              "      <td>1</td>\n",
              "      <td>...</td>\n",
              "      <td>1</td>\n",
              "      <td>1</td>\n",
              "      <td>1</td>\n",
              "      <td>0</td>\n",
              "      <td>0</td>\n",
              "      <td>0</td>\n",
              "      <td>0</td>\n",
              "      <td>0</td>\n",
              "      <td>0</td>\n",
              "      <td>0</td>\n",
              "    </tr>\n",
              "    <tr>\n",
              "      <th>39</th>\n",
              "      <td>0</td>\n",
              "      <td>0</td>\n",
              "      <td>0</td>\n",
              "      <td>0</td>\n",
              "      <td>0</td>\n",
              "      <td>0</td>\n",
              "      <td>0</td>\n",
              "      <td>0</td>\n",
              "      <td>1</td>\n",
              "      <td>1</td>\n",
              "      <td>...</td>\n",
              "      <td>2</td>\n",
              "      <td>1</td>\n",
              "      <td>0</td>\n",
              "      <td>0</td>\n",
              "      <td>0</td>\n",
              "      <td>0</td>\n",
              "      <td>0</td>\n",
              "      <td>0</td>\n",
              "      <td>0</td>\n",
              "      <td>0</td>\n",
              "    </tr>\n",
              "    <tr>\n",
              "      <th>40</th>\n",
              "      <td>0</td>\n",
              "      <td>0</td>\n",
              "      <td>0</td>\n",
              "      <td>0</td>\n",
              "      <td>0</td>\n",
              "      <td>0</td>\n",
              "      <td>0</td>\n",
              "      <td>0</td>\n",
              "      <td>0</td>\n",
              "      <td>1</td>\n",
              "      <td>...</td>\n",
              "      <td>0</td>\n",
              "      <td>0</td>\n",
              "      <td>0</td>\n",
              "      <td>0</td>\n",
              "      <td>0</td>\n",
              "      <td>0</td>\n",
              "      <td>0</td>\n",
              "      <td>0</td>\n",
              "      <td>0</td>\n",
              "      <td>0</td>\n",
              "    </tr>\n",
              "    <tr>\n",
              "      <th>41</th>\n",
              "      <td>0</td>\n",
              "      <td>0</td>\n",
              "      <td>0</td>\n",
              "      <td>0</td>\n",
              "      <td>0</td>\n",
              "      <td>0</td>\n",
              "      <td>0</td>\n",
              "      <td>0</td>\n",
              "      <td>0</td>\n",
              "      <td>0</td>\n",
              "      <td>...</td>\n",
              "      <td>0</td>\n",
              "      <td>0</td>\n",
              "      <td>0</td>\n",
              "      <td>0</td>\n",
              "      <td>0</td>\n",
              "      <td>0</td>\n",
              "      <td>0</td>\n",
              "      <td>0</td>\n",
              "      <td>0</td>\n",
              "      <td>0</td>\n",
              "    </tr>\n",
              "    <tr>\n",
              "      <th>42</th>\n",
              "      <td>0</td>\n",
              "      <td>0</td>\n",
              "      <td>0</td>\n",
              "      <td>0</td>\n",
              "      <td>0</td>\n",
              "      <td>0</td>\n",
              "      <td>0</td>\n",
              "      <td>0</td>\n",
              "      <td>0</td>\n",
              "      <td>0</td>\n",
              "      <td>...</td>\n",
              "      <td>0</td>\n",
              "      <td>0</td>\n",
              "      <td>0</td>\n",
              "      <td>0</td>\n",
              "      <td>0</td>\n",
              "      <td>0</td>\n",
              "      <td>0</td>\n",
              "      <td>0</td>\n",
              "      <td>0</td>\n",
              "      <td>0</td>\n",
              "    </tr>\n",
              "    <tr>\n",
              "      <th>43</th>\n",
              "      <td>0</td>\n",
              "      <td>0</td>\n",
              "      <td>0</td>\n",
              "      <td>0</td>\n",
              "      <td>0</td>\n",
              "      <td>0</td>\n",
              "      <td>0</td>\n",
              "      <td>0</td>\n",
              "      <td>0</td>\n",
              "      <td>0</td>\n",
              "      <td>...</td>\n",
              "      <td>0</td>\n",
              "      <td>0</td>\n",
              "      <td>0</td>\n",
              "      <td>0</td>\n",
              "      <td>0</td>\n",
              "      <td>0</td>\n",
              "      <td>0</td>\n",
              "      <td>0</td>\n",
              "      <td>0</td>\n",
              "      <td>0</td>\n",
              "    </tr>\n",
              "    <tr>\n",
              "      <th>44</th>\n",
              "      <td>0</td>\n",
              "      <td>0</td>\n",
              "      <td>0</td>\n",
              "      <td>0</td>\n",
              "      <td>0</td>\n",
              "      <td>0</td>\n",
              "      <td>0</td>\n",
              "      <td>0</td>\n",
              "      <td>0</td>\n",
              "      <td>0</td>\n",
              "      <td>...</td>\n",
              "      <td>0</td>\n",
              "      <td>0</td>\n",
              "      <td>0</td>\n",
              "      <td>0</td>\n",
              "      <td>0</td>\n",
              "      <td>0</td>\n",
              "      <td>0</td>\n",
              "      <td>0</td>\n",
              "      <td>0</td>\n",
              "      <td>0</td>\n",
              "    </tr>\n",
              "  </tbody>\n",
              "</table>\n",
              "<p>45 rows × 48 columns</p>\n",
              "</div>"
            ],
            "text/plain": [
              "    0   1   2   3   4   5   6   7   8   9   ...  38  39  40  41  42  43  44  \\\n",
              "0    0   0   0   0   0   0   0   0   0   0  ...   0   0   0   0   0   0   0   \n",
              "1    0   0   0   0   0   0   0   0   0   0  ...   0   0   0   0   0   0   0   \n",
              "2    0   0   0   0   0   0   0   0   0   0  ...   0   0   0   0   0   0   0   \n",
              "3    0   0   0   0   0   0   0   0   0   0  ...   0   0   0   0   0   0   0   \n",
              "4    0   0   0   0   0   0   0   0   0   0  ...   0   0   0   0   0   0   0   \n",
              "5    0   0   0   0   0   0   0   0   0   1  ...   1   0   0   0   0   0   0   \n",
              "6    0   0   0   0   0   0   0   1   1   1  ...   1   1   0   0   0   0   0   \n",
              "7    0   0   0   0   0   0   1   1   1   1  ...   1   1   1   0   0   0   0   \n",
              "8    0   0   0   0   0   1   1   1   1   1  ...   1   1   1   1   0   0   0   \n",
              "9    0   0   0   0   0   1   1   1   1   1  ...   1   1   1   1   1   0   0   \n",
              "10   0   0   0   0   2   2   1   1   1   1  ...   1   1   1   1   1   1   0   \n",
              "11   0   0   0   1   1   1   1   1   1   1  ...   1   2   1   2   1   1   0   \n",
              "12   0   0   0   1   2   1   1   1   1   1  ...   1   1   1   2   1   1   1   \n",
              "13   0   0   1   1   1   1   1   1   1   1  ...   1   1   1   1   1   2   1   \n",
              "14   0   0   1   1   1   1   1   1   1   1  ...   1   1   1   1   1   1   1   \n",
              "15   0   1   1   1   1   1   1   1   1   1  ...   1   1   1   1   1   1   1   \n",
              "16   0   1   1   1   1   1   1   1   1   1  ...   1   1   1   1   1   1   1   \n",
              "17   0   1   1   1   1   1   1   1   1   1  ...   1   1   1   1   1   1   1   \n",
              "18   1   1   1   1   1   2   1   1   1   1  ...   1   1   1   1   1   1   1   \n",
              "19   1   1   1   1   2   1   1   1   1   1  ...   1   1   1   1   1   1   1   \n",
              "20   2   1   1   1   1   1   1   1   1   1  ...   1   1   1   1   1   1   1   \n",
              "21   2   1   1   1   1   1   1   1   1   1  ...   1   1   1   1   1   1   1   \n",
              "22   1   1   1   1   1   1   1   1   1   1  ...   1   1   1   1   1   1   1   \n",
              "23   1   1   1   1   1   1   1   1   1   1  ...   1   1   1   1   1   1   1   \n",
              "24   1   1   1   1   1   1   1   1   1   1  ...   1   1   1   1   1   1   1   \n",
              "25   1   1   1   1   1   1   1   1   1   1  ...   1   1   1   1   1   1   1   \n",
              "26   1   1   1   1   1   1   1   1   1   1  ...   1   1   1   1   1   1   1   \n",
              "27   1   1   1   1   1   1   1   1   1   1  ...   1   1   1   1   1   1   1   \n",
              "28   0   1   1   1   1   1   1   1   1   1  ...   1   1   1   1   1   1   1   \n",
              "29   0   1   1   1   1   1   1   1   1   1  ...   1   1   1   1   1   1   2   \n",
              "30   0   1   1   1   1   1   1   1   1   1  ...   1   1   1   1   1   1   1   \n",
              "31   0   0   1   1   1   1   1   1   1   1  ...   1   1   1   1   1   1   1   \n",
              "32   0   0   1   1   1   1   1   1   1   1  ...   1   1   1   1   1   1   1   \n",
              "33   0   0   0   1   1   1   1   1   1   1  ...   1   1   1   1   1   1   1   \n",
              "34   0   0   0   0   1   1   1   1   1   1  ...   1   1   1   1   1   1   0   \n",
              "35   0   0   0   0   1   1   1   1   1   2  ...   1   1   1   1   1   0   0   \n",
              "36   0   0   0   0   0   1   2   1   1   1  ...   1   1   1   1   2   0   0   \n",
              "37   0   0   0   0   0   0   1   1   1   1  ...   1   1   1   1   0   0   0   \n",
              "38   0   0   0   0   0   0   0   1   1   1  ...   1   1   1   0   0   0   0   \n",
              "39   0   0   0   0   0   0   0   0   1   1  ...   2   1   0   0   0   0   0   \n",
              "40   0   0   0   0   0   0   0   0   0   1  ...   0   0   0   0   0   0   0   \n",
              "41   0   0   0   0   0   0   0   0   0   0  ...   0   0   0   0   0   0   0   \n",
              "42   0   0   0   0   0   0   0   0   0   0  ...   0   0   0   0   0   0   0   \n",
              "43   0   0   0   0   0   0   0   0   0   0  ...   0   0   0   0   0   0   0   \n",
              "44   0   0   0   0   0   0   0   0   0   0  ...   0   0   0   0   0   0   0   \n",
              "\n",
              "    45  46  47  \n",
              "0    0   0   0  \n",
              "1    0   0   0  \n",
              "2    0   0   0  \n",
              "3    0   0   0  \n",
              "4    0   0   0  \n",
              "5    0   0   0  \n",
              "6    0   0   0  \n",
              "7    0   0   0  \n",
              "8    0   0   0  \n",
              "9    0   0   0  \n",
              "10   0   0   0  \n",
              "11   0   0   0  \n",
              "12   0   0   0  \n",
              "13   2   0   0  \n",
              "14   1   0   0  \n",
              "15   2   0   0  \n",
              "16   1   1   0  \n",
              "17   1   1   0  \n",
              "18   1   2   0  \n",
              "19   1   2   2  \n",
              "20   1   2   1  \n",
              "21   1   1   1  \n",
              "22   1   1   1  \n",
              "23   1   1   2  \n",
              "24   1   1   1  \n",
              "25   1   1   2  \n",
              "26   1   1   0  \n",
              "27   1   1   0  \n",
              "28   1   2   0  \n",
              "29   1   2   0  \n",
              "30   1   0   0  \n",
              "31   1   0   0  \n",
              "32   0   0   0  \n",
              "33   0   0   0  \n",
              "34   0   0   0  \n",
              "35   0   0   0  \n",
              "36   0   0   0  \n",
              "37   0   0   0  \n",
              "38   0   0   0  \n",
              "39   0   0   0  \n",
              "40   0   0   0  \n",
              "41   0   0   0  \n",
              "42   0   0   0  \n",
              "43   0   0   0  \n",
              "44   0   0   0  \n",
              "\n",
              "[45 rows x 48 columns]"
            ]
          },
          "metadata": {},
          "execution_count": 30
        }
      ],
      "metadata": {}
    },
    {
      "cell_type": "code",
      "execution_count": 20,
      "source": [
        "plt.hist(heights, bins=50)\r\n",
        "plt.xlim(0,100)\r\n",
        "plt.show()"
      ],
      "outputs": [
        {
          "output_type": "display_data",
          "data": {
            "image/png": "[encoded data removed]",
            "text/plain": [
              "<Figure size 432x288 with 1 Axes>"
            ]
          },
          "metadata": {
            "needs_background": "light"
          }
        }
      ],
      "metadata": {}
    },
    {
      "cell_type": "code",
      "execution_count": 21,
      "source": [
        "plt.hist(widths, bins=50)\r\n",
        "plt.xlim(0,100)\r\n",
        "plt.show()"
      ],
      "outputs": [
        {
          "output_type": "display_data",
          "data": {
            "image/png": "[encoded data removed]",
            "text/plain": [
              "<Figure size 432x288 with 1 Axes>"
            ]
          },
          "metadata": {
            "needs_background": "light"
          }
        }
      ],
      "metadata": {}
    },
    {
      "cell_type": "code",
      "execution_count": 22,
      "source": [
        "df.iloc[1].waferMap[:,:,np.newaxis].shape"
      ],
      "outputs": [
        {
          "output_type": "execute_result",
          "data": {
            "text/plain": [
              "(45, 48, 1)"
            ]
          },
          "metadata": {},
          "execution_count": 22
        }
      ],
      "metadata": {}
    },
    {
      "cell_type": "code",
      "execution_count": 23,
      "source": [
        "len(df)"
      ],
      "outputs": [
        {
          "output_type": "execute_result",
          "data": {
            "text/plain": [
              "172950"
            ]
          },
          "metadata": {},
          "execution_count": 23
        }
      ],
      "metadata": {}
    },
    {
      "cell_type": "markdown",
      "source": [
        "## Resize"
      ],
      "metadata": {}
    },
    {
      "cell_type": "code",
      "execution_count": 31,
      "source": [
        "label = np.empty((len(df),1), dtype=int)\r\n",
        "W = torch.zeros((len(df), 128, 128))\r\n",
        "transform = T.Resize((128, 128), interpolation=T.InterpolationMode.BICUBIC)\r\n",
        "for i in tqdm(range(len(df))):\r\n",
        "    wfmap = df.iloc[i].waferMap[np.newaxis,:,:]\r\n",
        "    wfmap = torch.as_tensor(wfmap)\r\n",
        "    resized = transform(wfmap)\r\n",
        "    W[i] = resized\r\n",
        "    label[i] = df.iloc[i].failureType\r\n",
        "# About 1600iter/s"
      ],
      "outputs": [
        {
          "output_type": "stream",
          "name": "stderr",
          "text": [
            "100%|██████████| 172950/172950 [01:41<00:00, 1702.58it/s]\n"
          ]
        }
      ],
      "metadata": {}
    },
    {
      "cell_type": "code",
      "execution_count": null,
      "source": [
        "#### BAD WAY #####\r\n",
        "'''\r\n",
        "label = []\r\n",
        "W = torch.zeros((1, 96, 96)).to(device)\r\n",
        "transform = T.Resize((96, 96), interpolation=T.InterpolationMode.BICUBIC)\r\n",
        "\r\n",
        "for i in tqdm(range(len(df))):\r\n",
        "    wfmap = df.iloc[i].waferMap[np.newaxis,:,:]\r\n",
        "    wfmap = torch.tensor(wfmap).to(device)\r\n",
        "    resized = transform(wfmap)\r\n",
        "    W = torch.vstack((W, resized))\r\n",
        "    label.append(df.iloc[i].failureType)\r\n",
        "    '''\r\n",
        "# About 200iteration/s"
      ],
      "outputs": [],
      "metadata": {}
    },
    {
      "cell_type": "code",
      "execution_count": 43,
      "source": [
        "# check dimension\r\n",
        "W = np.array(W, dtype=np.uint8)\r\n",
        "x = np.array(W, dtype=np.uint8)\r\n",
        "x = x[:,np.newaxis,:,:]\r\n",
        "y = np.array(label, dtype=np.uint8).reshape(-1, 1)\r\n",
        "\r\n",
        "print('x shape : {}, y shape : {}'.format(x.shape, y.shape))"
      ],
      "outputs": [
        {
          "output_type": "stream",
          "name": "stdout",
          "text": [
            "x shape : (172950, 1, 128, 128), y shape : (172950, 1)\n"
          ]
        }
      ],
      "metadata": {}
    },
    {
      "cell_type": "code",
      "execution_count": 45,
      "source": [
        "# plot 1st data\r\n",
        "plt.imshow(x[0][0])\r\n",
        "plt.show()\r\n",
        "\r\n",
        "# check faulty case\r\n",
        "print('Faulty case : {} '.format(y[500]))"
      ],
      "outputs": [
        {
          "output_type": "display_data",
          "data": {
            "image/png": "[encoded data removed]",
            "text/plain": [
              "<Figure size 432x288 with 1 Axes>"
            ]
          },
          "metadata": {
            "needs_background": "light"
          }
        },
        {
          "output_type": "stream",
          "name": "stdout",
          "text": [
            "Faulty case : [8] \n"
          ]
        }
      ],
      "metadata": {
        "_uuid": "26ce470baf87a73737b28792e8de5990c8d40d1f",
        "colab": {
          "base_uri": "https://localhost:8080/",
          "height": 283
        },
        "id": "Rl4cJHUpYYJD",
        "outputId": "00ab931b-9d50-4b75-da6b-90d3b6cf995d"
      }
    },
    {
      "cell_type": "code",
      "execution_count": 46,
      "source": [
        "faulty_case = np.unique(y)\r\n",
        "print('Faulty case list : {}'.format(faulty_case))\r\n",
        "\r\n",
        "faulty_case_dict = {}\r\n",
        "for i, f in enumerate(faulty_case) :\r\n",
        "    print('{} : {}'.format(f, len(y[y==f]))) # y[y==f] : y에서 y==f인 행들만 뽑는다\r\n",
        "    faulty_case_dict[i] = f"
      ],
      "outputs": [
        {
          "output_type": "stream",
          "name": "stdout",
          "text": [
            "Faulty case list : [0 1 2 3 4 5 6 7 8]\n",
            "0 : 4294\n",
            "1 : 555\n",
            "2 : 5189\n",
            "3 : 9680\n",
            "4 : 3593\n",
            "5 : 149\n",
            "6 : 866\n",
            "7 : 1193\n",
            "8 : 147431\n"
          ]
        }
      ],
      "metadata": {
        "_uuid": "85080e6018ed8b1e1e68dbcdf6177fb7a8a92213",
        "colab": {
          "base_uri": "https://localhost:8080/"
        },
        "id": "GvSGRW49YYJF",
        "outputId": "b674cc28-1a8c-4c2b-d5ad-1259240a5346"
      }
    },
    {
      "cell_type": "code",
      "execution_count": null,
      "source": [
        "'''\r\n",
        "# One-Hot Encoding\r\n",
        "new_x = np.empty((len(x), 4, 128, 128),dtype=int)\r\n",
        "\r\n",
        "for w in tqdm(range(len(x))):\r\n",
        "    for i in range(128):\r\n",
        "        for j in range(128):\r\n",
        "            new_x[w, int(x[w, :, i, j]), i, j] = 1\r\n",
        "            '''"
      ],
      "outputs": [],
      "metadata": {}
    },
    {
      "cell_type": "markdown",
      "source": [
        "# Convolutional Autoencoder for augmentation.\r\n",
        "불균형 문제를 해결할 필요성을 확인함. <br>\r\n",
        "이미지 데이터인 wafermap을 convolution AE를 활용해 해결시도"
      ],
      "metadata": {
        "_uuid": "5330346f0dccf25331724403406c0e848541fb9a",
        "id": "CaU-rfLnYYJH"
      }
    },
    {
      "cell_type": "markdown",
      "source": [
        "## 모델 구조"
      ],
      "metadata": {}
    },
    {
      "cell_type": "code",
      "execution_count": 56,
      "source": [
        "class Encoder(nn.Module):\r\n",
        "    def __init__(self):\r\n",
        "        super(Encoder, self).__init__()\r\n",
        "        self.encode1 = self.encoder_block(1, 16)\r\n",
        "        self.encode2 = self.encoder_block(16, 32)\r\n",
        "        self.encode3 = self.encoder_block(32, 64)\r\n",
        "        self.encode4 = self.encoder_block(64, 128)\r\n",
        "        self.encode5 = self.encoder_block(128, 256)\r\n",
        "        self.maxpool = nn.MaxPool2d(kernel_size=2)\r\n",
        "\r\n",
        "    def encoder_block(self, c_in, c_out):  # Conv2d - relu - batchnorm 수행 \r\n",
        "        encode = nn.Sequential(\r\n",
        "            nn.Conv2d(c_in, c_out, kernel_size=3, padding=1),\r\n",
        "            nn.ReLU(),\r\n",
        "            nn.BatchNorm2d(c_out)\r\n",
        "        )\r\n",
        "        return encode\r\n",
        "\r\n",
        "    def forward(self, x):               # Encode x 3 -maxpool-encode-maxpool-encode      \r\n",
        "        x = self.encode1(x)                   \r\n",
        "        x = self.encode2(x)\r\n",
        "        x = self.maxpool(x)\r\n",
        "        x = self.encode3(x)\r\n",
        "        x = self.encode4(x)\r\n",
        "        x = self.maxpool(x)      \r\n",
        "        x = self.encode5(x)                 \r\n",
        "        return x \r\n",
        "BATCH_SIZE = 256\r\n",
        "summary(Encoder(), torch.zeros(BATCH_SIZE, 1, 128, 128))"
      ],
      "outputs": [
        {
          "output_type": "stream",
          "name": "stdout",
          "text": [
            "======================================================================================\n",
            "                              Kernel Shape         Output Shape    Params  \\\n",
            "Layer                                                                       \n",
            "0_encode1.Conv2d_0           [1, 16, 3, 3]  [256, 16, 128, 128]     160.0   \n",
            "1_encode1.ReLU_1                         -  [256, 16, 128, 128]         -   \n",
            "2_encode1.BatchNorm2d_2               [16]  [256, 16, 128, 128]      32.0   \n",
            "3_encode2.Conv2d_0          [16, 32, 3, 3]  [256, 32, 128, 128]     4.64k   \n",
            "4_encode2.ReLU_1                         -  [256, 32, 128, 128]         -   \n",
            "5_encode2.BatchNorm2d_2               [32]  [256, 32, 128, 128]      64.0   \n",
            "6_maxpool                                -    [256, 32, 64, 64]         -   \n",
            "7_encode3.Conv2d_0          [32, 64, 3, 3]    [256, 64, 64, 64]   18.496k   \n",
            "8_encode3.ReLU_1                         -    [256, 64, 64, 64]         -   \n",
            "9_encode3.BatchNorm2d_2               [64]    [256, 64, 64, 64]     128.0   \n",
            "10_encode4.Conv2d_0        [64, 128, 3, 3]   [256, 128, 64, 64]   73.856k   \n",
            "11_encode4.ReLU_1                        -   [256, 128, 64, 64]         -   \n",
            "12_encode4.BatchNorm2d_2             [128]   [256, 128, 64, 64]     256.0   \n",
            "13_maxpool                               -   [256, 128, 32, 32]         -   \n",
            "14_encode5.Conv2d_0       [128, 256, 3, 3]   [256, 256, 32, 32]  295.168k   \n",
            "15_encode5.ReLU_1                        -   [256, 256, 32, 32]         -   \n",
            "16_encode5.BatchNorm2d_2             [256]   [256, 256, 32, 32]     512.0   \n",
            "\n",
            "                            Mult-Adds  \n",
            "Layer                                  \n",
            "0_encode1.Conv2d_0          2.359296M  \n",
            "1_encode1.ReLU_1                    -  \n",
            "2_encode1.BatchNorm2d_2          16.0  \n",
            "3_encode2.Conv2d_0         75.497472M  \n",
            "4_encode2.ReLU_1                    -  \n",
            "5_encode2.BatchNorm2d_2          32.0  \n",
            "6_maxpool                           -  \n",
            "7_encode3.Conv2d_0         75.497472M  \n",
            "8_encode3.ReLU_1                    -  \n",
            "9_encode3.BatchNorm2d_2          64.0  \n",
            "10_encode4.Conv2d_0       301.989888M  \n",
            "11_encode4.ReLU_1                   -  \n",
            "12_encode4.BatchNorm2d_2        128.0  \n",
            "13_maxpool                          -  \n",
            "14_encode5.Conv2d_0       301.989888M  \n",
            "15_encode5.ReLU_1                   -  \n",
            "16_encode5.BatchNorm2d_2        256.0  \n",
            "--------------------------------------------------------------------------------------\n",
            "                           Totals\n",
            "Total params             393.312k\n",
            "Trainable params         393.312k\n",
            "Non-trainable params          0.0\n",
            "Mult-Adds             757.334512M\n",
            "======================================================================================\n"
          ]
        },
        {
          "output_type": "stream",
          "name": "stderr",
          "text": [
            "C:\\Users\\user\\anaconda3\\envs\\torch180\\lib\\site-packages\\torchsummaryX\\torchsummaryX.py:101: FutureWarning: Dropping of nuisance columns in DataFrame reductions (with 'numeric_only=None') is deprecated; in a future version this will raise TypeError.  Select only valid columns before calling the reduction.\n",
            "  df_sum = df.sum()\n"
          ]
        },
        {
          "output_type": "execute_result",
          "data": {
            "text/html": [
              "<div>\n",
              "<style scoped>\n",
              "    .dataframe tbody tr th:only-of-type {\n",
              "        vertical-align: middle;\n",
              "    }\n",
              "\n",
              "    .dataframe tbody tr th {\n",
              "        vertical-align: top;\n",
              "    }\n",
              "\n",
              "    .dataframe thead th {\n",
              "        text-align: right;\n",
              "    }\n",
              "</style>\n",
              "<table border=\"1\" class=\"dataframe\">\n",
              "  <thead>\n",
              "    <tr style=\"text-align: right;\">\n",
              "      <th></th>\n",
              "      <th>Kernel Shape</th>\n",
              "      <th>Output Shape</th>\n",
              "      <th>Params</th>\n",
              "      <th>Mult-Adds</th>\n",
              "    </tr>\n",
              "    <tr>\n",
              "      <th>Layer</th>\n",
              "      <th></th>\n",
              "      <th></th>\n",
              "      <th></th>\n",
              "      <th></th>\n",
              "    </tr>\n",
              "  </thead>\n",
              "  <tbody>\n",
              "    <tr>\n",
              "      <th>0_encode1.Conv2d_0</th>\n",
              "      <td>[1, 16, 3, 3]</td>\n",
              "      <td>[256, 16, 128, 128]</td>\n",
              "      <td>160.0</td>\n",
              "      <td>2359296.0</td>\n",
              "    </tr>\n",
              "    <tr>\n",
              "      <th>1_encode1.ReLU_1</th>\n",
              "      <td>-</td>\n",
              "      <td>[256, 16, 128, 128]</td>\n",
              "      <td>NaN</td>\n",
              "      <td>NaN</td>\n",
              "    </tr>\n",
              "    <tr>\n",
              "      <th>2_encode1.BatchNorm2d_2</th>\n",
              "      <td>[16]</td>\n",
              "      <td>[256, 16, 128, 128]</td>\n",
              "      <td>32.0</td>\n",
              "      <td>16.0</td>\n",
              "    </tr>\n",
              "    <tr>\n",
              "      <th>3_encode2.Conv2d_0</th>\n",
              "      <td>[16, 32, 3, 3]</td>\n",
              "      <td>[256, 32, 128, 128]</td>\n",
              "      <td>4640.0</td>\n",
              "      <td>75497472.0</td>\n",
              "    </tr>\n",
              "    <tr>\n",
              "      <th>4_encode2.ReLU_1</th>\n",
              "      <td>-</td>\n",
              "      <td>[256, 32, 128, 128]</td>\n",
              "      <td>NaN</td>\n",
              "      <td>NaN</td>\n",
              "    </tr>\n",
              "    <tr>\n",
              "      <th>5_encode2.BatchNorm2d_2</th>\n",
              "      <td>[32]</td>\n",
              "      <td>[256, 32, 128, 128]</td>\n",
              "      <td>64.0</td>\n",
              "      <td>32.0</td>\n",
              "    </tr>\n",
              "    <tr>\n",
              "      <th>6_maxpool</th>\n",
              "      <td>-</td>\n",
              "      <td>[256, 32, 64, 64]</td>\n",
              "      <td>NaN</td>\n",
              "      <td>NaN</td>\n",
              "    </tr>\n",
              "    <tr>\n",
              "      <th>7_encode3.Conv2d_0</th>\n",
              "      <td>[32, 64, 3, 3]</td>\n",
              "      <td>[256, 64, 64, 64]</td>\n",
              "      <td>18496.0</td>\n",
              "      <td>75497472.0</td>\n",
              "    </tr>\n",
              "    <tr>\n",
              "      <th>8_encode3.ReLU_1</th>\n",
              "      <td>-</td>\n",
              "      <td>[256, 64, 64, 64]</td>\n",
              "      <td>NaN</td>\n",
              "      <td>NaN</td>\n",
              "    </tr>\n",
              "    <tr>\n",
              "      <th>9_encode3.BatchNorm2d_2</th>\n",
              "      <td>[64]</td>\n",
              "      <td>[256, 64, 64, 64]</td>\n",
              "      <td>128.0</td>\n",
              "      <td>64.0</td>\n",
              "    </tr>\n",
              "    <tr>\n",
              "      <th>10_encode4.Conv2d_0</th>\n",
              "      <td>[64, 128, 3, 3]</td>\n",
              "      <td>[256, 128, 64, 64]</td>\n",
              "      <td>73856.0</td>\n",
              "      <td>301989888.0</td>\n",
              "    </tr>\n",
              "    <tr>\n",
              "      <th>11_encode4.ReLU_1</th>\n",
              "      <td>-</td>\n",
              "      <td>[256, 128, 64, 64]</td>\n",
              "      <td>NaN</td>\n",
              "      <td>NaN</td>\n",
              "    </tr>\n",
              "    <tr>\n",
              "      <th>12_encode4.BatchNorm2d_2</th>\n",
              "      <td>[128]</td>\n",
              "      <td>[256, 128, 64, 64]</td>\n",
              "      <td>256.0</td>\n",
              "      <td>128.0</td>\n",
              "    </tr>\n",
              "    <tr>\n",
              "      <th>13_maxpool</th>\n",
              "      <td>-</td>\n",
              "      <td>[256, 128, 32, 32]</td>\n",
              "      <td>NaN</td>\n",
              "      <td>NaN</td>\n",
              "    </tr>\n",
              "    <tr>\n",
              "      <th>14_encode5.Conv2d_0</th>\n",
              "      <td>[128, 256, 3, 3]</td>\n",
              "      <td>[256, 256, 32, 32]</td>\n",
              "      <td>295168.0</td>\n",
              "      <td>301989888.0</td>\n",
              "    </tr>\n",
              "    <tr>\n",
              "      <th>15_encode5.ReLU_1</th>\n",
              "      <td>-</td>\n",
              "      <td>[256, 256, 32, 32]</td>\n",
              "      <td>NaN</td>\n",
              "      <td>NaN</td>\n",
              "    </tr>\n",
              "    <tr>\n",
              "      <th>16_encode5.BatchNorm2d_2</th>\n",
              "      <td>[256]</td>\n",
              "      <td>[256, 256, 32, 32]</td>\n",
              "      <td>512.0</td>\n",
              "      <td>256.0</td>\n",
              "    </tr>\n",
              "  </tbody>\n",
              "</table>\n",
              "</div>"
            ],
            "text/plain": [
              "                              Kernel Shape         Output Shape    Params  \\\n",
              "Layer                                                                       \n",
              "0_encode1.Conv2d_0           [1, 16, 3, 3]  [256, 16, 128, 128]     160.0   \n",
              "1_encode1.ReLU_1                         -  [256, 16, 128, 128]       NaN   \n",
              "2_encode1.BatchNorm2d_2               [16]  [256, 16, 128, 128]      32.0   \n",
              "3_encode2.Conv2d_0          [16, 32, 3, 3]  [256, 32, 128, 128]    4640.0   \n",
              "4_encode2.ReLU_1                         -  [256, 32, 128, 128]       NaN   \n",
              "5_encode2.BatchNorm2d_2               [32]  [256, 32, 128, 128]      64.0   \n",
              "6_maxpool                                -    [256, 32, 64, 64]       NaN   \n",
              "7_encode3.Conv2d_0          [32, 64, 3, 3]    [256, 64, 64, 64]   18496.0   \n",
              "8_encode3.ReLU_1                         -    [256, 64, 64, 64]       NaN   \n",
              "9_encode3.BatchNorm2d_2               [64]    [256, 64, 64, 64]     128.0   \n",
              "10_encode4.Conv2d_0        [64, 128, 3, 3]   [256, 128, 64, 64]   73856.0   \n",
              "11_encode4.ReLU_1                        -   [256, 128, 64, 64]       NaN   \n",
              "12_encode4.BatchNorm2d_2             [128]   [256, 128, 64, 64]     256.0   \n",
              "13_maxpool                               -   [256, 128, 32, 32]       NaN   \n",
              "14_encode5.Conv2d_0       [128, 256, 3, 3]   [256, 256, 32, 32]  295168.0   \n",
              "15_encode5.ReLU_1                        -   [256, 256, 32, 32]       NaN   \n",
              "16_encode5.BatchNorm2d_2             [256]   [256, 256, 32, 32]     512.0   \n",
              "\n",
              "                            Mult-Adds  \n",
              "Layer                                  \n",
              "0_encode1.Conv2d_0          2359296.0  \n",
              "1_encode1.ReLU_1                  NaN  \n",
              "2_encode1.BatchNorm2d_2          16.0  \n",
              "3_encode2.Conv2d_0         75497472.0  \n",
              "4_encode2.ReLU_1                  NaN  \n",
              "5_encode2.BatchNorm2d_2          32.0  \n",
              "6_maxpool                         NaN  \n",
              "7_encode3.Conv2d_0         75497472.0  \n",
              "8_encode3.ReLU_1                  NaN  \n",
              "9_encode3.BatchNorm2d_2          64.0  \n",
              "10_encode4.Conv2d_0       301989888.0  \n",
              "11_encode4.ReLU_1                 NaN  \n",
              "12_encode4.BatchNorm2d_2        128.0  \n",
              "13_maxpool                        NaN  \n",
              "14_encode5.Conv2d_0       301989888.0  \n",
              "15_encode5.ReLU_1                 NaN  \n",
              "16_encode5.BatchNorm2d_2        256.0  "
            ]
          },
          "metadata": {},
          "execution_count": 56
        }
      ],
      "metadata": {}
    },
    {
      "cell_type": "code",
      "execution_count": 57,
      "source": [
        "# Upsampling할때 Conv2d로 업샘플링하는거 실패.\r\n",
        "class Decoder(nn.Module):\r\n",
        "    def __init__(self):\r\n",
        "        super(Decoder, self).__init__()\r\n",
        "        self.decode1 = self.decoder_block(256, 128)             \r\n",
        "        self.decode2 = self.decoder_block(128, 64, stride=2, output_padding=1)  # Upsample\r\n",
        "        self.decode3 = self.decoder_block(64, 32)\r\n",
        "        self.decode4 = self.decoder_block(32, 16, stride=2, output_padding=1)   # Upsample\r\n",
        "        self.decode5 = self.decoder_block(16, 1)              \r\n",
        "        self.upsample = nn.Upsample(scale_factor=2, mode='nearest')\r\n",
        "        self.upsample_bicubic = nn.Upsample(scale_factor=2, mode='bicubic', align_corners=True)\r\n",
        "\r\n",
        "    def decoder_block(self, c_in, c_out, stride=1, padding=1, output_padding=0):             \r\n",
        "        decode = nn.Sequential(\r\n",
        "            nn.ConvTranspose2d(\r\n",
        "                c_in, c_out, kernel_size=3, stride=stride, \r\n",
        "                padding=padding, output_padding=output_padding\r\n",
        "                ), # ConvTR2d - relu - batchnorm 수행, stride가 주어질 경우 upsample, output에 padding 추가\r\n",
        "            nn.ReLU(),\r\n",
        "            nn.BatchNorm2d(c_out), \r\n",
        "        )\r\n",
        "        return decode\r\n",
        "\r\n",
        "    def forward(self, x):\r\n",
        "        x = self.decode1(x)           \r\n",
        "        x = self.decode2(x)\r\n",
        "        x = self.decode3(x)\r\n",
        "        x = self.decode4(x)\r\n",
        "        x = self.decode5(x) \r\n",
        "        return x\r\n",
        "        \r\n",
        "summary(Decoder(), torch.zeros(BATCH_SIZE, 256, 32, 32))"
      ],
      "outputs": [
        {
          "output_type": "stream",
          "name": "stdout",
          "text": [
            "==========================================================================================\n",
            "                                  Kernel Shape         Output Shape   Params  \\\n",
            "Layer                                                                          \n",
            "0_decode1.ConvTranspose2d_0   [128, 256, 3, 3]   [256, 128, 32, 32]  295.04k   \n",
            "1_decode1.ReLU_1                             -   [256, 128, 32, 32]        -   \n",
            "2_decode1.BatchNorm2d_2                  [128]   [256, 128, 32, 32]    256.0   \n",
            "3_decode2.ConvTranspose2d_0    [64, 128, 3, 3]    [256, 64, 64, 64]  73.792k   \n",
            "4_decode2.ReLU_1                             -    [256, 64, 64, 64]        -   \n",
            "5_decode2.BatchNorm2d_2                   [64]    [256, 64, 64, 64]    128.0   \n",
            "6_decode3.ConvTranspose2d_0     [32, 64, 3, 3]    [256, 32, 64, 64]  18.464k   \n",
            "7_decode3.ReLU_1                             -    [256, 32, 64, 64]        -   \n",
            "8_decode3.BatchNorm2d_2                   [32]    [256, 32, 64, 64]     64.0   \n",
            "9_decode4.ConvTranspose2d_0     [16, 32, 3, 3]  [256, 16, 128, 128]   4.624k   \n",
            "10_decode4.ReLU_1                            -  [256, 16, 128, 128]        -   \n",
            "11_decode4.BatchNorm2d_2                  [16]  [256, 16, 128, 128]     32.0   \n",
            "12_decode5.ConvTranspose2d_0     [1, 16, 3, 3]   [256, 1, 128, 128]    145.0   \n",
            "13_decode5.ReLU_1                            -   [256, 1, 128, 128]        -   \n",
            "14_decode5.BatchNorm2d_2                   [1]   [256, 1, 128, 128]      2.0   \n",
            "\n",
            "                                Mult-Adds  \n",
            "Layer                                      \n",
            "0_decode1.ConvTranspose2d_0   301.989888M  \n",
            "1_decode1.ReLU_1                        -  \n",
            "2_decode1.BatchNorm2d_2             128.0  \n",
            "3_decode2.ConvTranspose2d_0   301.989888M  \n",
            "4_decode2.ReLU_1                        -  \n",
            "5_decode2.BatchNorm2d_2              64.0  \n",
            "6_decode3.ConvTranspose2d_0    75.497472M  \n",
            "7_decode3.ReLU_1                        -  \n",
            "8_decode3.BatchNorm2d_2              32.0  \n",
            "9_decode4.ConvTranspose2d_0    75.497472M  \n",
            "10_decode4.ReLU_1                       -  \n",
            "11_decode4.BatchNorm2d_2             16.0  \n",
            "12_decode5.ConvTranspose2d_0    2.359296M  \n",
            "13_decode5.ReLU_1                       -  \n",
            "14_decode5.BatchNorm2d_2              1.0  \n",
            "------------------------------------------------------------------------------------------\n",
            "                           Totals\n",
            "Total params             392.547k\n",
            "Trainable params         392.547k\n",
            "Non-trainable params          0.0\n",
            "Mult-Adds             757.334257M\n",
            "==========================================================================================\n"
          ]
        },
        {
          "output_type": "stream",
          "name": "stderr",
          "text": [
            "C:\\Users\\user\\anaconda3\\envs\\torch180\\lib\\site-packages\\torchsummaryX\\torchsummaryX.py:101: FutureWarning: Dropping of nuisance columns in DataFrame reductions (with 'numeric_only=None') is deprecated; in a future version this will raise TypeError.  Select only valid columns before calling the reduction.\n",
            "  df_sum = df.sum()\n"
          ]
        },
        {
          "output_type": "execute_result",
          "data": {
            "text/html": [
              "<div>\n",
              "<style scoped>\n",
              "    .dataframe tbody tr th:only-of-type {\n",
              "        vertical-align: middle;\n",
              "    }\n",
              "\n",
              "    .dataframe tbody tr th {\n",
              "        vertical-align: top;\n",
              "    }\n",
              "\n",
              "    .dataframe thead th {\n",
              "        text-align: right;\n",
              "    }\n",
              "</style>\n",
              "<table border=\"1\" class=\"dataframe\">\n",
              "  <thead>\n",
              "    <tr style=\"text-align: right;\">\n",
              "      <th></th>\n",
              "      <th>Kernel Shape</th>\n",
              "      <th>Output Shape</th>\n",
              "      <th>Params</th>\n",
              "      <th>Mult-Adds</th>\n",
              "    </tr>\n",
              "    <tr>\n",
              "      <th>Layer</th>\n",
              "      <th></th>\n",
              "      <th></th>\n",
              "      <th></th>\n",
              "      <th></th>\n",
              "    </tr>\n",
              "  </thead>\n",
              "  <tbody>\n",
              "    <tr>\n",
              "      <th>0_decode1.ConvTranspose2d_0</th>\n",
              "      <td>[128, 256, 3, 3]</td>\n",
              "      <td>[256, 128, 32, 32]</td>\n",
              "      <td>295040.0</td>\n",
              "      <td>301989888.0</td>\n",
              "    </tr>\n",
              "    <tr>\n",
              "      <th>1_decode1.ReLU_1</th>\n",
              "      <td>-</td>\n",
              "      <td>[256, 128, 32, 32]</td>\n",
              "      <td>NaN</td>\n",
              "      <td>NaN</td>\n",
              "    </tr>\n",
              "    <tr>\n",
              "      <th>2_decode1.BatchNorm2d_2</th>\n",
              "      <td>[128]</td>\n",
              "      <td>[256, 128, 32, 32]</td>\n",
              "      <td>256.0</td>\n",
              "      <td>128.0</td>\n",
              "    </tr>\n",
              "    <tr>\n",
              "      <th>3_decode2.ConvTranspose2d_0</th>\n",
              "      <td>[64, 128, 3, 3]</td>\n",
              "      <td>[256, 64, 64, 64]</td>\n",
              "      <td>73792.0</td>\n",
              "      <td>301989888.0</td>\n",
              "    </tr>\n",
              "    <tr>\n",
              "      <th>4_decode2.ReLU_1</th>\n",
              "      <td>-</td>\n",
              "      <td>[256, 64, 64, 64]</td>\n",
              "      <td>NaN</td>\n",
              "      <td>NaN</td>\n",
              "    </tr>\n",
              "    <tr>\n",
              "      <th>5_decode2.BatchNorm2d_2</th>\n",
              "      <td>[64]</td>\n",
              "      <td>[256, 64, 64, 64]</td>\n",
              "      <td>128.0</td>\n",
              "      <td>64.0</td>\n",
              "    </tr>\n",
              "    <tr>\n",
              "      <th>6_decode3.ConvTranspose2d_0</th>\n",
              "      <td>[32, 64, 3, 3]</td>\n",
              "      <td>[256, 32, 64, 64]</td>\n",
              "      <td>18464.0</td>\n",
              "      <td>75497472.0</td>\n",
              "    </tr>\n",
              "    <tr>\n",
              "      <th>7_decode3.ReLU_1</th>\n",
              "      <td>-</td>\n",
              "      <td>[256, 32, 64, 64]</td>\n",
              "      <td>NaN</td>\n",
              "      <td>NaN</td>\n",
              "    </tr>\n",
              "    <tr>\n",
              "      <th>8_decode3.BatchNorm2d_2</th>\n",
              "      <td>[32]</td>\n",
              "      <td>[256, 32, 64, 64]</td>\n",
              "      <td>64.0</td>\n",
              "      <td>32.0</td>\n",
              "    </tr>\n",
              "    <tr>\n",
              "      <th>9_decode4.ConvTranspose2d_0</th>\n",
              "      <td>[16, 32, 3, 3]</td>\n",
              "      <td>[256, 16, 128, 128]</td>\n",
              "      <td>4624.0</td>\n",
              "      <td>75497472.0</td>\n",
              "    </tr>\n",
              "    <tr>\n",
              "      <th>10_decode4.ReLU_1</th>\n",
              "      <td>-</td>\n",
              "      <td>[256, 16, 128, 128]</td>\n",
              "      <td>NaN</td>\n",
              "      <td>NaN</td>\n",
              "    </tr>\n",
              "    <tr>\n",
              "      <th>11_decode4.BatchNorm2d_2</th>\n",
              "      <td>[16]</td>\n",
              "      <td>[256, 16, 128, 128]</td>\n",
              "      <td>32.0</td>\n",
              "      <td>16.0</td>\n",
              "    </tr>\n",
              "    <tr>\n",
              "      <th>12_decode5.ConvTranspose2d_0</th>\n",
              "      <td>[1, 16, 3, 3]</td>\n",
              "      <td>[256, 1, 128, 128]</td>\n",
              "      <td>145.0</td>\n",
              "      <td>2359296.0</td>\n",
              "    </tr>\n",
              "    <tr>\n",
              "      <th>13_decode5.ReLU_1</th>\n",
              "      <td>-</td>\n",
              "      <td>[256, 1, 128, 128]</td>\n",
              "      <td>NaN</td>\n",
              "      <td>NaN</td>\n",
              "    </tr>\n",
              "    <tr>\n",
              "      <th>14_decode5.BatchNorm2d_2</th>\n",
              "      <td>[1]</td>\n",
              "      <td>[256, 1, 128, 128]</td>\n",
              "      <td>2.0</td>\n",
              "      <td>1.0</td>\n",
              "    </tr>\n",
              "  </tbody>\n",
              "</table>\n",
              "</div>"
            ],
            "text/plain": [
              "                                  Kernel Shape         Output Shape    Params  \\\n",
              "Layer                                                                           \n",
              "0_decode1.ConvTranspose2d_0   [128, 256, 3, 3]   [256, 128, 32, 32]  295040.0   \n",
              "1_decode1.ReLU_1                             -   [256, 128, 32, 32]       NaN   \n",
              "2_decode1.BatchNorm2d_2                  [128]   [256, 128, 32, 32]     256.0   \n",
              "3_decode2.ConvTranspose2d_0    [64, 128, 3, 3]    [256, 64, 64, 64]   73792.0   \n",
              "4_decode2.ReLU_1                             -    [256, 64, 64, 64]       NaN   \n",
              "5_decode2.BatchNorm2d_2                   [64]    [256, 64, 64, 64]     128.0   \n",
              "6_decode3.ConvTranspose2d_0     [32, 64, 3, 3]    [256, 32, 64, 64]   18464.0   \n",
              "7_decode3.ReLU_1                             -    [256, 32, 64, 64]       NaN   \n",
              "8_decode3.BatchNorm2d_2                   [32]    [256, 32, 64, 64]      64.0   \n",
              "9_decode4.ConvTranspose2d_0     [16, 32, 3, 3]  [256, 16, 128, 128]    4624.0   \n",
              "10_decode4.ReLU_1                            -  [256, 16, 128, 128]       NaN   \n",
              "11_decode4.BatchNorm2d_2                  [16]  [256, 16, 128, 128]      32.0   \n",
              "12_decode5.ConvTranspose2d_0     [1, 16, 3, 3]   [256, 1, 128, 128]     145.0   \n",
              "13_decode5.ReLU_1                            -   [256, 1, 128, 128]       NaN   \n",
              "14_decode5.BatchNorm2d_2                   [1]   [256, 1, 128, 128]       2.0   \n",
              "\n",
              "                                Mult-Adds  \n",
              "Layer                                      \n",
              "0_decode1.ConvTranspose2d_0   301989888.0  \n",
              "1_decode1.ReLU_1                      NaN  \n",
              "2_decode1.BatchNorm2d_2             128.0  \n",
              "3_decode2.ConvTranspose2d_0   301989888.0  \n",
              "4_decode2.ReLU_1                      NaN  \n",
              "5_decode2.BatchNorm2d_2              64.0  \n",
              "6_decode3.ConvTranspose2d_0    75497472.0  \n",
              "7_decode3.ReLU_1                      NaN  \n",
              "8_decode3.BatchNorm2d_2              32.0  \n",
              "9_decode4.ConvTranspose2d_0    75497472.0  \n",
              "10_decode4.ReLU_1                     NaN  \n",
              "11_decode4.BatchNorm2d_2             16.0  \n",
              "12_decode5.ConvTranspose2d_0    2359296.0  \n",
              "13_decode5.ReLU_1                     NaN  \n",
              "14_decode5.BatchNorm2d_2              1.0  "
            ]
          },
          "metadata": {},
          "execution_count": 57
        }
      ],
      "metadata": {}
    },
    {
      "cell_type": "markdown",
      "source": [
        "# AutoEncoder Train"
      ],
      "metadata": {}
    },
    {
      "cell_type": "markdown",
      "source": [
        "## Train step For AE"
      ],
      "metadata": {}
    },
    {
      "cell_type": "code",
      "execution_count": 58,
      "source": [
        "def AE_train(loader, epoch):\r\n",
        "    running_loss = 0.0\r\n",
        "    num_correct = 0\r\n",
        "    num_samples = len(loader.dataset)\r\n",
        "    batch_cnt = int(num_samples/BATCH_SIZE)\r\n",
        "    encoder.to(device)\r\n",
        "    decoder.to(device)\r\n",
        "    encoder.train()\r\n",
        "    decoder.train()\r\n",
        "\r\n",
        "    for batch_idx, (X, _) in enumerate(tqdm(loader)):\r\n",
        "        X = X.to(device).float()\r\n",
        "        optimizer.zero_grad()\r\n",
        "        # 순전파 \r\n",
        "        encoded = encoder(X)\r\n",
        "        decoded = decoder(encoded)\r\n",
        "        loss = criterion(decoded, X)\r\n",
        "        # 역전파 \r\n",
        "        loss.backward()\r\n",
        "        optimizer.step()\r\n",
        "        running_loss += loss.item()\r\n",
        "        train_loss = running_loss/batch_cnt\r\n",
        "\r\n",
        "        if batch_idx % batch_cnt == batch_cnt-1:\r\n",
        "            writer.add_scalar('train_loss', train_loss, epoch)\r\n",
        "            print(\"EPOCH {} train_loss : {:.5f}\".format(epoch, train_loss))\r\n",
        "            running_loss = 0.0\r\n",
        "            \r\n",
        "def AE_validate(loader, epoch):\r\n",
        "    print(\"working on val set...\")\r\n",
        "    num_correct = 0\r\n",
        "    num_samples = len(loader.dataset)\r\n",
        "    val_loss = []\r\n",
        "    encoder.eval()  # set model to evaluation mode\r\n",
        "    decoder.eval()\r\n",
        "    with torch.no_grad():\r\n",
        "        for X, _ in loader:\r\n",
        "            X = X.to(device).float()  # move to device, e.g. GPU\r\n",
        "            encoded = encoder(X)\r\n",
        "            decoded = decoder(encoded)\r\n",
        "            val_loss.append(criterion(decoded, X).item())\r\n",
        "\r\n",
        "        val_loss = torch.mean(torch.tensor(val_loss)).item()\r\n",
        "        \r\n",
        "        scheduler.step(val_loss) # val_loss가 개선되지 않으면 lr scheduler 실행\r\n",
        "        writer.add_scalar('val_loss', val_loss, epoch)\r\n",
        "        print(\"EPOCH {} val_loss : {:.5f}\".format(epoch, val_loss))\r\n"
      ],
      "outputs": [],
      "metadata": {}
    },
    {
      "cell_type": "code",
      "execution_count": 66,
      "source": [
        "# Convert to Tensor\r\n",
        "x = torch.as_tensor(x, dtype=torch.int8)\r\n",
        "y = torch.as_tensor(y, dtype=torch.int8)\r\n",
        "print('X shape : {}, y shape : {}'.format(x.shape, y.shape))"
      ],
      "outputs": [
        {
          "output_type": "stream",
          "name": "stdout",
          "text": [
            "X shape : torch.Size([172950, 1, 128, 128]), y shape : torch.Size([172950, 1])\n"
          ]
        }
      ],
      "metadata": {}
    },
    {
      "cell_type": "code",
      "execution_count": 67,
      "source": [
        "encoder = Encoder()\r\n",
        "decoder = Decoder()\r\n",
        "dataset = TensorDataset(x, y)\r\n",
        "train_indices, val_indices = train_test_split(list(range(len(y))), test_size=0.2, stratify=y)\r\n",
        "\r\n",
        "train_dataset = torch.utils.data.Subset(dataset, train_indices)\r\n",
        "val_dataset = torch.utils.data.Subset(dataset, val_indices)\r\n",
        "\r\n",
        "train_loader = DataLoader(train_dataset, batch_size=BATCH_SIZE)\r\n",
        "val_loader = DataLoader(val_dataset, batch_size=BATCH_SIZE)\r\n",
        "\r\n",
        "sample = next(iter(train_loader))\r\n",
        "print(sample[0].shape)\r\n",
        "print(sample[1].shape)"
      ],
      "outputs": [
        {
          "output_type": "stream",
          "name": "stdout",
          "text": [
            "torch.Size([256, 1, 128, 128])\n",
            "torch.Size([256, 1])\n"
          ]
        }
      ],
      "metadata": {}
    },
    {
      "cell_type": "code",
      "execution_count": 68,
      "source": [
        "# Tensorboard에 로그 기록 \r\n",
        "from torch.utils.tensorboard import SummaryWriter\r\n",
        "writer = SummaryWriter()\r\n",
        "\r\n",
        "# parameter\r\n",
        "BATCH_SIZE = 256\r\n",
        "LEARNING_RATE = 0.001\r\n",
        "NUM_EPOCHS = 10\r\n",
        "\r\n",
        "# 인코더와 디코더의 parameter를 묶어 동시에 학습.\r\n",
        "parameters = list(encoder.parameters()) + list(decoder.parameters())\r\n",
        "criterion = nn.MSELoss()\r\n",
        "optimizer = optim.Adam(parameters, lr=LEARNING_RATE)\r\n",
        "scheduler = optim.lr_scheduler.ReduceLROnPlateau(\r\n",
        "                optimizer,\r\n",
        "                mode='min',\r\n",
        "                factor=0.5,\r\n",
        "                patience=2, \r\n",
        "                threshold=0.05,\r\n",
        "                threshold_mode='rel',\r\n",
        "                cooldown=0, \r\n",
        "                verbose=True\r\n",
        "            )"
      ],
      "outputs": [],
      "metadata": {}
    },
    {
      "cell_type": "code",
      "execution_count": 80,
      "source": [
        "# if CUDA out of memory\r\n",
        "'''\r\n",
        "import gc\r\n",
        "del encoder\r\n",
        "del decoder\r\n",
        "del train_loader\r\n",
        "del val_loader\r\n",
        "gc.collect()\r\n",
        "torch.cuda.empty_cache()\r\n",
        "'''"
      ],
      "outputs": [],
      "metadata": {}
    },
    {
      "cell_type": "code",
      "execution_count": 62,
      "source": [
        "for epoch in range(NUM_EPOCHS):\r\n",
        "    AE_train(train_loader, epoch)\r\n",
        "    AE_validate(val_loader, epoch)"
      ],
      "outputs": [
        {
          "output_type": "stream",
          "name": "stderr",
          "text": [
            "100%|██████████| 541/541 [02:37<00:00,  3.43it/s]"
          ]
        },
        {
          "output_type": "stream",
          "name": "stdout",
          "text": [
            "EPOCH 0 train_loss : 0.51082\n",
            "working on val set...\n"
          ]
        },
        {
          "output_type": "stream",
          "name": "stderr",
          "text": [
            "\n"
          ]
        },
        {
          "output_type": "stream",
          "name": "stdout",
          "text": [
            "EPOCH 0 val_loss : 0.18014\n"
          ]
        },
        {
          "output_type": "stream",
          "name": "stderr",
          "text": [
            "100%|██████████| 541/541 [02:41<00:00,  3.36it/s]"
          ]
        },
        {
          "output_type": "stream",
          "name": "stdout",
          "text": [
            "EPOCH 1 train_loss : 0.07965\n",
            "working on val set...\n"
          ]
        },
        {
          "output_type": "stream",
          "name": "stderr",
          "text": [
            "\n"
          ]
        },
        {
          "output_type": "stream",
          "name": "stdout",
          "text": [
            "EPOCH 1 val_loss : 0.02068\n"
          ]
        },
        {
          "output_type": "stream",
          "name": "stderr",
          "text": [
            "100%|██████████| 541/541 [02:37<00:00,  3.44it/s]"
          ]
        },
        {
          "output_type": "stream",
          "name": "stdout",
          "text": [
            "EPOCH 2 train_loss : 0.00857\n",
            "working on val set...\n"
          ]
        },
        {
          "output_type": "stream",
          "name": "stderr",
          "text": [
            "\n"
          ]
        },
        {
          "output_type": "stream",
          "name": "stdout",
          "text": [
            "EPOCH 2 val_loss : 0.00314\n"
          ]
        },
        {
          "output_type": "stream",
          "name": "stderr",
          "text": [
            "100%|██████████| 541/541 [02:38<00:00,  3.42it/s]"
          ]
        },
        {
          "output_type": "stream",
          "name": "stdout",
          "text": [
            "EPOCH 3 train_loss : 0.00152\n",
            "working on val set...\n"
          ]
        },
        {
          "output_type": "stream",
          "name": "stderr",
          "text": [
            "\n"
          ]
        },
        {
          "output_type": "stream",
          "name": "stdout",
          "text": [
            "EPOCH 3 val_loss : 0.00193\n"
          ]
        },
        {
          "output_type": "stream",
          "name": "stderr",
          "text": [
            "100%|██████████| 541/541 [02:40<00:00,  3.38it/s]"
          ]
        },
        {
          "output_type": "stream",
          "name": "stdout",
          "text": [
            "EPOCH 4 train_loss : 0.00092\n",
            "working on val set...\n"
          ]
        },
        {
          "output_type": "stream",
          "name": "stderr",
          "text": [
            "\n"
          ]
        },
        {
          "output_type": "stream",
          "name": "stdout",
          "text": [
            "EPOCH 4 val_loss : 0.00152\n"
          ]
        },
        {
          "output_type": "stream",
          "name": "stderr",
          "text": [
            "100%|██████████| 541/541 [02:36<00:00,  3.45it/s]"
          ]
        },
        {
          "output_type": "stream",
          "name": "stdout",
          "text": [
            "EPOCH 5 train_loss : 0.00068\n",
            "working on val set...\n"
          ]
        },
        {
          "output_type": "stream",
          "name": "stderr",
          "text": [
            "\n"
          ]
        },
        {
          "output_type": "stream",
          "name": "stdout",
          "text": [
            "EPOCH 5 val_loss : 0.00120\n"
          ]
        },
        {
          "output_type": "stream",
          "name": "stderr",
          "text": [
            "100%|██████████| 541/541 [02:38<00:00,  3.41it/s]"
          ]
        },
        {
          "output_type": "stream",
          "name": "stdout",
          "text": [
            "EPOCH 6 train_loss : 0.00054\n",
            "working on val set...\n"
          ]
        },
        {
          "output_type": "stream",
          "name": "stderr",
          "text": [
            "\n"
          ]
        },
        {
          "output_type": "stream",
          "name": "stdout",
          "text": [
            "EPOCH 6 val_loss : 0.00092\n"
          ]
        },
        {
          "output_type": "stream",
          "name": "stderr",
          "text": [
            "100%|██████████| 541/541 [02:37<00:00,  3.43it/s]"
          ]
        },
        {
          "output_type": "stream",
          "name": "stdout",
          "text": [
            "EPOCH 7 train_loss : 0.00043\n",
            "working on val set...\n"
          ]
        },
        {
          "output_type": "stream",
          "name": "stderr",
          "text": [
            "\n"
          ]
        },
        {
          "output_type": "stream",
          "name": "stdout",
          "text": [
            "EPOCH 7 val_loss : 0.00073\n"
          ]
        },
        {
          "output_type": "stream",
          "name": "stderr",
          "text": [
            "100%|██████████| 541/541 [02:38<00:00,  3.41it/s]"
          ]
        },
        {
          "output_type": "stream",
          "name": "stdout",
          "text": [
            "EPOCH 8 train_loss : 0.00035\n",
            "working on val set...\n"
          ]
        },
        {
          "output_type": "stream",
          "name": "stderr",
          "text": [
            "\n"
          ]
        },
        {
          "output_type": "stream",
          "name": "stdout",
          "text": [
            "EPOCH 8 val_loss : 0.00059\n"
          ]
        },
        {
          "output_type": "stream",
          "name": "stderr",
          "text": [
            "100%|██████████| 541/541 [02:37<00:00,  3.44it/s]"
          ]
        },
        {
          "output_type": "stream",
          "name": "stdout",
          "text": [
            "EPOCH 9 train_loss : 0.00029\n",
            "working on val set...\n"
          ]
        },
        {
          "output_type": "stream",
          "name": "stderr",
          "text": [
            "\n"
          ]
        },
        {
          "output_type": "stream",
          "name": "stdout",
          "text": [
            "EPOCH 9 val_loss : 0.00046\n"
          ]
        }
      ],
      "metadata": {}
    },
    {
      "cell_type": "code",
      "execution_count": 63,
      "source": [
        "# CUDA 메모리 정리 \r\n",
        "encoder.to('cpu')\r\n",
        "decoder.to('cpu')\r\n",
        "gc.collect()\r\n",
        "torch.cuda.empty_cache() "
      ],
      "outputs": [],
      "metadata": {}
    },
    {
      "cell_type": "code",
      "execution_count": 65,
      "source": [
        "# Encode original faulty wafer\r\n",
        "x_sample = next(iter(train_loader))[0]\r\n",
        "encoded_x = encoder(x_sample)\r\n",
        "encoded_x.shape"
      ],
      "outputs": [
        {
          "output_type": "error",
          "ename": "RuntimeError",
          "evalue": "expected scalar type Char but found Float",
          "traceback": [
            "\u001b[1;31m---------------------------------------------------------------------------\u001b[0m",
            "\u001b[1;31mRuntimeError\u001b[0m                              Traceback (most recent call last)",
            "\u001b[1;32m<ipython-input-65-6eac6737d11f>\u001b[0m in \u001b[0;36m<module>\u001b[1;34m\u001b[0m\n\u001b[0;32m      1\u001b[0m \u001b[1;31m# Encode original faulty wafer\u001b[0m\u001b[1;33m\u001b[0m\u001b[1;33m\u001b[0m\u001b[1;33m\u001b[0m\u001b[0m\n\u001b[0;32m      2\u001b[0m \u001b[0mx_sample\u001b[0m \u001b[1;33m=\u001b[0m \u001b[0mnext\u001b[0m\u001b[1;33m(\u001b[0m\u001b[0miter\u001b[0m\u001b[1;33m(\u001b[0m\u001b[0mtrain_loader\u001b[0m\u001b[1;33m)\u001b[0m\u001b[1;33m)\u001b[0m\u001b[1;33m[\u001b[0m\u001b[1;36m0\u001b[0m\u001b[1;33m]\u001b[0m\u001b[1;33m\u001b[0m\u001b[1;33m\u001b[0m\u001b[0m\n\u001b[1;32m----> 3\u001b[1;33m \u001b[0mencoded_x\u001b[0m \u001b[1;33m=\u001b[0m \u001b[0mencoder\u001b[0m\u001b[1;33m(\u001b[0m\u001b[0mx_sample\u001b[0m\u001b[1;33m)\u001b[0m\u001b[1;33m\u001b[0m\u001b[1;33m\u001b[0m\u001b[0m\n\u001b[0m\u001b[0;32m      4\u001b[0m \u001b[0mencoded_x\u001b[0m\u001b[1;33m.\u001b[0m\u001b[0mshape\u001b[0m\u001b[1;33m\u001b[0m\u001b[1;33m\u001b[0m\u001b[0m\n",
            "\u001b[1;32m~\\anaconda3\\envs\\torch180\\lib\\site-packages\\torch\\nn\\modules\\module.py\u001b[0m in \u001b[0;36m_call_impl\u001b[1;34m(self, *input, **kwargs)\u001b[0m\n\u001b[0;32m   1049\u001b[0m         if not (self._backward_hooks or self._forward_hooks or self._forward_pre_hooks or _global_backward_hooks\n\u001b[0;32m   1050\u001b[0m                 or _global_forward_hooks or _global_forward_pre_hooks):\n\u001b[1;32m-> 1051\u001b[1;33m             \u001b[1;32mreturn\u001b[0m \u001b[0mforward_call\u001b[0m\u001b[1;33m(\u001b[0m\u001b[1;33m*\u001b[0m\u001b[0minput\u001b[0m\u001b[1;33m,\u001b[0m \u001b[1;33m**\u001b[0m\u001b[0mkwargs\u001b[0m\u001b[1;33m)\u001b[0m\u001b[1;33m\u001b[0m\u001b[1;33m\u001b[0m\u001b[0m\n\u001b[0m\u001b[0;32m   1052\u001b[0m         \u001b[1;31m# Do not call functions when jit is used\u001b[0m\u001b[1;33m\u001b[0m\u001b[1;33m\u001b[0m\u001b[1;33m\u001b[0m\u001b[0m\n\u001b[0;32m   1053\u001b[0m         \u001b[0mfull_backward_hooks\u001b[0m\u001b[1;33m,\u001b[0m \u001b[0mnon_full_backward_hooks\u001b[0m \u001b[1;33m=\u001b[0m \u001b[1;33m[\u001b[0m\u001b[1;33m]\u001b[0m\u001b[1;33m,\u001b[0m \u001b[1;33m[\u001b[0m\u001b[1;33m]\u001b[0m\u001b[1;33m\u001b[0m\u001b[1;33m\u001b[0m\u001b[0m\n",
            "\u001b[1;32m<ipython-input-56-e4cc23adc116>\u001b[0m in \u001b[0;36mforward\u001b[1;34m(self, x)\u001b[0m\n\u001b[0;32m     18\u001b[0m \u001b[1;33m\u001b[0m\u001b[0m\n\u001b[0;32m     19\u001b[0m     \u001b[1;32mdef\u001b[0m \u001b[0mforward\u001b[0m\u001b[1;33m(\u001b[0m\u001b[0mself\u001b[0m\u001b[1;33m,\u001b[0m \u001b[0mx\u001b[0m\u001b[1;33m)\u001b[0m\u001b[1;33m:\u001b[0m               \u001b[1;31m# Encode x 3 -maxpool-encode-maxpool-encode\u001b[0m\u001b[1;33m\u001b[0m\u001b[1;33m\u001b[0m\u001b[0m\n\u001b[1;32m---> 20\u001b[1;33m         \u001b[0mx\u001b[0m \u001b[1;33m=\u001b[0m \u001b[0mself\u001b[0m\u001b[1;33m.\u001b[0m\u001b[0mencode1\u001b[0m\u001b[1;33m(\u001b[0m\u001b[0mx\u001b[0m\u001b[1;33m)\u001b[0m\u001b[1;33m\u001b[0m\u001b[1;33m\u001b[0m\u001b[0m\n\u001b[0m\u001b[0;32m     21\u001b[0m         \u001b[0mx\u001b[0m \u001b[1;33m=\u001b[0m \u001b[0mself\u001b[0m\u001b[1;33m.\u001b[0m\u001b[0mencode2\u001b[0m\u001b[1;33m(\u001b[0m\u001b[0mx\u001b[0m\u001b[1;33m)\u001b[0m\u001b[1;33m\u001b[0m\u001b[1;33m\u001b[0m\u001b[0m\n\u001b[0;32m     22\u001b[0m         \u001b[0mx\u001b[0m \u001b[1;33m=\u001b[0m \u001b[0mself\u001b[0m\u001b[1;33m.\u001b[0m\u001b[0mmaxpool\u001b[0m\u001b[1;33m(\u001b[0m\u001b[0mx\u001b[0m\u001b[1;33m)\u001b[0m\u001b[1;33m\u001b[0m\u001b[1;33m\u001b[0m\u001b[0m\n",
            "\u001b[1;32m~\\anaconda3\\envs\\torch180\\lib\\site-packages\\torch\\nn\\modules\\module.py\u001b[0m in \u001b[0;36m_call_impl\u001b[1;34m(self, *input, **kwargs)\u001b[0m\n\u001b[0;32m   1049\u001b[0m         if not (self._backward_hooks or self._forward_hooks or self._forward_pre_hooks or _global_backward_hooks\n\u001b[0;32m   1050\u001b[0m                 or _global_forward_hooks or _global_forward_pre_hooks):\n\u001b[1;32m-> 1051\u001b[1;33m             \u001b[1;32mreturn\u001b[0m \u001b[0mforward_call\u001b[0m\u001b[1;33m(\u001b[0m\u001b[1;33m*\u001b[0m\u001b[0minput\u001b[0m\u001b[1;33m,\u001b[0m \u001b[1;33m**\u001b[0m\u001b[0mkwargs\u001b[0m\u001b[1;33m)\u001b[0m\u001b[1;33m\u001b[0m\u001b[1;33m\u001b[0m\u001b[0m\n\u001b[0m\u001b[0;32m   1052\u001b[0m         \u001b[1;31m# Do not call functions when jit is used\u001b[0m\u001b[1;33m\u001b[0m\u001b[1;33m\u001b[0m\u001b[1;33m\u001b[0m\u001b[0m\n\u001b[0;32m   1053\u001b[0m         \u001b[0mfull_backward_hooks\u001b[0m\u001b[1;33m,\u001b[0m \u001b[0mnon_full_backward_hooks\u001b[0m \u001b[1;33m=\u001b[0m \u001b[1;33m[\u001b[0m\u001b[1;33m]\u001b[0m\u001b[1;33m,\u001b[0m \u001b[1;33m[\u001b[0m\u001b[1;33m]\u001b[0m\u001b[1;33m\u001b[0m\u001b[1;33m\u001b[0m\u001b[0m\n",
            "\u001b[1;32m~\\anaconda3\\envs\\torch180\\lib\\site-packages\\torch\\nn\\modules\\container.py\u001b[0m in \u001b[0;36mforward\u001b[1;34m(self, input)\u001b[0m\n\u001b[0;32m    137\u001b[0m     \u001b[1;32mdef\u001b[0m \u001b[0mforward\u001b[0m\u001b[1;33m(\u001b[0m\u001b[0mself\u001b[0m\u001b[1;33m,\u001b[0m \u001b[0minput\u001b[0m\u001b[1;33m)\u001b[0m\u001b[1;33m:\u001b[0m\u001b[1;33m\u001b[0m\u001b[1;33m\u001b[0m\u001b[0m\n\u001b[0;32m    138\u001b[0m         \u001b[1;32mfor\u001b[0m \u001b[0mmodule\u001b[0m \u001b[1;32min\u001b[0m \u001b[0mself\u001b[0m\u001b[1;33m:\u001b[0m\u001b[1;33m\u001b[0m\u001b[1;33m\u001b[0m\u001b[0m\n\u001b[1;32m--> 139\u001b[1;33m             \u001b[0minput\u001b[0m \u001b[1;33m=\u001b[0m \u001b[0mmodule\u001b[0m\u001b[1;33m(\u001b[0m\u001b[0minput\u001b[0m\u001b[1;33m)\u001b[0m\u001b[1;33m\u001b[0m\u001b[1;33m\u001b[0m\u001b[0m\n\u001b[0m\u001b[0;32m    140\u001b[0m         \u001b[1;32mreturn\u001b[0m \u001b[0minput\u001b[0m\u001b[1;33m\u001b[0m\u001b[1;33m\u001b[0m\u001b[0m\n\u001b[0;32m    141\u001b[0m \u001b[1;33m\u001b[0m\u001b[0m\n",
            "\u001b[1;32m~\\anaconda3\\envs\\torch180\\lib\\site-packages\\torch\\nn\\modules\\module.py\u001b[0m in \u001b[0;36m_call_impl\u001b[1;34m(self, *input, **kwargs)\u001b[0m\n\u001b[0;32m   1049\u001b[0m         if not (self._backward_hooks or self._forward_hooks or self._forward_pre_hooks or _global_backward_hooks\n\u001b[0;32m   1050\u001b[0m                 or _global_forward_hooks or _global_forward_pre_hooks):\n\u001b[1;32m-> 1051\u001b[1;33m             \u001b[1;32mreturn\u001b[0m \u001b[0mforward_call\u001b[0m\u001b[1;33m(\u001b[0m\u001b[1;33m*\u001b[0m\u001b[0minput\u001b[0m\u001b[1;33m,\u001b[0m \u001b[1;33m**\u001b[0m\u001b[0mkwargs\u001b[0m\u001b[1;33m)\u001b[0m\u001b[1;33m\u001b[0m\u001b[1;33m\u001b[0m\u001b[0m\n\u001b[0m\u001b[0;32m   1052\u001b[0m         \u001b[1;31m# Do not call functions when jit is used\u001b[0m\u001b[1;33m\u001b[0m\u001b[1;33m\u001b[0m\u001b[1;33m\u001b[0m\u001b[0m\n\u001b[0;32m   1053\u001b[0m         \u001b[0mfull_backward_hooks\u001b[0m\u001b[1;33m,\u001b[0m \u001b[0mnon_full_backward_hooks\u001b[0m \u001b[1;33m=\u001b[0m \u001b[1;33m[\u001b[0m\u001b[1;33m]\u001b[0m\u001b[1;33m,\u001b[0m \u001b[1;33m[\u001b[0m\u001b[1;33m]\u001b[0m\u001b[1;33m\u001b[0m\u001b[1;33m\u001b[0m\u001b[0m\n",
            "\u001b[1;32m~\\anaconda3\\envs\\torch180\\lib\\site-packages\\torch\\nn\\modules\\conv.py\u001b[0m in \u001b[0;36mforward\u001b[1;34m(self, input)\u001b[0m\n\u001b[0;32m    441\u001b[0m \u001b[1;33m\u001b[0m\u001b[0m\n\u001b[0;32m    442\u001b[0m     \u001b[1;32mdef\u001b[0m \u001b[0mforward\u001b[0m\u001b[1;33m(\u001b[0m\u001b[0mself\u001b[0m\u001b[1;33m,\u001b[0m \u001b[0minput\u001b[0m\u001b[1;33m:\u001b[0m \u001b[0mTensor\u001b[0m\u001b[1;33m)\u001b[0m \u001b[1;33m->\u001b[0m \u001b[0mTensor\u001b[0m\u001b[1;33m:\u001b[0m\u001b[1;33m\u001b[0m\u001b[1;33m\u001b[0m\u001b[0m\n\u001b[1;32m--> 443\u001b[1;33m         \u001b[1;32mreturn\u001b[0m \u001b[0mself\u001b[0m\u001b[1;33m.\u001b[0m\u001b[0m_conv_forward\u001b[0m\u001b[1;33m(\u001b[0m\u001b[0minput\u001b[0m\u001b[1;33m,\u001b[0m \u001b[0mself\u001b[0m\u001b[1;33m.\u001b[0m\u001b[0mweight\u001b[0m\u001b[1;33m,\u001b[0m \u001b[0mself\u001b[0m\u001b[1;33m.\u001b[0m\u001b[0mbias\u001b[0m\u001b[1;33m)\u001b[0m\u001b[1;33m\u001b[0m\u001b[1;33m\u001b[0m\u001b[0m\n\u001b[0m\u001b[0;32m    444\u001b[0m \u001b[1;33m\u001b[0m\u001b[0m\n\u001b[0;32m    445\u001b[0m \u001b[1;32mclass\u001b[0m \u001b[0mConv3d\u001b[0m\u001b[1;33m(\u001b[0m\u001b[0m_ConvNd\u001b[0m\u001b[1;33m)\u001b[0m\u001b[1;33m:\u001b[0m\u001b[1;33m\u001b[0m\u001b[1;33m\u001b[0m\u001b[0m\n",
            "\u001b[1;32m~\\anaconda3\\envs\\torch180\\lib\\site-packages\\torch\\nn\\modules\\conv.py\u001b[0m in \u001b[0;36m_conv_forward\u001b[1;34m(self, input, weight, bias)\u001b[0m\n\u001b[0;32m    437\u001b[0m                             \u001b[0mweight\u001b[0m\u001b[1;33m,\u001b[0m \u001b[0mbias\u001b[0m\u001b[1;33m,\u001b[0m \u001b[0mself\u001b[0m\u001b[1;33m.\u001b[0m\u001b[0mstride\u001b[0m\u001b[1;33m,\u001b[0m\u001b[1;33m\u001b[0m\u001b[1;33m\u001b[0m\u001b[0m\n\u001b[0;32m    438\u001b[0m                             _pair(0), self.dilation, self.groups)\n\u001b[1;32m--> 439\u001b[1;33m         return F.conv2d(input, weight, bias, self.stride,\n\u001b[0m\u001b[0;32m    440\u001b[0m                         self.padding, self.dilation, self.groups)\n\u001b[0;32m    441\u001b[0m \u001b[1;33m\u001b[0m\u001b[0m\n",
            "\u001b[1;31mRuntimeError\u001b[0m: expected scalar type Char but found Float"
          ]
        }
      ],
      "metadata": {}
    },
    {
      "cell_type": "code",
      "execution_count": 88,
      "source": [
        "# Add noise to encoded latent faulty wafers vector.\r\n",
        "noised_encoded_x = encoded_x + torch.normal(mean=torch.zeros((len(encoded_x), 256, 32, 32)), std=0.3*torch.ones((len(encoded_x), 256, 32, 32)))"
      ],
      "outputs": [],
      "metadata": {
        "_uuid": "cca7e49fc3a5e8206b913f46391f4518b3785274",
        "id": "VYZ9E5SlYYJK"
      }
    },
    {
      "cell_type": "code",
      "execution_count": 89,
      "source": [
        "# check original faulty wafer data\r\n",
        "plt.imshow(np.argmax(X[0], axis=0)) ## argmax : 차원에 대해서 (지금은 channel) 최댓값, 생성되는 이미지 픽셀값"
      ],
      "outputs": [
        {
          "output_type": "execute_result",
          "data": {
            "text/plain": [
              "<matplotlib.image.AxesImage at 0x15449579f40>"
            ]
          },
          "metadata": {},
          "execution_count": 89
        },
        {
          "output_type": "display_data",
          "data": {
            "image/png": "[encoded data removed]",
            "text/plain": [
              "<Figure size 432x288 with 1 Axes>"
            ]
          },
          "metadata": {
            "needs_background": "light"
          }
        }
      ],
      "metadata": {
        "_uuid": "bbc99179f3b90b7ba62e3e13db80cd9adb7b8a58",
        "colab": {
          "base_uri": "https://localhost:8080/",
          "height": 283
        },
        "id": "7TqA6pNFYYJK",
        "outputId": "ff76be60-8334-49a7-bd28-9f9e8c56b5d8"
      }
    },
    {
      "cell_type": "code",
      "execution_count": 90,
      "source": [
        "# original encoded data\r\n",
        "plt.imshow(torch.argmax(encoded_x[0], axis = 0))"
      ],
      "outputs": [
        {
          "output_type": "execute_result",
          "data": {
            "text/plain": [
              "<matplotlib.image.AxesImage at 0x153c1dad880>"
            ]
          },
          "metadata": {},
          "execution_count": 90
        },
        {
          "output_type": "display_data",
          "data": {
            "image/png": "[encoded data removed]",
            "text/plain": [
              "<Figure size 432x288 with 1 Axes>"
            ]
          },
          "metadata": {
            "needs_background": "light"
          }
        }
      ],
      "metadata": {}
    },
    {
      "cell_type": "code",
      "execution_count": 91,
      "source": [
        "# noised encoded data\r\n",
        "plt.imshow(torch.argmax(noised_encoded_x[0], axis=0))"
      ],
      "outputs": [
        {
          "output_type": "execute_result",
          "data": {
            "text/plain": [
              "<matplotlib.image.AxesImage at 0x1544922c6a0>"
            ]
          },
          "metadata": {},
          "execution_count": 91
        },
        {
          "output_type": "display_data",
          "data": {
            "image/png": "[encoded data removed]",
            "text/plain": [
              "<Figure size 432x288 with 1 Axes>"
            ]
          },
          "metadata": {
            "needs_background": "light"
          }
        }
      ],
      "metadata": {
        "_uuid": "2c34d09b64151c01c6dfd29c33621fb31c666ade",
        "colab": {
          "base_uri": "https://localhost:8080/",
          "height": 283
        },
        "id": "ys_IwlopYYJL",
        "outputId": "8ede4a28-897e-4fe7-9651-a7598564dee3"
      }
    },
    {
      "cell_type": "code",
      "execution_count": 92,
      "source": [
        "# check reconstructed original faulty wafer data\r\n",
        "plt.imshow(torch.argmax(decoder(encoded_x)[0], axis=0))"
      ],
      "outputs": [
        {
          "output_type": "execute_result",
          "data": {
            "text/plain": [
              "<matplotlib.image.AxesImage at 0x1544a46b6a0>"
            ]
          },
          "metadata": {},
          "execution_count": 92
        },
        {
          "output_type": "display_data",
          "data": {
            "image/png": "[encoded data removed]",
            "text/plain": [
              "<Figure size 432x288 with 1 Axes>"
            ]
          },
          "metadata": {
            "needs_background": "light"
          }
        }
      ],
      "metadata": {
        "_uuid": "e4c959ab36890c361c92b9a4616ca8fb60a2ded4",
        "colab": {
          "base_uri": "https://localhost:8080/",
          "height": 283
        },
        "id": "ZPiETHhHYYJL",
        "outputId": "0d42856d-d5c8-4ff7-e1f8-8bde429004d3"
      }
    },
    {
      "cell_type": "code",
      "execution_count": 93,
      "source": [
        "# check reconstructed noised faulty wafer data\r\n",
        "plt.imshow(torch.argmax(decoder(noised_encoded_x)[0], axis=0))"
      ],
      "outputs": [
        {
          "output_type": "execute_result",
          "data": {
            "text/plain": [
              "<matplotlib.image.AxesImage at 0x153abf23550>"
            ]
          },
          "metadata": {},
          "execution_count": 93
        },
        {
          "output_type": "display_data",
          "data": {
            "image/png": "[encoded data removed]",
            "text/plain": [
              "<Figure size 432x288 with 1 Axes>"
            ]
          },
          "metadata": {
            "needs_background": "light"
          }
        }
      ],
      "metadata": {}
    },
    {
      "cell_type": "markdown",
      "source": [
        "## Data augmentation\n"
      ],
      "metadata": {
        "_uuid": "c29236b3ac68761abb4458fd9bf0138fadb86ab7",
        "id": "eYu0NDCJYYJL"
      }
    },
    {
      "cell_type": "code",
      "execution_count": 94,
      "source": [
        "print(X.shape)\r\n",
        "print(noised_encoded_x.shape)\r\n",
        "print(decoder(noised_encoded_x).shape)"
      ],
      "outputs": [
        {
          "output_type": "stream",
          "name": "stdout",
          "text": [
            "torch.Size([172950, 4, 128, 128])\n",
            "torch.Size([256, 256, 32, 32])\n",
            "torch.Size([256, 4, 128, 128])\n"
          ]
        }
      ],
      "metadata": {}
    },
    {
      "cell_type": "code",
      "execution_count": 100,
      "source": [
        "# augment function define\r\n",
        "STD = 0.3\r\n",
        "def gen_data(x, label):\r\n",
        "    # Encode input x\r\n",
        "    encoded_x = encoder(x)\r\n",
        "    # dummy array for collecting noised x\r\n",
        "    gen_x = np.empty((len(x), 4, 128, 128))\r\n",
        "    \r\n",
        "    # Make x until total # of x to 5000\r\n",
        "    for i in range((5000//len(x)) + 1):\r\n",
        "        noised_encoded_x = encoded_x + np.normal(mean=np.zeros((len(encoded_x), 256, 13, 13)), std= STD*np.ones((len(encoded_x), 256, 13, 13)))\r\n",
        "        noised_gen_x = decoder(noised_encoded_x)\r\n",
        "        gen_x[i] = noised_gen_x\r\n",
        "    gen_y = np.full((len(gen_x), 1), label)\r\n",
        "    \r\n",
        "    return gen_x[1:], gen_y[1:]"
      ],
      "outputs": [],
      "metadata": {
        "_uuid": "53185d9b371ab1719c7738acb3f391ebb4c731a4",
        "id": "7xbaeaSbYYJL"
      }
    },
    {
      "cell_type": "code",
      "execution_count": 120,
      "source": [
        "# reset\r\n",
        "X = train_loader \r\n",
        "y = np.array(label).reshape((-1, 1))\r\n",
        "y = torch.as_tensor(y)\r\n",
        "print(X.shape)\r\n",
        "print(y.shape)"
      ],
      "outputs": [
        {
          "output_type": "error",
          "ename": "AttributeError",
          "evalue": "'DataLoader' object has no attribute 'shape'",
          "traceback": [
            "\u001b[1;31m---------------------------------------------------------------------------\u001b[0m",
            "\u001b[1;31mAttributeError\u001b[0m                            Traceback (most recent call last)",
            "\u001b[1;32m<ipython-input-120-edde94a8656f>\u001b[0m in \u001b[0;36m<module>\u001b[1;34m\u001b[0m\n\u001b[0;32m      3\u001b[0m \u001b[0my\u001b[0m \u001b[1;33m=\u001b[0m \u001b[0mnp\u001b[0m\u001b[1;33m.\u001b[0m\u001b[0marray\u001b[0m\u001b[1;33m(\u001b[0m\u001b[0mlabel\u001b[0m\u001b[1;33m)\u001b[0m\u001b[1;33m.\u001b[0m\u001b[0mreshape\u001b[0m\u001b[1;33m(\u001b[0m\u001b[1;33m(\u001b[0m\u001b[1;33m-\u001b[0m\u001b[1;36m1\u001b[0m\u001b[1;33m,\u001b[0m \u001b[1;36m1\u001b[0m\u001b[1;33m)\u001b[0m\u001b[1;33m)\u001b[0m\u001b[1;33m\u001b[0m\u001b[1;33m\u001b[0m\u001b[0m\n\u001b[0;32m      4\u001b[0m \u001b[0my\u001b[0m \u001b[1;33m=\u001b[0m \u001b[0mtorch\u001b[0m\u001b[1;33m.\u001b[0m\u001b[0mas_tensor\u001b[0m\u001b[1;33m(\u001b[0m\u001b[0my\u001b[0m\u001b[1;33m)\u001b[0m\u001b[1;33m\u001b[0m\u001b[1;33m\u001b[0m\u001b[0m\n\u001b[1;32m----> 5\u001b[1;33m \u001b[0mprint\u001b[0m\u001b[1;33m(\u001b[0m\u001b[0mX\u001b[0m\u001b[1;33m.\u001b[0m\u001b[0mshape\u001b[0m\u001b[1;33m)\u001b[0m\u001b[1;33m\u001b[0m\u001b[1;33m\u001b[0m\u001b[0m\n\u001b[0m\u001b[0;32m      6\u001b[0m \u001b[0mprint\u001b[0m\u001b[1;33m(\u001b[0m\u001b[0my\u001b[0m\u001b[1;33m.\u001b[0m\u001b[0mshape\u001b[0m\u001b[1;33m)\u001b[0m\u001b[1;33m\u001b[0m\u001b[1;33m\u001b[0m\u001b[0m\n",
            "\u001b[1;31mAttributeError\u001b[0m: 'DataLoader' object has no attribute 'shape'"
          ]
        }
      ],
      "metadata": {}
    },
    {
      "cell_type": "code",
      "execution_count": 118,
      "source": [
        "# Augmentation for all faulty case.\r\n",
        "new_x = torch.empty((len(X), 9, 4, 128, 128))\r\n",
        "\r\n",
        "for f in tqdm(faulty_case) : \r\n",
        "    if f == 8 : # skip none case\r\n",
        "        continue\r\n",
        "    target_index = np.where(y==f)[0]\r\n",
        "    gen_x, gen_y = gen_data(X[target_index], f)\r\n",
        "    new_x = torch.cat((new_x, gen_x), axis=0)\r\n",
        "    y = torch.cat((y, gen_y))"
      ],
      "outputs": [
        {
          "output_type": "error",
          "ename": "NameError",
          "evalue": "name 'X' is not defined",
          "traceback": [
            "\u001b[1;31m---------------------------------------------------------------------------\u001b[0m",
            "\u001b[1;31mNameError\u001b[0m                                 Traceback (most recent call last)",
            "\u001b[1;32m<ipython-input-118-f72cf84d854a>\u001b[0m in \u001b[0;36m<module>\u001b[1;34m\u001b[0m\n\u001b[0;32m      1\u001b[0m \u001b[1;31m# Augmentation for all faulty case.\u001b[0m\u001b[1;33m\u001b[0m\u001b[1;33m\u001b[0m\u001b[1;33m\u001b[0m\u001b[0m\n\u001b[1;32m----> 2\u001b[1;33m \u001b[0mnew_x\u001b[0m \u001b[1;33m=\u001b[0m \u001b[0mtorch\u001b[0m\u001b[1;33m.\u001b[0m\u001b[0mempty\u001b[0m\u001b[1;33m(\u001b[0m\u001b[1;33m(\u001b[0m\u001b[0mlen\u001b[0m\u001b[1;33m(\u001b[0m\u001b[0mX\u001b[0m\u001b[1;33m)\u001b[0m\u001b[1;33m,\u001b[0m \u001b[1;36m9\u001b[0m\u001b[1;33m,\u001b[0m \u001b[1;36m4\u001b[0m\u001b[1;33m,\u001b[0m \u001b[1;36m128\u001b[0m\u001b[1;33m,\u001b[0m \u001b[1;36m128\u001b[0m\u001b[1;33m)\u001b[0m\u001b[1;33m)\u001b[0m\u001b[1;33m\u001b[0m\u001b[1;33m\u001b[0m\u001b[0m\n\u001b[0m\u001b[0;32m      3\u001b[0m \u001b[1;33m\u001b[0m\u001b[0m\n\u001b[0;32m      4\u001b[0m \u001b[1;32mfor\u001b[0m \u001b[0mf\u001b[0m \u001b[1;32min\u001b[0m \u001b[0mtqdm\u001b[0m\u001b[1;33m(\u001b[0m\u001b[0mfaulty_case\u001b[0m\u001b[1;33m)\u001b[0m \u001b[1;33m:\u001b[0m\u001b[1;33m\u001b[0m\u001b[1;33m\u001b[0m\u001b[0m\n\u001b[0;32m      5\u001b[0m     \u001b[1;32mif\u001b[0m \u001b[0mf\u001b[0m \u001b[1;33m==\u001b[0m \u001b[1;36m8\u001b[0m \u001b[1;33m:\u001b[0m \u001b[1;31m# skip none case\u001b[0m\u001b[1;33m\u001b[0m\u001b[1;33m\u001b[0m\u001b[0m\n",
            "\u001b[1;31mNameError\u001b[0m: name 'X' is not defined"
          ]
        }
      ],
      "metadata": {
        "_uuid": "feafb17181cc20ae48402d75789f241d1ae7a5df",
        "id": "wXVwCD8MYYJM"
      }
    },
    {
      "cell_type": "code",
      "execution_count": null,
      "source": [
        "print('After Generate X shape : {}, y shape : {}'.format(X.shape, y.shape))"
      ],
      "outputs": [
        {
          "output_type": "stream",
          "name": "stdout",
          "text": [
            "After Generate X shape : torch.Size([30707, 3, 26, 26]), y shape : torch.Size([30707, 1])\n"
          ]
        }
      ],
      "metadata": {
        "_uuid": "312ccd58ce0419f36b8b45aa6a5c3b6992e7045c",
        "colab": {
          "base_uri": "https://localhost:8080/"
        },
        "id": "3aFwm7GJYYJM",
        "outputId": "b57e0225-65d4-4675-aa7d-8b1272e2796e"
      }
    },
    {
      "cell_type": "code",
      "execution_count": null,
      "source": [
        "for f in faulty_case :\r\n",
        "    print('{} : {}'.format(f, len(y[y==f])))"
      ],
      "outputs": [
        {
          "output_type": "stream",
          "name": "stdout",
          "text": [
            "0 : 2160\n",
            "1 : 2002\n",
            "2 : 2368\n",
            "3 : 2046\n",
            "4 : 2376\n",
            "5 : 2032\n",
            "6 : 2146\n",
            "7 : 2088\n",
            "8 : 13489\n"
          ]
        }
      ],
      "metadata": {
        "_uuid": "6eae1b2b5ea63bbd6ff0f6e10e33377b59ff26c7",
        "colab": {
          "base_uri": "https://localhost:8080/"
        },
        "id": "E7APpKVQYYJM",
        "outputId": "2b054a5d-37ac-4f8f-deb5-1deac0ca1bb9"
      }
    },
    {
      "cell_type": "code",
      "execution_count": null,
      "source": [
        "# choice index without replace.\r\n",
        "none_idx = np.where(y==8)[0][np.random.choice(len(np.where(y==8)[0]), size=11000, replace=False)]"
      ],
      "outputs": [],
      "metadata": {
        "_uuid": "2c8e55735742f478c4bdbc182cb2cca289c61be6",
        "id": "gIsX4fnXYYJM"
      }
    },
    {
      "cell_type": "code",
      "execution_count": null,
      "source": [
        "X = X.detach().numpy()\r\n",
        "y = y.detach().numpy()"
      ],
      "outputs": [],
      "metadata": {}
    },
    {
      "cell_type": "code",
      "execution_count": null,
      "source": [
        "# delete choiced index data.\r\n",
        "new_x = np.delete(X, none_idx, axis=0)\r\n",
        "new_y = np.delete(y, none_idx, axis=0)"
      ],
      "outputs": [],
      "metadata": {
        "_uuid": "176736aa682e1865b5c9224abcc497100c07da2c",
        "id": "fWAn0q03YYJM"
      }
    },
    {
      "cell_type": "code",
      "execution_count": null,
      "source": [
        "print('After Delete \"none\" class new_x shape : {}, new_y shape : {}'.format(new_x.shape, new_y.shape))"
      ],
      "outputs": [
        {
          "output_type": "stream",
          "name": "stdout",
          "text": [
            "After Delete \"none\" class new_x shape : (19707, 3, 26, 26), new_y shape : (19707, 1)\n"
          ]
        }
      ],
      "metadata": {
        "_uuid": "984ca3aab008480e2a559d221edb97471b9d20d4",
        "colab": {
          "base_uri": "https://localhost:8080/"
        },
        "id": "8aJqLtVfYYJN",
        "outputId": "746a5d8e-aed2-4530-e19b-cb12d969143e"
      }
    },
    {
      "cell_type": "code",
      "execution_count": null,
      "source": [
        "for f in faulty_case :\r\n",
        "    print('{} : {}'.format(f, len(new_y[new_y==f])))"
      ],
      "outputs": [
        {
          "output_type": "stream",
          "name": "stdout",
          "text": [
            "0 : 2160\n",
            "1 : 2002\n",
            "2 : 2368\n",
            "3 : 2046\n",
            "4 : 2376\n",
            "5 : 2032\n",
            "6 : 2146\n",
            "7 : 2088\n",
            "8 : 2489\n"
          ]
        }
      ],
      "metadata": {
        "_uuid": "f25df666116dad97d9437c632b9f4706fbb36589",
        "colab": {
          "base_uri": "https://localhost:8080/"
        },
        "id": "2WwKo_pdYYJN",
        "outputId": "eaa01181-1aec-4119-b603-ba30c5eee8a0"
      }
    },
    {
      "cell_type": "code",
      "execution_count": null,
      "source": [
        "new_x = torch.tensor(new_x, dtype=torch.float32)\r\n",
        "new_y = torch.tensor(new_y, dtype=torch.long)\r\n",
        "dataset = TensorDataset(new_x, new_y)\r\n",
        "train_indices, val_indices = train_test_split(list(range(len(new_y))), test_size = 0.2, stratify = new_y)\r\n",
        "\r\n",
        "train_dataset = torch.utils.data.Subset(dataset, train_indices)\r\n",
        "val_dataset = torch.utils.data.Subset(dataset, val_indices)\r\n",
        "\r\n",
        "train_loader = DataLoader(train_dataset, batch_size=BATCH_SIZE)\r\n",
        "val_loader = DataLoader(val_dataset, batch_size=BATCH_SIZE)\r\n",
        "\r\n",
        "sample = next(iter(train_loader))\r\n",
        "print(sample[0].shape)\r\n",
        "print(sample[1].shape)"
      ],
      "outputs": [
        {
          "output_type": "stream",
          "name": "stdout",
          "text": [
            "torch.Size([1024, 3, 26, 26])\n",
            "torch.Size([1024, 1])\n"
          ]
        }
      ],
      "metadata": {
        "_uuid": "45c97eb59ee98522979105b6b1b127461a2c235b",
        "id": "QBJMAjeJYYJN"
      }
    },
    {
      "cell_type": "markdown",
      "source": [
        "### 모델 생성"
      ],
      "metadata": {
        "id": "xv563-o6RUtl"
      }
    },
    {
      "cell_type": "markdown",
      "source": [
        "# Transfer Learning"
      ],
      "metadata": {
        "_uuid": "5811613cd83778f3a2a7aa28a47c362cedbe713f",
        "id": "9vUr3jywYYJO"
      }
    },
    {
      "cell_type": "code",
      "execution_count": null,
      "source": [
        "from efficientnet_pytorch import EfficientNet \r\n",
        "model = EfficientNet.from_pretrained(\"efficientnet-b4\", advprop=True, num_classes = 9) # Transfer learning\r\n",
        "summary(model, torch.zeros(BATCH_SIZE, 3, 26, 26))"
      ],
      "outputs": [
        {
          "output_type": "stream",
          "name": "stdout",
          "text": [
            "Loaded pretrained weights for efficientnet-b4\n"
          ]
        },
        {
          "output_type": "error",
          "ename": "RuntimeError",
          "evalue": "Calculated padded input size per channel: (4 x 4). Kernel size: (5 x 5). Kernel size can't be greater than actual input size",
          "traceback": [
            "\u001b[1;31m---------------------------------------------------------------------------\u001b[0m",
            "\u001b[1;31mRuntimeError\u001b[0m                              Traceback (most recent call last)",
            "\u001b[1;32m<ipython-input-78-621866310f1a>\u001b[0m in \u001b[0;36m<module>\u001b[1;34m\u001b[0m\n\u001b[0;32m      1\u001b[0m \u001b[1;32mfrom\u001b[0m \u001b[0mefficientnet_pytorch\u001b[0m \u001b[1;32mimport\u001b[0m \u001b[0mEfficientNet\u001b[0m\u001b[1;33m\u001b[0m\u001b[1;33m\u001b[0m\u001b[0m\n\u001b[0;32m      2\u001b[0m \u001b[0mmodel\u001b[0m \u001b[1;33m=\u001b[0m \u001b[0mEfficientNet\u001b[0m\u001b[1;33m.\u001b[0m\u001b[0mfrom_pretrained\u001b[0m\u001b[1;33m(\u001b[0m\u001b[1;34m\"efficientnet-b4\"\u001b[0m\u001b[1;33m,\u001b[0m \u001b[0madvprop\u001b[0m\u001b[1;33m=\u001b[0m\u001b[1;32mTrue\u001b[0m\u001b[1;33m,\u001b[0m \u001b[0mnum_classes\u001b[0m \u001b[1;33m=\u001b[0m \u001b[1;36m9\u001b[0m\u001b[1;33m)\u001b[0m \u001b[1;31m# Transfer learning\u001b[0m\u001b[1;33m\u001b[0m\u001b[1;33m\u001b[0m\u001b[0m\n\u001b[1;32m----> 3\u001b[1;33m \u001b[0msummary\u001b[0m\u001b[1;33m(\u001b[0m\u001b[0mmodel\u001b[0m\u001b[1;33m,\u001b[0m \u001b[0mtorch\u001b[0m\u001b[1;33m.\u001b[0m\u001b[0mzeros\u001b[0m\u001b[1;33m(\u001b[0m\u001b[0mBATCH_SIZE\u001b[0m\u001b[1;33m,\u001b[0m \u001b[1;36m3\u001b[0m\u001b[1;33m,\u001b[0m \u001b[1;36m26\u001b[0m\u001b[1;33m,\u001b[0m \u001b[1;36m26\u001b[0m\u001b[1;33m)\u001b[0m\u001b[1;33m)\u001b[0m\u001b[1;33m\u001b[0m\u001b[1;33m\u001b[0m\u001b[0m\n\u001b[0m",
            "\u001b[1;32m~\\anaconda3\\envs\\torch180\\lib\\site-packages\\torchsummaryX\\torchsummaryX.py\u001b[0m in \u001b[0;36msummary\u001b[1;34m(model, x, *args, **kwargs)\u001b[0m\n\u001b[0;32m     84\u001b[0m     \u001b[1;32mtry\u001b[0m\u001b[1;33m:\u001b[0m\u001b[1;33m\u001b[0m\u001b[1;33m\u001b[0m\u001b[0m\n\u001b[0;32m     85\u001b[0m         \u001b[1;32mwith\u001b[0m \u001b[0mtorch\u001b[0m\u001b[1;33m.\u001b[0m\u001b[0mno_grad\u001b[0m\u001b[1;33m(\u001b[0m\u001b[1;33m)\u001b[0m\u001b[1;33m:\u001b[0m\u001b[1;33m\u001b[0m\u001b[1;33m\u001b[0m\u001b[0m\n\u001b[1;32m---> 86\u001b[1;33m             \u001b[0mmodel\u001b[0m\u001b[1;33m(\u001b[0m\u001b[0mx\u001b[0m\u001b[1;33m)\u001b[0m \u001b[1;32mif\u001b[0m \u001b[1;32mnot\u001b[0m \u001b[1;33m(\u001b[0m\u001b[0mkwargs\u001b[0m \u001b[1;32mor\u001b[0m \u001b[0margs\u001b[0m\u001b[1;33m)\u001b[0m \u001b[1;32melse\u001b[0m \u001b[0mmodel\u001b[0m\u001b[1;33m(\u001b[0m\u001b[0mx\u001b[0m\u001b[1;33m,\u001b[0m \u001b[1;33m*\u001b[0m\u001b[0margs\u001b[0m\u001b[1;33m,\u001b[0m \u001b[1;33m**\u001b[0m\u001b[0mkwargs\u001b[0m\u001b[1;33m)\u001b[0m\u001b[1;33m\u001b[0m\u001b[1;33m\u001b[0m\u001b[0m\n\u001b[0m\u001b[0;32m     87\u001b[0m     \u001b[1;32mfinally\u001b[0m\u001b[1;33m:\u001b[0m\u001b[1;33m\u001b[0m\u001b[1;33m\u001b[0m\u001b[0m\n\u001b[0;32m     88\u001b[0m         \u001b[1;32mfor\u001b[0m \u001b[0mhook\u001b[0m \u001b[1;32min\u001b[0m \u001b[0mhooks\u001b[0m\u001b[1;33m:\u001b[0m\u001b[1;33m\u001b[0m\u001b[1;33m\u001b[0m\u001b[0m\n",
            "\u001b[1;32m~\\anaconda3\\envs\\torch180\\lib\\site-packages\\torch\\nn\\modules\\module.py\u001b[0m in \u001b[0;36m_call_impl\u001b[1;34m(self, *input, **kwargs)\u001b[0m\n\u001b[0;32m   1049\u001b[0m         if not (self._backward_hooks or self._forward_hooks or self._forward_pre_hooks or _global_backward_hooks\n\u001b[0;32m   1050\u001b[0m                 or _global_forward_hooks or _global_forward_pre_hooks):\n\u001b[1;32m-> 1051\u001b[1;33m             \u001b[1;32mreturn\u001b[0m \u001b[0mforward_call\u001b[0m\u001b[1;33m(\u001b[0m\u001b[1;33m*\u001b[0m\u001b[0minput\u001b[0m\u001b[1;33m,\u001b[0m \u001b[1;33m**\u001b[0m\u001b[0mkwargs\u001b[0m\u001b[1;33m)\u001b[0m\u001b[1;33m\u001b[0m\u001b[1;33m\u001b[0m\u001b[0m\n\u001b[0m\u001b[0;32m   1052\u001b[0m         \u001b[1;31m# Do not call functions when jit is used\u001b[0m\u001b[1;33m\u001b[0m\u001b[1;33m\u001b[0m\u001b[1;33m\u001b[0m\u001b[0m\n\u001b[0;32m   1053\u001b[0m         \u001b[0mfull_backward_hooks\u001b[0m\u001b[1;33m,\u001b[0m \u001b[0mnon_full_backward_hooks\u001b[0m \u001b[1;33m=\u001b[0m \u001b[1;33m[\u001b[0m\u001b[1;33m]\u001b[0m\u001b[1;33m,\u001b[0m \u001b[1;33m[\u001b[0m\u001b[1;33m]\u001b[0m\u001b[1;33m\u001b[0m\u001b[1;33m\u001b[0m\u001b[0m\n",
            "\u001b[1;32m~\\anaconda3\\envs\\torch180\\lib\\site-packages\\efficientnet_pytorch\\model.py\u001b[0m in \u001b[0;36mforward\u001b[1;34m(self, inputs)\u001b[0m\n\u001b[0;32m    312\u001b[0m         \"\"\"\n\u001b[0;32m    313\u001b[0m         \u001b[1;31m# Convolution layers\u001b[0m\u001b[1;33m\u001b[0m\u001b[1;33m\u001b[0m\u001b[1;33m\u001b[0m\u001b[0m\n\u001b[1;32m--> 314\u001b[1;33m         \u001b[0mx\u001b[0m \u001b[1;33m=\u001b[0m \u001b[0mself\u001b[0m\u001b[1;33m.\u001b[0m\u001b[0mextract_features\u001b[0m\u001b[1;33m(\u001b[0m\u001b[0minputs\u001b[0m\u001b[1;33m)\u001b[0m\u001b[1;33m\u001b[0m\u001b[1;33m\u001b[0m\u001b[0m\n\u001b[0m\u001b[0;32m    315\u001b[0m         \u001b[1;31m# Pooling and final linear layer\u001b[0m\u001b[1;33m\u001b[0m\u001b[1;33m\u001b[0m\u001b[1;33m\u001b[0m\u001b[0m\n\u001b[0;32m    316\u001b[0m         \u001b[0mx\u001b[0m \u001b[1;33m=\u001b[0m \u001b[0mself\u001b[0m\u001b[1;33m.\u001b[0m\u001b[0m_avg_pooling\u001b[0m\u001b[1;33m(\u001b[0m\u001b[0mx\u001b[0m\u001b[1;33m)\u001b[0m\u001b[1;33m\u001b[0m\u001b[1;33m\u001b[0m\u001b[0m\n",
            "\u001b[1;32m~\\anaconda3\\envs\\torch180\\lib\\site-packages\\efficientnet_pytorch\\model.py\u001b[0m in \u001b[0;36mextract_features\u001b[1;34m(self, inputs)\u001b[0m\n\u001b[0;32m    294\u001b[0m             \u001b[1;32mif\u001b[0m \u001b[0mdrop_connect_rate\u001b[0m\u001b[1;33m:\u001b[0m\u001b[1;33m\u001b[0m\u001b[1;33m\u001b[0m\u001b[0m\n\u001b[0;32m    295\u001b[0m                 \u001b[0mdrop_connect_rate\u001b[0m \u001b[1;33m*=\u001b[0m \u001b[0mfloat\u001b[0m\u001b[1;33m(\u001b[0m\u001b[0midx\u001b[0m\u001b[1;33m)\u001b[0m \u001b[1;33m/\u001b[0m \u001b[0mlen\u001b[0m\u001b[1;33m(\u001b[0m\u001b[0mself\u001b[0m\u001b[1;33m.\u001b[0m\u001b[0m_blocks\u001b[0m\u001b[1;33m)\u001b[0m  \u001b[1;31m# scale drop connect_rate\u001b[0m\u001b[1;33m\u001b[0m\u001b[1;33m\u001b[0m\u001b[0m\n\u001b[1;32m--> 296\u001b[1;33m             \u001b[0mx\u001b[0m \u001b[1;33m=\u001b[0m \u001b[0mblock\u001b[0m\u001b[1;33m(\u001b[0m\u001b[0mx\u001b[0m\u001b[1;33m,\u001b[0m \u001b[0mdrop_connect_rate\u001b[0m\u001b[1;33m=\u001b[0m\u001b[0mdrop_connect_rate\u001b[0m\u001b[1;33m)\u001b[0m\u001b[1;33m\u001b[0m\u001b[1;33m\u001b[0m\u001b[0m\n\u001b[0m\u001b[0;32m    297\u001b[0m \u001b[1;33m\u001b[0m\u001b[0m\n\u001b[0;32m    298\u001b[0m         \u001b[1;31m# Head\u001b[0m\u001b[1;33m\u001b[0m\u001b[1;33m\u001b[0m\u001b[1;33m\u001b[0m\u001b[0m\n",
            "\u001b[1;32m~\\anaconda3\\envs\\torch180\\lib\\site-packages\\torch\\nn\\modules\\module.py\u001b[0m in \u001b[0;36m_call_impl\u001b[1;34m(self, *input, **kwargs)\u001b[0m\n\u001b[0;32m   1049\u001b[0m         if not (self._backward_hooks or self._forward_hooks or self._forward_pre_hooks or _global_backward_hooks\n\u001b[0;32m   1050\u001b[0m                 or _global_forward_hooks or _global_forward_pre_hooks):\n\u001b[1;32m-> 1051\u001b[1;33m             \u001b[1;32mreturn\u001b[0m \u001b[0mforward_call\u001b[0m\u001b[1;33m(\u001b[0m\u001b[1;33m*\u001b[0m\u001b[0minput\u001b[0m\u001b[1;33m,\u001b[0m \u001b[1;33m**\u001b[0m\u001b[0mkwargs\u001b[0m\u001b[1;33m)\u001b[0m\u001b[1;33m\u001b[0m\u001b[1;33m\u001b[0m\u001b[0m\n\u001b[0m\u001b[0;32m   1052\u001b[0m         \u001b[1;31m# Do not call functions when jit is used\u001b[0m\u001b[1;33m\u001b[0m\u001b[1;33m\u001b[0m\u001b[1;33m\u001b[0m\u001b[0m\n\u001b[0;32m   1053\u001b[0m         \u001b[0mfull_backward_hooks\u001b[0m\u001b[1;33m,\u001b[0m \u001b[0mnon_full_backward_hooks\u001b[0m \u001b[1;33m=\u001b[0m \u001b[1;33m[\u001b[0m\u001b[1;33m]\u001b[0m\u001b[1;33m,\u001b[0m \u001b[1;33m[\u001b[0m\u001b[1;33m]\u001b[0m\u001b[1;33m\u001b[0m\u001b[1;33m\u001b[0m\u001b[0m\n",
            "\u001b[1;32m~\\anaconda3\\envs\\torch180\\lib\\site-packages\\efficientnet_pytorch\\model.py\u001b[0m in \u001b[0;36mforward\u001b[1;34m(self, inputs, drop_connect_rate)\u001b[0m\n\u001b[0;32m    107\u001b[0m             \u001b[0mx\u001b[0m \u001b[1;33m=\u001b[0m \u001b[0mself\u001b[0m\u001b[1;33m.\u001b[0m\u001b[0m_swish\u001b[0m\u001b[1;33m(\u001b[0m\u001b[0mx\u001b[0m\u001b[1;33m)\u001b[0m\u001b[1;33m\u001b[0m\u001b[1;33m\u001b[0m\u001b[0m\n\u001b[0;32m    108\u001b[0m \u001b[1;33m\u001b[0m\u001b[0m\n\u001b[1;32m--> 109\u001b[1;33m         \u001b[0mx\u001b[0m \u001b[1;33m=\u001b[0m \u001b[0mself\u001b[0m\u001b[1;33m.\u001b[0m\u001b[0m_depthwise_conv\u001b[0m\u001b[1;33m(\u001b[0m\u001b[0mx\u001b[0m\u001b[1;33m)\u001b[0m\u001b[1;33m\u001b[0m\u001b[1;33m\u001b[0m\u001b[0m\n\u001b[0m\u001b[0;32m    110\u001b[0m         \u001b[0mx\u001b[0m \u001b[1;33m=\u001b[0m \u001b[0mself\u001b[0m\u001b[1;33m.\u001b[0m\u001b[0m_bn1\u001b[0m\u001b[1;33m(\u001b[0m\u001b[0mx\u001b[0m\u001b[1;33m)\u001b[0m\u001b[1;33m\u001b[0m\u001b[1;33m\u001b[0m\u001b[0m\n\u001b[0;32m    111\u001b[0m         \u001b[0mx\u001b[0m \u001b[1;33m=\u001b[0m \u001b[0mself\u001b[0m\u001b[1;33m.\u001b[0m\u001b[0m_swish\u001b[0m\u001b[1;33m(\u001b[0m\u001b[0mx\u001b[0m\u001b[1;33m)\u001b[0m\u001b[1;33m\u001b[0m\u001b[1;33m\u001b[0m\u001b[0m\n",
            "\u001b[1;32m~\\anaconda3\\envs\\torch180\\lib\\site-packages\\torch\\nn\\modules\\module.py\u001b[0m in \u001b[0;36m_call_impl\u001b[1;34m(self, *input, **kwargs)\u001b[0m\n\u001b[0;32m   1049\u001b[0m         if not (self._backward_hooks or self._forward_hooks or self._forward_pre_hooks or _global_backward_hooks\n\u001b[0;32m   1050\u001b[0m                 or _global_forward_hooks or _global_forward_pre_hooks):\n\u001b[1;32m-> 1051\u001b[1;33m             \u001b[1;32mreturn\u001b[0m \u001b[0mforward_call\u001b[0m\u001b[1;33m(\u001b[0m\u001b[1;33m*\u001b[0m\u001b[0minput\u001b[0m\u001b[1;33m,\u001b[0m \u001b[1;33m**\u001b[0m\u001b[0mkwargs\u001b[0m\u001b[1;33m)\u001b[0m\u001b[1;33m\u001b[0m\u001b[1;33m\u001b[0m\u001b[0m\n\u001b[0m\u001b[0;32m   1052\u001b[0m         \u001b[1;31m# Do not call functions when jit is used\u001b[0m\u001b[1;33m\u001b[0m\u001b[1;33m\u001b[0m\u001b[1;33m\u001b[0m\u001b[0m\n\u001b[0;32m   1053\u001b[0m         \u001b[0mfull_backward_hooks\u001b[0m\u001b[1;33m,\u001b[0m \u001b[0mnon_full_backward_hooks\u001b[0m \u001b[1;33m=\u001b[0m \u001b[1;33m[\u001b[0m\u001b[1;33m]\u001b[0m\u001b[1;33m,\u001b[0m \u001b[1;33m[\u001b[0m\u001b[1;33m]\u001b[0m\u001b[1;33m\u001b[0m\u001b[1;33m\u001b[0m\u001b[0m\n",
            "\u001b[1;32m~\\anaconda3\\envs\\torch180\\lib\\site-packages\\efficientnet_pytorch\\utils.py\u001b[0m in \u001b[0;36mforward\u001b[1;34m(self, x)\u001b[0m\n\u001b[0;32m    273\u001b[0m     \u001b[1;32mdef\u001b[0m \u001b[0mforward\u001b[0m\u001b[1;33m(\u001b[0m\u001b[0mself\u001b[0m\u001b[1;33m,\u001b[0m \u001b[0mx\u001b[0m\u001b[1;33m)\u001b[0m\u001b[1;33m:\u001b[0m\u001b[1;33m\u001b[0m\u001b[1;33m\u001b[0m\u001b[0m\n\u001b[0;32m    274\u001b[0m         \u001b[0mx\u001b[0m \u001b[1;33m=\u001b[0m \u001b[0mself\u001b[0m\u001b[1;33m.\u001b[0m\u001b[0mstatic_padding\u001b[0m\u001b[1;33m(\u001b[0m\u001b[0mx\u001b[0m\u001b[1;33m)\u001b[0m\u001b[1;33m\u001b[0m\u001b[1;33m\u001b[0m\u001b[0m\n\u001b[1;32m--> 275\u001b[1;33m         \u001b[0mx\u001b[0m \u001b[1;33m=\u001b[0m \u001b[0mF\u001b[0m\u001b[1;33m.\u001b[0m\u001b[0mconv2d\u001b[0m\u001b[1;33m(\u001b[0m\u001b[0mx\u001b[0m\u001b[1;33m,\u001b[0m \u001b[0mself\u001b[0m\u001b[1;33m.\u001b[0m\u001b[0mweight\u001b[0m\u001b[1;33m,\u001b[0m \u001b[0mself\u001b[0m\u001b[1;33m.\u001b[0m\u001b[0mbias\u001b[0m\u001b[1;33m,\u001b[0m \u001b[0mself\u001b[0m\u001b[1;33m.\u001b[0m\u001b[0mstride\u001b[0m\u001b[1;33m,\u001b[0m \u001b[0mself\u001b[0m\u001b[1;33m.\u001b[0m\u001b[0mpadding\u001b[0m\u001b[1;33m,\u001b[0m \u001b[0mself\u001b[0m\u001b[1;33m.\u001b[0m\u001b[0mdilation\u001b[0m\u001b[1;33m,\u001b[0m \u001b[0mself\u001b[0m\u001b[1;33m.\u001b[0m\u001b[0mgroups\u001b[0m\u001b[1;33m)\u001b[0m\u001b[1;33m\u001b[0m\u001b[1;33m\u001b[0m\u001b[0m\n\u001b[0m\u001b[0;32m    276\u001b[0m         \u001b[1;32mreturn\u001b[0m \u001b[0mx\u001b[0m\u001b[1;33m\u001b[0m\u001b[1;33m\u001b[0m\u001b[0m\n\u001b[0;32m    277\u001b[0m \u001b[1;33m\u001b[0m\u001b[0m\n",
            "\u001b[1;31mRuntimeError\u001b[0m: Calculated padded input size per channel: (4 x 4). Kernel size: (5 x 5). Kernel size can't be greater than actual input size"
          ]
        }
      ],
      "metadata": {}
    },
    {
      "cell_type": "code",
      "execution_count": null,
      "source": [
        "# Make keras model to sklearn classifier.\r\n",
        "model = KerasClassifier(build_fn=create_model, epochs=10, batch_size=1024, verbose=2) \r\n",
        "# 3-Fold Crossvalidation\r\n",
        "kfold = KFold(n_splits=3, shuffle=True, random_state=2019) \r\n",
        "results = cross_val_score(model, x_train, y_train, cv=kfold)\r\n",
        "# Check 3-fold model's mean accuracy\r\n",
        "print('Class Activation Map Cross validation score : {:.4f}'.format(np.mean(results)))"
      ],
      "outputs": [
        {
          "output_type": "stream",
          "name": "stdout",
          "text": [
            "Epoch 1/10\n",
            "9/9 - 3s - loss: 2.2852 - accuracy: 0.2343\n",
            "Epoch 2/10\n",
            "9/9 - 1s - loss: 1.0510 - accuracy: 0.6105\n",
            "Epoch 3/10\n",
            "9/9 - 1s - loss: 0.5976 - accuracy: 0.7974\n",
            "Epoch 4/10\n",
            "9/9 - 1s - loss: 0.3421 - accuracy: 0.8905\n",
            "Epoch 5/10\n",
            "9/9 - 1s - loss: 0.2021 - accuracy: 0.9400\n",
            "Epoch 6/10\n",
            "9/9 - 1s - loss: 0.1012 - accuracy: 0.9739\n",
            "Epoch 7/10\n",
            "9/9 - 1s - loss: 0.0647 - accuracy: 0.9824\n",
            "Epoch 8/10\n",
            "9/9 - 1s - loss: 0.0456 - accuracy: 0.9894\n",
            "Epoch 9/10\n",
            "9/9 - 1s - loss: 0.0371 - accuracy: 0.9903\n",
            "Epoch 10/10\n",
            "9/9 - 1s - loss: 0.0242 - accuracy: 0.9948\n",
            "5/5 - 0s - loss: 0.0564 - accuracy: 0.9839\n",
            "Epoch 1/10\n",
            "9/9 - 1s - loss: 2.0436 - accuracy: 0.2915\n",
            "Epoch 2/10\n",
            "9/9 - 1s - loss: 1.0136 - accuracy: 0.6282\n",
            "Epoch 3/10\n",
            "9/9 - 1s - loss: 0.8086 - accuracy: 0.7245\n",
            "Epoch 4/10\n",
            "9/9 - 1s - loss: 0.5276 - accuracy: 0.8272\n",
            "Epoch 5/10\n",
            "9/9 - 1s - loss: 0.2860 - accuracy: 0.9104\n",
            "Epoch 6/10\n",
            "9/9 - 1s - loss: 0.1631 - accuracy: 0.9504\n",
            "Epoch 7/10\n",
            "9/9 - 1s - loss: 0.0869 - accuracy: 0.9766\n",
            "Epoch 8/10\n",
            "9/9 - 1s - loss: 0.0437 - accuracy: 0.9906\n",
            "Epoch 9/10\n",
            "9/9 - 1s - loss: 0.0303 - accuracy: 0.9942\n",
            "Epoch 10/10\n",
            "9/9 - 1s - loss: 0.0183 - accuracy: 0.9981\n",
            "5/5 - 0s - loss: 0.0596 - accuracy: 0.9827\n",
            "Epoch 1/10\n",
            "9/9 - 1s - loss: 2.0982 - accuracy: 0.3566\n",
            "Epoch 2/10\n",
            "9/9 - 1s - loss: 0.9127 - accuracy: 0.6581\n",
            "Epoch 3/10\n",
            "9/9 - 1s - loss: 0.5689 - accuracy: 0.8065\n",
            "Epoch 4/10\n",
            "9/9 - 1s - loss: 0.4436 - accuracy: 0.8764\n",
            "Epoch 5/10\n",
            "9/9 - 1s - loss: 0.2418 - accuracy: 0.9247\n",
            "Epoch 6/10\n",
            "9/9 - 1s - loss: 0.1367 - accuracy: 0.9598\n",
            "Epoch 7/10\n",
            "9/9 - 1s - loss: 0.0889 - accuracy: 0.9758\n",
            "Epoch 8/10\n",
            "9/9 - 1s - loss: 0.0514 - accuracy: 0.9886\n",
            "Epoch 9/10\n",
            "9/9 - 1s - loss: 0.0347 - accuracy: 0.9939\n",
            "Epoch 10/10\n",
            "9/9 - 1s - loss: 0.0347 - accuracy: 0.9923\n",
            "5/5 - 0s - loss: 0.0424 - accuracy: 0.9857\n",
            "Class Activation Map Cross validation score : 0.9841\n"
          ]
        }
      ],
      "metadata": {
        "_uuid": "529c16500f9f80e47f6b4e4ccbfa6c40c6d942e6",
        "colab": {
          "base_uri": "https://localhost:8080/"
        },
        "id": "nhv8jN2cYYJP",
        "outputId": "b3faeffc-63ba-477a-aab5-b2d3fabca897"
      }
    },
    {
      "cell_type": "markdown",
      "source": [
        "Our model seems quite a good model."
      ],
      "metadata": {
        "_uuid": "2672e64060160e345bab5fbcc27485d3bb28db03",
        "id": "7H3s59cTYYJP"
      }
    },
    {
      "cell_type": "code",
      "execution_count": null,
      "source": [
        "history = model.fit(x_train, y_train,\r\n",
        "         validation_data=(x_test, y_test),\r\n",
        "         epochs=50,\r\n",
        "         batch_size=batch_size,\r\n",
        "         )"
      ],
      "outputs": [
        {
          "output_type": "stream",
          "name": "stdout",
          "text": [
            "Epoch 1/50\n",
            "13/13 - 2s - loss: 2.1014 - accuracy: 0.3298 - val_loss: 1.2183 - val_accuracy: 0.6047\n",
            "Epoch 2/50\n",
            "13/13 - 1s - loss: 0.8919 - accuracy: 0.6777 - val_loss: 0.7060 - val_accuracy: 0.7222\n",
            "Epoch 3/50\n",
            "13/13 - 1s - loss: 0.6437 - accuracy: 0.7876 - val_loss: 0.5102 - val_accuracy: 0.8373\n",
            "Epoch 4/50\n",
            "13/13 - 1s - loss: 0.3477 - accuracy: 0.8915 - val_loss: 0.2814 - val_accuracy: 0.9045\n",
            "Epoch 5/50\n",
            "13/13 - 1s - loss: 0.1936 - accuracy: 0.9377 - val_loss: 0.1564 - val_accuracy: 0.9505\n",
            "Epoch 6/50\n",
            "13/13 - 1s - loss: 0.1094 - accuracy: 0.9681 - val_loss: 0.0968 - val_accuracy: 0.9702\n",
            "Epoch 7/50\n",
            "13/13 - 1s - loss: 0.0604 - accuracy: 0.9847 - val_loss: 0.0655 - val_accuracy: 0.9834\n",
            "Epoch 8/50\n",
            "13/13 - 1s - loss: 0.0372 - accuracy: 0.9915 - val_loss: 0.0445 - val_accuracy: 0.9875\n",
            "Epoch 9/50\n",
            "13/13 - 1s - loss: 0.0233 - accuracy: 0.9955 - val_loss: 0.0412 - val_accuracy: 0.9894\n",
            "Epoch 10/50\n",
            "13/13 - 1s - loss: 0.0168 - accuracy: 0.9968 - val_loss: 0.0367 - val_accuracy: 0.9894\n",
            "Epoch 11/50\n",
            "13/13 - 1s - loss: 0.0110 - accuracy: 0.9985 - val_loss: 0.0304 - val_accuracy: 0.9900\n",
            "Epoch 12/50\n",
            "13/13 - 1s - loss: 0.0100 - accuracy: 0.9982 - val_loss: 0.0329 - val_accuracy: 0.9897\n",
            "Epoch 13/50\n",
            "13/13 - 1s - loss: 0.0088 - accuracy: 0.9983 - val_loss: 0.0350 - val_accuracy: 0.9897\n",
            "Epoch 14/50\n",
            "13/13 - 1s - loss: 0.0097 - accuracy: 0.9981 - val_loss: 0.0452 - val_accuracy: 0.9845\n",
            "Epoch 15/50\n",
            "13/13 - 1s - loss: 0.0093 - accuracy: 0.9980 - val_loss: 0.0350 - val_accuracy: 0.9895\n",
            "Epoch 16/50\n",
            "13/13 - 1s - loss: 0.0058 - accuracy: 0.9986 - val_loss: 0.0316 - val_accuracy: 0.9900\n",
            "Epoch 17/50\n",
            "13/13 - 1s - loss: 0.0057 - accuracy: 0.9986 - val_loss: 0.0378 - val_accuracy: 0.9894\n",
            "Epoch 18/50\n",
            "13/13 - 1s - loss: 0.0070 - accuracy: 0.9984 - val_loss: 0.0348 - val_accuracy: 0.9872\n",
            "Epoch 19/50\n",
            "13/13 - 1s - loss: 0.0074 - accuracy: 0.9983 - val_loss: 0.0359 - val_accuracy: 0.9897\n",
            "Epoch 20/50\n",
            "13/13 - 1s - loss: 0.0051 - accuracy: 0.9988 - val_loss: 0.0302 - val_accuracy: 0.9905\n",
            "Epoch 21/50\n",
            "13/13 - 1s - loss: 0.0047 - accuracy: 0.9986 - val_loss: 0.0358 - val_accuracy: 0.9895\n",
            "Epoch 22/50\n",
            "13/13 - 1s - loss: 0.0098 - accuracy: 0.9975 - val_loss: 0.0347 - val_accuracy: 0.9888\n",
            "Epoch 23/50\n",
            "13/13 - 1s - loss: 0.0075 - accuracy: 0.9989 - val_loss: 0.0299 - val_accuracy: 0.9885\n",
            "Epoch 24/50\n",
            "13/13 - 1s - loss: 0.0051 - accuracy: 0.9987 - val_loss: 0.0291 - val_accuracy: 0.9905\n",
            "Epoch 25/50\n",
            "13/13 - 1s - loss: 0.0039 - accuracy: 0.9989 - val_loss: 0.0414 - val_accuracy: 0.9852\n",
            "Epoch 26/50\n",
            "13/13 - 1s - loss: 0.0047 - accuracy: 0.9986 - val_loss: 0.0329 - val_accuracy: 0.9899\n",
            "Epoch 27/50\n",
            "13/13 - 1s - loss: 0.0034 - accuracy: 0.9992 - val_loss: 0.0363 - val_accuracy: 0.9868\n",
            "Epoch 28/50\n",
            "13/13 - 1s - loss: 0.0040 - accuracy: 0.9989 - val_loss: 0.0386 - val_accuracy: 0.9894\n",
            "Epoch 29/50\n",
            "13/13 - 1s - loss: 0.0039 - accuracy: 0.9989 - val_loss: 0.0315 - val_accuracy: 0.9900\n",
            "Epoch 30/50\n",
            "13/13 - 1s - loss: 0.0033 - accuracy: 0.9989 - val_loss: 0.0313 - val_accuracy: 0.9903\n",
            "Epoch 31/50\n",
            "13/13 - 1s - loss: 0.0030 - accuracy: 0.9990 - val_loss: 0.0323 - val_accuracy: 0.9899\n",
            "Epoch 32/50\n",
            "13/13 - 1s - loss: 0.0050 - accuracy: 0.9985 - val_loss: 0.0348 - val_accuracy: 0.9906\n",
            "Epoch 33/50\n",
            "13/13 - 1s - loss: 0.0041 - accuracy: 0.9992 - val_loss: 0.0284 - val_accuracy: 0.9912\n",
            "Epoch 34/50\n",
            "13/13 - 1s - loss: 0.0036 - accuracy: 0.9990 - val_loss: 0.0365 - val_accuracy: 0.9883\n",
            "Epoch 35/50\n",
            "13/13 - 1s - loss: 0.0035 - accuracy: 0.9992 - val_loss: 0.0312 - val_accuracy: 0.9908\n",
            "Epoch 36/50\n",
            "13/13 - 1s - loss: 0.0034 - accuracy: 0.9991 - val_loss: 0.0302 - val_accuracy: 0.9911\n",
            "Epoch 37/50\n",
            "13/13 - 1s - loss: 0.0028 - accuracy: 0.9993 - val_loss: 0.0331 - val_accuracy: 0.9892\n",
            "Epoch 38/50\n",
            "13/13 - 1s - loss: 0.0047 - accuracy: 0.9986 - val_loss: 0.0338 - val_accuracy: 0.9888\n",
            "Epoch 39/50\n",
            "13/13 - 1s - loss: 0.0037 - accuracy: 0.9988 - val_loss: 0.0289 - val_accuracy: 0.9914\n",
            "Epoch 40/50\n",
            "13/13 - 1s - loss: 0.0025 - accuracy: 0.9993 - val_loss: 0.0376 - val_accuracy: 0.9897\n",
            "Epoch 41/50\n",
            "13/13 - 1s - loss: 0.0027 - accuracy: 0.9992 - val_loss: 0.0311 - val_accuracy: 0.9900\n",
            "Epoch 42/50\n",
            "13/13 - 1s - loss: 0.0032 - accuracy: 0.9989 - val_loss: 0.0498 - val_accuracy: 0.9879\n",
            "Epoch 43/50\n",
            "13/13 - 1s - loss: 0.0021 - accuracy: 0.9994 - val_loss: 0.0350 - val_accuracy: 0.9903\n",
            "Epoch 44/50\n",
            "13/13 - 1s - loss: 0.0023 - accuracy: 0.9993 - val_loss: 0.0348 - val_accuracy: 0.9906\n",
            "Epoch 45/50\n",
            "13/13 - 1s - loss: 0.0026 - accuracy: 0.9990 - val_loss: 0.0414 - val_accuracy: 0.9899\n",
            "Epoch 46/50\n",
            "13/13 - 1s - loss: 0.0025 - accuracy: 0.9992 - val_loss: 0.0366 - val_accuracy: 0.9891\n",
            "Epoch 47/50\n",
            "13/13 - 1s - loss: 0.0032 - accuracy: 0.9986 - val_loss: 0.0350 - val_accuracy: 0.9905\n",
            "Epoch 48/50\n",
            "13/13 - 1s - loss: 0.0034 - accuracy: 0.9989 - val_loss: 0.0382 - val_accuracy: 0.9897\n",
            "Epoch 49/50\n",
            "13/13 - 1s - loss: 0.0040 - accuracy: 0.9989 - val_loss: 0.0337 - val_accuracy: 0.9905\n",
            "Epoch 50/50\n",
            "13/13 - 1s - loss: 0.0033 - accuracy: 0.9992 - val_loss: 0.0309 - val_accuracy: 0.9899\n"
          ]
        }
      ],
      "metadata": {
        "colab": {
          "base_uri": "https://localhost:8080/"
        },
        "id": "hKhlm5kSYYJQ",
        "outputId": "32f403b0-4603-4117-dd8c-a5b01e2a0946"
      }
    },
    {
      "cell_type": "code",
      "execution_count": null,
      "source": [
        "# accuracy plot \r\n",
        "plt.plot(history.history['accuracy'])\r\n",
        "plt.plot(history.history['val_accuracy'])\r\n",
        "plt.title('model accuracy')\r\n",
        "plt.ylabel('accuracy')\r\n",
        "plt.xlabel('epoch')\r\n",
        "plt.legend(['train', 'test'], loc='upper left')\r\n",
        "plt.show()\r\n",
        "\r\n",
        "# loss plot\r\n",
        "plt.plot(history.history['loss'])\r\n",
        "plt.plot(history.history['val_loss'])\r\n",
        "plt.title('model loss')\r\n",
        "plt.ylabel('loss')\r\n",
        "plt.xlabel('epoch')\r\n",
        "plt.legend(['train', 'test'], loc='upper left')\r\n",
        "plt.show()"
      ],
      "outputs": [
        {
          "output_type": "display_data",
          "data": {
            "image/png": "[encoded data removed]",
            "text/plain": [
              "<Figure size 432x288 with 1 Axes>"
            ]
          },
          "metadata": {
            "needs_background": "light"
          }
        },
        {
          "output_type": "display_data",
          "data": {
            "image/png": "[encoded data removed]",
            "text/plain": [
              "<Figure size 432x288 with 1 Axes>"
            ]
          },
          "metadata": {
            "needs_background": "light"
          }
        }
      ],
      "metadata": {
        "_uuid": "be029459ed4461236a92d3fb9c367b1e9d0ac912",
        "colab": {
          "base_uri": "https://localhost:8080/",
          "height": 0
        },
        "id": "Je5s1ia5YYJQ",
        "outputId": "0aa8b643-18be-44e2-f4d1-1cbaa0d0416a"
      }
    },
    {
      "cell_type": "code",
      "execution_count": null,
      "source": [],
      "outputs": [],
      "metadata": {
        "id": "A4aE1eQ9Xz4v"
      }
    }
  ]
}