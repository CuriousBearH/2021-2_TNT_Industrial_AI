{
  "nbformat": 4,
  "nbformat_minor": 2,
  "metadata": {
    "kernelspec": {
      "name": "python3",
      "display_name": "Python 3.9.7 64-bit ('torch': conda)"
    },
    "language_info": {
      "codemirror_mode": {
        "name": "ipython",
        "version": 3
      },
      "file_extension": ".py",
      "mimetype": "text/x-python",
      "name": "python",
      "nbconvert_exporter": "python",
      "pygments_lexer": "ipython3",
      "version": "3.9.7"
    },
    "colab": {
      "name": "task2_data augmentation.ipynb",
      "provenance": [],
      "collapsed_sections": [
        "xv563-o6RUtl",
        "9vUr3jywYYJO"
      ]
    },
    "accelerator": "GPU",
    "interpreter": {
      "hash": "1f24b2f6551b049df64cb25183e90251dea2c63deab47566e118362740cff14f"
    }
  },
  "cells": [
    {
      "cell_type": "code",
      "execution_count": 160,
      "source": [
        "import os\r\n",
        "from os.path import join\r\n",
        "import numpy as np\r\n",
        "import pandas as pd\r\n",
        "import cv2\r\n",
        "from PIL import Image\r\n",
        "import gc\r\n",
        "import torch \r\n",
        "import torch.nn as nn\r\n",
        "import torch.nn.functional as F\r\n",
        "import torch.optim as optim\r\n",
        "from torch.utils.data import Dataset, TensorDataset, DataLoader, SubsetRandomSampler\r\n",
        "import torchvision.transforms as T\r\n",
        "import pytorch_lightning as pl \r\n",
        "from pytorch_lightning import LightningModule, LightningDataModule, Trainer, seed_everything\r\n",
        "from pytorch_lightning.callbacks import ModelCheckpoint, EarlyStopping, LearningRateMonitor\r\n",
        "from pytorch_lightning.loggers import TensorBoardLogger\r\n",
        "from torch.optim.lr_scheduler import ReduceLROnPlateau\r\n",
        "from torchmetrics.functional import accuracy\r\n",
        "from torchsummaryX import summary\r\n",
        "import matplotlib.pyplot as plt\r\n",
        "from tqdm import tqdm\r\n",
        "from sklearn.preprocessing import LabelEncoder\r\n",
        "from sklearn.model_selection import KFold \r\n",
        "from sklearn.model_selection import cross_val_score\r\n",
        "from sklearn.model_selection import train_test_split\r\n",
        "import warnings\r\n",
        "warnings.filterwarnings(\"ignore\")\r\n",
        "seed_everything(42)\r\n",
        "USE_CUDA = torch.cuda.is_available() \r\n",
        "AVAIL_GPUS = min(1, torch.cuda.device_count())\r\n",
        "device = torch.device('cuda:0' if USE_CUDA else 'cpu')\r\n",
        "%matplotlib inline\r\n",
        "print('pytorch version :',torch.__version__)\r\n",
        "print('Training device :',device)\r\n",
        "print('cuda index :', torch.cuda.current_device())\r\n",
        "print('graphic name :', torch.cuda.get_device_name())"
      ],
      "outputs": [
        {
          "output_type": "stream",
          "name": "stderr",
          "text": [
            "Global seed set to 42\n"
          ]
        },
        {
          "output_type": "stream",
          "name": "stdout",
          "text": [
            "pytorch version : 1.9.1\n",
            "Training device : cuda:0\n",
            "cuda index : 0\n",
            "graphic name : NVIDIA GeForce RTX 3080 Ti\n"
          ]
        }
      ],
      "metadata": {}
    },
    {
      "cell_type": "markdown",
      "source": [
        "# EDA / Preprocessing"
      ],
      "metadata": {}
    },
    {
      "cell_type": "code",
      "execution_count": 2,
      "source": [
        "df = pd.read_pickle(r\"C:\\Users\\user\\Drive\\TNT\\2021-2_TNT_Industrial_AI\\TASK2\\Week1\\LSWMD.pkl\")"
      ],
      "outputs": [],
      "metadata": {
        "id": "xYbmehJaIwwC"
      }
    },
    {
      "cell_type": "code",
      "execution_count": 3,
      "source": [
        "def removebrackets(array):\r\n",
        "    if array.shape == (1, 1):\r\n",
        "        return \"\".join(array[0])\r\n",
        "    elif array.shape == (0, 0):\r\n",
        "        return None\r\n",
        "\r\n",
        "df.rename(columns = {'trianTestLabel':'TrainTestLabel'}, inplace = 'True')\r\n",
        "df['TrainTestLabel'] = df['TrainTestLabel'].apply(removebrackets)\r\n",
        "df['failureType'] = df['failureType'].apply(removebrackets)\r\n",
        "df = df.dropna()"
      ],
      "outputs": [],
      "metadata": {}
    },
    {
      "cell_type": "code",
      "execution_count": 4,
      "source": [
        "df.info()"
      ],
      "outputs": [
        {
          "output_type": "stream",
          "name": "stdout",
          "text": [
            "<class 'pandas.core.frame.DataFrame'>\n",
            "Int64Index: 172950 entries, 0 to 811454\n",
            "Data columns (total 6 columns):\n",
            " #   Column          Non-Null Count   Dtype  \n",
            "---  ------          --------------   -----  \n",
            " 0   waferMap        172950 non-null  object \n",
            " 1   dieSize         172950 non-null  float64\n",
            " 2   lotName         172950 non-null  object \n",
            " 3   waferIndex      172950 non-null  float64\n",
            " 4   TrainTestLabel  172950 non-null  object \n",
            " 5   failureType     172950 non-null  object \n",
            "dtypes: float64(2), object(4)\n",
            "memory usage: 9.2+ MB\n"
          ]
        }
      ],
      "metadata": {
        "_cell_guid": "79c7e3d0-c299-4dcb-8224-4455121ee9b0",
        "_uuid": "d629ff2d2480ee46fbb7e2d37f6b5fab8052498a",
        "colab": {
          "base_uri": "https://localhost:8080/"
        },
        "id": "vSTdJhxDYYI4",
        "outputId": "11844310-b011-498c-896e-12db9abc74a5"
      }
    },
    {
      "cell_type": "code",
      "execution_count": 5,
      "source": [
        "df.isnull().sum()"
      ],
      "outputs": [
        {
          "output_type": "execute_result",
          "data": {
            "text/plain": [
              "waferMap          0\n",
              "dieSize           0\n",
              "lotName           0\n",
              "waferIndex        0\n",
              "TrainTestLabel    0\n",
              "failureType       0\n",
              "dtype: int64"
            ]
          },
          "metadata": {},
          "execution_count": 5
        }
      ],
      "metadata": {}
    },
    {
      "cell_type": "code",
      "execution_count": 6,
      "source": [
        "df.head()"
      ],
      "outputs": [
        {
          "output_type": "execute_result",
          "data": {
            "text/html": [
              "<div>\n",
              "<style scoped>\n",
              "    .dataframe tbody tr th:only-of-type {\n",
              "        vertical-align: middle;\n",
              "    }\n",
              "\n",
              "    .dataframe tbody tr th {\n",
              "        vertical-align: top;\n",
              "    }\n",
              "\n",
              "    .dataframe thead th {\n",
              "        text-align: right;\n",
              "    }\n",
              "</style>\n",
              "<table border=\"1\" class=\"dataframe\">\n",
              "  <thead>\n",
              "    <tr style=\"text-align: right;\">\n",
              "      <th></th>\n",
              "      <th>waferMap</th>\n",
              "      <th>dieSize</th>\n",
              "      <th>lotName</th>\n",
              "      <th>waferIndex</th>\n",
              "      <th>TrainTestLabel</th>\n",
              "      <th>failureType</th>\n",
              "    </tr>\n",
              "  </thead>\n",
              "  <tbody>\n",
              "    <tr>\n",
              "      <th>0</th>\n",
              "      <td>[[0, 0, 0, 0, 0, 0, 0, 0, 0, 0, 0, 0, 0, 0, 0,...</td>\n",
              "      <td>1683.0</td>\n",
              "      <td>lot1</td>\n",
              "      <td>1.0</td>\n",
              "      <td>Training</td>\n",
              "      <td>none</td>\n",
              "    </tr>\n",
              "    <tr>\n",
              "      <th>1</th>\n",
              "      <td>[[0, 0, 0, 0, 0, 0, 0, 0, 0, 0, 0, 0, 0, 0, 0,...</td>\n",
              "      <td>1683.0</td>\n",
              "      <td>lot1</td>\n",
              "      <td>2.0</td>\n",
              "      <td>Training</td>\n",
              "      <td>none</td>\n",
              "    </tr>\n",
              "    <tr>\n",
              "      <th>2</th>\n",
              "      <td>[[0, 0, 0, 0, 0, 0, 0, 0, 0, 0, 0, 0, 0, 0, 0,...</td>\n",
              "      <td>1683.0</td>\n",
              "      <td>lot1</td>\n",
              "      <td>3.0</td>\n",
              "      <td>Training</td>\n",
              "      <td>none</td>\n",
              "    </tr>\n",
              "    <tr>\n",
              "      <th>3</th>\n",
              "      <td>[[0, 0, 0, 0, 0, 0, 0, 0, 0, 0, 0, 0, 0, 0, 0,...</td>\n",
              "      <td>1683.0</td>\n",
              "      <td>lot1</td>\n",
              "      <td>4.0</td>\n",
              "      <td>Training</td>\n",
              "      <td>none</td>\n",
              "    </tr>\n",
              "    <tr>\n",
              "      <th>4</th>\n",
              "      <td>[[0, 0, 0, 0, 0, 0, 0, 0, 0, 0, 0, 0, 0, 0, 0,...</td>\n",
              "      <td>1683.0</td>\n",
              "      <td>lot1</td>\n",
              "      <td>5.0</td>\n",
              "      <td>Training</td>\n",
              "      <td>none</td>\n",
              "    </tr>\n",
              "  </tbody>\n",
              "</table>\n",
              "</div>"
            ],
            "text/plain": [
              "                                            waferMap  dieSize lotName  \\\n",
              "0  [[0, 0, 0, 0, 0, 0, 0, 0, 0, 0, 0, 0, 0, 0, 0,...   1683.0    lot1   \n",
              "1  [[0, 0, 0, 0, 0, 0, 0, 0, 0, 0, 0, 0, 0, 0, 0,...   1683.0    lot1   \n",
              "2  [[0, 0, 0, 0, 0, 0, 0, 0, 0, 0, 0, 0, 0, 0, 0,...   1683.0    lot1   \n",
              "3  [[0, 0, 0, 0, 0, 0, 0, 0, 0, 0, 0, 0, 0, 0, 0,...   1683.0    lot1   \n",
              "4  [[0, 0, 0, 0, 0, 0, 0, 0, 0, 0, 0, 0, 0, 0, 0,...   1683.0    lot1   \n",
              "\n",
              "   waferIndex TrainTestLabel failureType  \n",
              "0         1.0       Training        none  \n",
              "1         2.0       Training        none  \n",
              "2         3.0       Training        none  \n",
              "3         4.0       Training        none  \n",
              "4         5.0       Training        none  "
            ]
          },
          "metadata": {},
          "execution_count": 6
        }
      ],
      "metadata": {
        "_cell_guid": "68f6fd95-8687-450f-827b-418cc7143362",
        "_uuid": "6bb42da7f6371cdc7c624d67d29cb3ed395c7393",
        "colab": {
          "base_uri": "https://localhost:8080/",
          "height": 204
        },
        "id": "6m3AgSgWYYI6",
        "outputId": "76aa284d-60a9-4db8-ef22-a3ce99b59cb7"
      }
    },
    {
      "cell_type": "code",
      "execution_count": 7,
      "source": [
        "df.tail()"
      ],
      "outputs": [
        {
          "output_type": "execute_result",
          "data": {
            "text/html": [
              "<div>\n",
              "<style scoped>\n",
              "    .dataframe tbody tr th:only-of-type {\n",
              "        vertical-align: middle;\n",
              "    }\n",
              "\n",
              "    .dataframe tbody tr th {\n",
              "        vertical-align: top;\n",
              "    }\n",
              "\n",
              "    .dataframe thead th {\n",
              "        text-align: right;\n",
              "    }\n",
              "</style>\n",
              "<table border=\"1\" class=\"dataframe\">\n",
              "  <thead>\n",
              "    <tr style=\"text-align: right;\">\n",
              "      <th></th>\n",
              "      <th>waferMap</th>\n",
              "      <th>dieSize</th>\n",
              "      <th>lotName</th>\n",
              "      <th>waferIndex</th>\n",
              "      <th>TrainTestLabel</th>\n",
              "      <th>failureType</th>\n",
              "    </tr>\n",
              "  </thead>\n",
              "  <tbody>\n",
              "    <tr>\n",
              "      <th>811450</th>\n",
              "      <td>[[0, 0, 0, 0, 0, 0, 0, 0, 0, 0, 0, 1, 2, 1, 2,...</td>\n",
              "      <td>600.0</td>\n",
              "      <td>lot47542</td>\n",
              "      <td>21.0</td>\n",
              "      <td>Test</td>\n",
              "      <td>Edge-Loc</td>\n",
              "    </tr>\n",
              "    <tr>\n",
              "      <th>811451</th>\n",
              "      <td>[[0, 0, 0, 0, 0, 0, 0, 0, 0, 0, 0, 1, 1, 1, 1,...</td>\n",
              "      <td>600.0</td>\n",
              "      <td>lot47542</td>\n",
              "      <td>22.0</td>\n",
              "      <td>Test</td>\n",
              "      <td>Edge-Loc</td>\n",
              "    </tr>\n",
              "    <tr>\n",
              "      <th>811452</th>\n",
              "      <td>[[0, 0, 0, 0, 0, 0, 0, 0, 0, 0, 0, 1, 2, 1, 1,...</td>\n",
              "      <td>600.0</td>\n",
              "      <td>lot47542</td>\n",
              "      <td>23.0</td>\n",
              "      <td>Test</td>\n",
              "      <td>Edge-Ring</td>\n",
              "    </tr>\n",
              "    <tr>\n",
              "      <th>811453</th>\n",
              "      <td>[[0, 0, 0, 0, 0, 0, 0, 0, 0, 0, 0, 2, 2, 1, 1,...</td>\n",
              "      <td>600.0</td>\n",
              "      <td>lot47542</td>\n",
              "      <td>24.0</td>\n",
              "      <td>Test</td>\n",
              "      <td>Edge-Loc</td>\n",
              "    </tr>\n",
              "    <tr>\n",
              "      <th>811454</th>\n",
              "      <td>[[0, 0, 0, 0, 0, 0, 0, 0, 0, 0, 0, 1, 2, 1, 1,...</td>\n",
              "      <td>600.0</td>\n",
              "      <td>lot47542</td>\n",
              "      <td>25.0</td>\n",
              "      <td>Test</td>\n",
              "      <td>Edge-Ring</td>\n",
              "    </tr>\n",
              "  </tbody>\n",
              "</table>\n",
              "</div>"
            ],
            "text/plain": [
              "                                                 waferMap  dieSize   lotName  \\\n",
              "811450  [[0, 0, 0, 0, 0, 0, 0, 0, 0, 0, 0, 1, 2, 1, 2,...    600.0  lot47542   \n",
              "811451  [[0, 0, 0, 0, 0, 0, 0, 0, 0, 0, 0, 1, 1, 1, 1,...    600.0  lot47542   \n",
              "811452  [[0, 0, 0, 0, 0, 0, 0, 0, 0, 0, 0, 1, 2, 1, 1,...    600.0  lot47542   \n",
              "811453  [[0, 0, 0, 0, 0, 0, 0, 0, 0, 0, 0, 2, 2, 1, 1,...    600.0  lot47542   \n",
              "811454  [[0, 0, 0, 0, 0, 0, 0, 0, 0, 0, 0, 1, 2, 1, 1,...    600.0  lot47542   \n",
              "\n",
              "        waferIndex TrainTestLabel failureType  \n",
              "811450        21.0           Test    Edge-Loc  \n",
              "811451        22.0           Test    Edge-Loc  \n",
              "811452        23.0           Test   Edge-Ring  \n",
              "811453        24.0           Test    Edge-Loc  \n",
              "811454        25.0           Test   Edge-Ring  "
            ]
          },
          "metadata": {},
          "execution_count": 7
        }
      ],
      "metadata": {
        "_cell_guid": "26296434-bb94-4600-ac5c-e60052540fc2",
        "_uuid": "81b4438880a465265144c4189c8e79457329604e",
        "colab": {
          "base_uri": "https://localhost:8080/",
          "height": 204
        },
        "id": "hzbXacIoYYI7",
        "outputId": "0fe3c9f8-1077-40d7-e674-c43adb9143e8"
      }
    },
    {
      "cell_type": "code",
      "execution_count": 8,
      "source": [
        "%matplotlib inline\r\n",
        "uni_Index=np.unique(df.waferIndex, return_counts=True)\r\n",
        "plt.bar(uni_Index[0],uni_Index[1], color='gold', align='center', alpha=0.5)\r\n",
        "plt.title(\" wafer Index distribution\")\r\n",
        "plt.xlabel(\"index #\")\r\n",
        "plt.ylabel(\"frequency\")\r\n",
        "plt.xlim(0,26)\r\n",
        "plt.ylim(3000, 10000)\r\n",
        "plt.show()\r\n",
        "# 매우 균일한 분포를 보이므로, waferindex는 고려하지 않아도 됨."
      ],
      "outputs": [
        {
          "output_type": "display_data",
          "data": {
            "image/png": "[encoded data removed]",
            "text/plain": [
              "<Figure size 432x288 with 1 Axes>"
            ]
          },
          "metadata": {
            "needs_background": "light"
          }
        }
      ],
      "metadata": {
        "_cell_guid": "6f939db7-e348-418c-bad1-596881441789",
        "_uuid": "b2dcf6fdd761ba3782b88a45f5592df200bd35ba",
        "colab": {
          "base_uri": "https://localhost:8080/",
          "height": 295
        },
        "id": "fm5i43tEYYI9",
        "outputId": "ac9e6e35-edd1-42d8-a6a6-0068f3c30050"
      }
    },
    {
      "cell_type": "code",
      "execution_count": 9,
      "source": [
        "df = df.drop(['waferIndex'], axis = 1)"
      ],
      "outputs": [],
      "metadata": {}
    },
    {
      "cell_type": "code",
      "execution_count": 10,
      "source": [
        "def find_dim(x):\r\n",
        "    dim0=np.size(x,axis=0)\r\n",
        "    dim1=np.size(x,axis=1)\r\n",
        "    return dim0,dim1\r\n",
        "    \r\n",
        "df['waferMapDim']=df.waferMap.apply(find_dim)\r\n",
        "df.sample(5)\r\n",
        "# waferMapDim 열 생성 "
      ],
      "outputs": [
        {
          "output_type": "execute_result",
          "data": {
            "text/html": [
              "<div>\n",
              "<style scoped>\n",
              "    .dataframe tbody tr th:only-of-type {\n",
              "        vertical-align: middle;\n",
              "    }\n",
              "\n",
              "    .dataframe tbody tr th {\n",
              "        vertical-align: top;\n",
              "    }\n",
              "\n",
              "    .dataframe thead th {\n",
              "        text-align: right;\n",
              "    }\n",
              "</style>\n",
              "<table border=\"1\" class=\"dataframe\">\n",
              "  <thead>\n",
              "    <tr style=\"text-align: right;\">\n",
              "      <th></th>\n",
              "      <th>waferMap</th>\n",
              "      <th>dieSize</th>\n",
              "      <th>lotName</th>\n",
              "      <th>TrainTestLabel</th>\n",
              "      <th>failureType</th>\n",
              "      <th>waferMapDim</th>\n",
              "    </tr>\n",
              "  </thead>\n",
              "  <tbody>\n",
              "    <tr>\n",
              "      <th>144888</th>\n",
              "      <td>[[0, 0, 0, 0, 0, 0, 0, 0, 0, 0, 0, 0, 0, 0, 0,...</td>\n",
              "      <td>3036.0</td>\n",
              "      <td>lot9334</td>\n",
              "      <td>Training</td>\n",
              "      <td>Edge-Ring</td>\n",
              "      <td>(63, 62)</td>\n",
              "    </tr>\n",
              "    <tr>\n",
              "      <th>719149</th>\n",
              "      <td>[[0, 0, 0, 0, 0, 0, 0, 0, 0, 0, 0, 0, 0, 0, 0,...</td>\n",
              "      <td>1256.0</td>\n",
              "      <td>lot43795</td>\n",
              "      <td>Test</td>\n",
              "      <td>none</td>\n",
              "      <td>(41, 40)</td>\n",
              "    </tr>\n",
              "    <tr>\n",
              "      <th>736354</th>\n",
              "      <td>[[0, 0, 0, 0, 0, 0, 0, 0, 0, 0, 0, 0, 1, 1, 1,...</td>\n",
              "      <td>741.0</td>\n",
              "      <td>lot44493</td>\n",
              "      <td>Test</td>\n",
              "      <td>none</td>\n",
              "      <td>(33, 29)</td>\n",
              "    </tr>\n",
              "    <tr>\n",
              "      <th>776748</th>\n",
              "      <td>[[0, 0, 0, 0, 0, 0, 0, 0, 0, 0, 0, 0, 1, 1, 1,...</td>\n",
              "      <td>935.0</td>\n",
              "      <td>lot46133</td>\n",
              "      <td>Test</td>\n",
              "      <td>none</td>\n",
              "      <td>(35, 34)</td>\n",
              "    </tr>\n",
              "    <tr>\n",
              "      <th>658613</th>\n",
              "      <td>[[0, 0, 0, 0, 0, 0, 0, 0, 0, 0, 0, 0, 0, 0, 0,...</td>\n",
              "      <td>776.0</td>\n",
              "      <td>lot41100</td>\n",
              "      <td>Test</td>\n",
              "      <td>none</td>\n",
              "      <td>(30, 34)</td>\n",
              "    </tr>\n",
              "  </tbody>\n",
              "</table>\n",
              "</div>"
            ],
            "text/plain": [
              "                                                 waferMap  dieSize   lotName  \\\n",
              "144888  [[0, 0, 0, 0, 0, 0, 0, 0, 0, 0, 0, 0, 0, 0, 0,...   3036.0   lot9334   \n",
              "719149  [[0, 0, 0, 0, 0, 0, 0, 0, 0, 0, 0, 0, 0, 0, 0,...   1256.0  lot43795   \n",
              "736354  [[0, 0, 0, 0, 0, 0, 0, 0, 0, 0, 0, 0, 1, 1, 1,...    741.0  lot44493   \n",
              "776748  [[0, 0, 0, 0, 0, 0, 0, 0, 0, 0, 0, 0, 1, 1, 1,...    935.0  lot46133   \n",
              "658613  [[0, 0, 0, 0, 0, 0, 0, 0, 0, 0, 0, 0, 0, 0, 0,...    776.0  lot41100   \n",
              "\n",
              "       TrainTestLabel failureType waferMapDim  \n",
              "144888       Training   Edge-Ring    (63, 62)  \n",
              "719149           Test        none    (41, 40)  \n",
              "736354           Test        none    (33, 29)  \n",
              "776748           Test        none    (35, 34)  \n",
              "658613           Test        none    (30, 34)  "
            ]
          },
          "metadata": {},
          "execution_count": 10
        }
      ],
      "metadata": {}
    },
    {
      "cell_type": "code",
      "execution_count": 11,
      "source": [
        "df.groupby(\"waferMapDim\").size().sort_values(ascending=False)[:20]"
      ],
      "outputs": [
        {
          "output_type": "execute_result",
          "data": {
            "text/plain": [
              "waferMapDim\n",
              "(25, 27)    18781\n",
              "(26, 26)    14366\n",
              "(30, 34)    12400\n",
              "(29, 26)    11751\n",
              "(27, 25)    10682\n",
              "(39, 37)    10173\n",
              "(33, 29)     8125\n",
              "(42, 44)     6724\n",
              "(44, 41)     6134\n",
              "(41, 33)     5091\n",
              "(35, 31)     4331\n",
              "(25, 26)     4174\n",
              "(41, 38)     4152\n",
              "(33, 37)     3729\n",
              "(29, 27)     2872\n",
              "(45, 42)     2648\n",
              "(43, 44)     2578\n",
              "(41, 40)     2572\n",
              "(41, 45)     2313\n",
              "(38, 36)     2127\n",
              "dtype: int64"
            ]
          },
          "metadata": {},
          "execution_count": 11
        }
      ],
      "metadata": {}
    },
    {
      "cell_type": "code",
      "execution_count": 12,
      "source": [
        "label = df.failureType.values\r\n",
        "encoder = LabelEncoder()\r\n",
        "label = encoder.fit_transform(label)\r\n",
        "print(label)\r\n",
        "print(len(label))"
      ],
      "outputs": [
        {
          "output_type": "stream",
          "name": "stdout",
          "text": [
            "[8 8 8 ... 3 2 3]\n",
            "172950\n"
          ]
        }
      ],
      "metadata": {}
    },
    {
      "cell_type": "code",
      "execution_count": 13,
      "source": [
        "y = label\r\n",
        "faulty_case = np.unique(y)\r\n",
        "print('Faulty case list : {}'.format(faulty_case))\r\n",
        "\r\n",
        "faulty_case_dict = {}\r\n",
        "for i, f in enumerate(faulty_case) :\r\n",
        "    print('{} : {}'.format(f, len(y[y==f]))) # y[y==f] : y에서 y==f인 행들만 뽑는다\r\n",
        "    faulty_case_dict[i] = f"
      ],
      "outputs": [
        {
          "output_type": "stream",
          "name": "stdout",
          "text": [
            "Faulty case list : [0 1 2 3 4 5 6 7 8]\n",
            "0 : 4294\n",
            "1 : 555\n",
            "2 : 5189\n",
            "3 : 9680\n",
            "4 : 3593\n",
            "5 : 149\n",
            "6 : 866\n",
            "7 : 1193\n",
            "8 : 147431\n"
          ]
        }
      ],
      "metadata": {}
    },
    {
      "cell_type": "code",
      "execution_count": 14,
      "source": [
        "# failureType\r\n",
        "\r\n",
        "plt.figure(figsize=(10, 10))\r\n",
        "labels = np.unique(y, return_counts=True)[0]\r\n",
        "counts = np.unique(y, return_counts=True)[1]\r\n",
        "\r\n",
        "pie = plt.pie(x = counts, labels=labels, autopct = \"%.1f%%\")\r\n",
        "_, texts, autotexts =pie\r\n",
        "for items in texts:\r\n",
        "    items.set_color('white') \r\n",
        "    items.set_fontsize('10')\r\n",
        "for items in autotexts:\r\n",
        "    items.set_fontsize('10')\r\n",
        "plt.title('failureType', color = 'white', fontsize = 20)\r\n",
        "plt.legend()\r\n",
        "plt.show()\r\n",
        "\r\n",
        "# Loc, Edge-loc에 비해 Near-full, Donut들의 인스턴스 개수가 매우 작음."
      ],
      "outputs": [
        {
          "output_type": "display_data",
          "data": {
            "image/png": "[encoded data removed]",
            "text/plain": [
              "<Figure size 720x720 with 1 Axes>"
            ]
          },
          "metadata": {}
        }
      ],
      "metadata": {}
    },
    {
      "cell_type": "code",
      "execution_count": 15,
      "source": [
        "# None 클래스 드랍\r\n",
        "NONE = df.loc[(df.failureType == 'none'),:].sample(10000)\r\n",
        "df.drop(df[df.failureType == 'none'].index, inplace = True)\r\n",
        "print(NONE.shape)\r\n",
        "print(df.shape)"
      ],
      "outputs": [
        {
          "output_type": "stream",
          "name": "stdout",
          "text": [
            "(10000, 6)\n",
            "(25519, 6)\n"
          ]
        }
      ],
      "metadata": {}
    },
    {
      "cell_type": "code",
      "execution_count": 16,
      "source": [
        "df = pd.concat([df, NONE], ignore_index=True)\r\n",
        "df.shape"
      ],
      "outputs": [
        {
          "output_type": "execute_result",
          "data": {
            "text/plain": [
              "(35519, 6)"
            ]
          },
          "metadata": {},
          "execution_count": 16
        }
      ],
      "metadata": {}
    },
    {
      "cell_type": "code",
      "execution_count": 17,
      "source": [
        "label = df.failureType.values\r\n",
        "encoder = LabelEncoder()\r\n",
        "label = encoder.fit_transform(label)\r\n",
        "print(label)\r\n",
        "print(len(label))"
      ],
      "outputs": [
        {
          "output_type": "stream",
          "name": "stdout",
          "text": [
            "[4 2 2 ... 8 8 8]\n",
            "35519\n"
          ]
        }
      ],
      "metadata": {}
    },
    {
      "cell_type": "code",
      "execution_count": 18,
      "source": [
        "y = label\r\n",
        "faulty_case = np.unique(y)\r\n",
        "print('Faulty case list : {}'.format(faulty_case))\r\n",
        "\r\n",
        "faulty_case_dict = {}\r\n",
        "for i, f in enumerate(faulty_case) :\r\n",
        "    print('{} : {}'.format(f, len(y[y==f]))) # y[y==f] : y에서 y==f인 행들만 뽑는다\r\n",
        "    faulty_case_dict[i] = f"
      ],
      "outputs": [
        {
          "output_type": "stream",
          "name": "stdout",
          "text": [
            "Faulty case list : [0 1 2 3 4 5 6 7 8]\n",
            "0 : 4294\n",
            "1 : 555\n",
            "2 : 5189\n",
            "3 : 9680\n",
            "4 : 3593\n",
            "5 : 149\n",
            "6 : 866\n",
            "7 : 1193\n",
            "8 : 10000\n"
          ]
        }
      ],
      "metadata": {}
    },
    {
      "cell_type": "code",
      "execution_count": 19,
      "source": [
        "# None 드랍 후의 failureType 분포\r\n",
        "\r\n",
        "plt.figure(figsize=(10, 10))\r\n",
        "labels = np.unique(y, return_counts=True)[0]\r\n",
        "counts = np.unique(y, return_counts=True)[1]\r\n",
        "\r\n",
        "pie = plt.pie(x = counts, labels=labels, autopct = \"%.1f%%\")\r\n",
        "_, texts, autotexts =pie\r\n",
        "for items in texts:\r\n",
        "    items.set_color('white') \r\n",
        "    items.set_fontsize('10')\r\n",
        "for items in autotexts:\r\n",
        "    items.set_fontsize('10')\r\n",
        "plt.title('failureType', color = 'white', fontsize = 20)\r\n",
        "plt.legend()\r\n",
        "plt.show()"
      ],
      "outputs": [
        {
          "output_type": "display_data",
          "data": {
            "image/png": "[encoded data removed]",
            "text/plain": [
              "<Figure size 720x720 with 1 Axes>"
            ]
          },
          "metadata": {}
        }
      ],
      "metadata": {}
    },
    {
      "cell_type": "markdown",
      "source": [
        "## Resize"
      ],
      "metadata": {}
    },
    {
      "cell_type": "code",
      "execution_count": 20,
      "source": [
        "df.iloc[0].waferMap.shape # 2차원"
      ],
      "outputs": [
        {
          "output_type": "execute_result",
          "data": {
            "text/plain": [
              "(45, 48)"
            ]
          },
          "metadata": {},
          "execution_count": 20
        }
      ],
      "metadata": {}
    },
    {
      "cell_type": "code",
      "execution_count": 21,
      "source": [
        "size = 64\r\n",
        "def resize(arr):\r\n",
        "    img = Image.fromarray(arr)\r\n",
        "    img = img.resize((size, size), Image.BICUBIC)\r\n",
        "    return np.asarray(img)\r\n",
        "# 킹재우\r\n",
        "def vis(x, y, label):\r\n",
        "    fig = plt.figure(figsize=(8, 24))\r\n",
        "    ax1 = fig.add_subplot(1, 2, 1)\r\n",
        "    ax2 = fig.add_subplot(1, 2, 2)\r\n",
        "    ax1.matshow(x)\r\n",
        "    ax1.axis(\"off\")\r\n",
        "    ax1.set_title(\"Original of \" + str(label))\r\n",
        "    ax2.matshow(y)\r\n",
        "    ax2.axis(\"off\")\r\n",
        "    ax2.set_title(\"Cubic of \" + str(label))\r\n",
        "    plt.show()"
      ],
      "outputs": [],
      "metadata": {}
    },
    {
      "cell_type": "code",
      "execution_count": 22,
      "source": [
        "df['resized_wafer']=df.waferMap.apply(resize)"
      ],
      "outputs": [],
      "metadata": {}
    },
    {
      "cell_type": "code",
      "execution_count": 23,
      "source": [
        "df.head()"
      ],
      "outputs": [
        {
          "output_type": "execute_result",
          "data": {
            "text/html": [
              "<div>\n",
              "<style scoped>\n",
              "    .dataframe tbody tr th:only-of-type {\n",
              "        vertical-align: middle;\n",
              "    }\n",
              "\n",
              "    .dataframe tbody tr th {\n",
              "        vertical-align: top;\n",
              "    }\n",
              "\n",
              "    .dataframe thead th {\n",
              "        text-align: right;\n",
              "    }\n",
              "</style>\n",
              "<table border=\"1\" class=\"dataframe\">\n",
              "  <thead>\n",
              "    <tr style=\"text-align: right;\">\n",
              "      <th></th>\n",
              "      <th>waferMap</th>\n",
              "      <th>dieSize</th>\n",
              "      <th>lotName</th>\n",
              "      <th>TrainTestLabel</th>\n",
              "      <th>failureType</th>\n",
              "      <th>waferMapDim</th>\n",
              "      <th>resized_wafer</th>\n",
              "    </tr>\n",
              "  </thead>\n",
              "  <tbody>\n",
              "    <tr>\n",
              "      <th>0</th>\n",
              "      <td>[[0, 0, 0, 0, 0, 0, 0, 0, 0, 0, 0, 0, 0, 0, 0,...</td>\n",
              "      <td>1683.0</td>\n",
              "      <td>lot1</td>\n",
              "      <td>Training</td>\n",
              "      <td>Loc</td>\n",
              "      <td>(45, 48)</td>\n",
              "      <td>[[0, 0, 0, 0, 0, 0, 0, 0, 0, 0, 0, 0, 0, 0, 0,...</td>\n",
              "    </tr>\n",
              "    <tr>\n",
              "      <th>1</th>\n",
              "      <td>[[0, 0, 0, 0, 0, 0, 0, 0, 0, 0, 0, 0, 0, 0, 0,...</td>\n",
              "      <td>2460.0</td>\n",
              "      <td>lot2</td>\n",
              "      <td>Training</td>\n",
              "      <td>Edge-Loc</td>\n",
              "      <td>(53, 58)</td>\n",
              "      <td>[[0, 0, 0, 0, 0, 0, 0, 0, 0, 0, 0, 0, 0, 0, 0,...</td>\n",
              "    </tr>\n",
              "    <tr>\n",
              "      <th>2</th>\n",
              "      <td>[[0, 0, 0, 0, 0, 0, 0, 0, 0, 0, 0, 0, 0, 0, 0,...</td>\n",
              "      <td>2460.0</td>\n",
              "      <td>lot2</td>\n",
              "      <td>Training</td>\n",
              "      <td>Edge-Loc</td>\n",
              "      <td>(53, 58)</td>\n",
              "      <td>[[0, 0, 0, 0, 0, 0, 0, 0, 0, 0, 0, 0, 0, 0, 0,...</td>\n",
              "    </tr>\n",
              "    <tr>\n",
              "      <th>3</th>\n",
              "      <td>[[0, 0, 0, 0, 0, 0, 0, 0, 0, 0, 0, 0, 0, 0, 0,...</td>\n",
              "      <td>2460.0</td>\n",
              "      <td>lot2</td>\n",
              "      <td>Training</td>\n",
              "      <td>Edge-Loc</td>\n",
              "      <td>(53, 58)</td>\n",
              "      <td>[[0, 0, 0, 0, 0, 0, 0, 0, 0, 0, 0, 0, 0, 0, 0,...</td>\n",
              "    </tr>\n",
              "    <tr>\n",
              "      <th>4</th>\n",
              "      <td>[[0, 0, 0, 0, 0, 0, 0, 0, 0, 0, 0, 0, 0, 0, 0,...</td>\n",
              "      <td>2460.0</td>\n",
              "      <td>lot2</td>\n",
              "      <td>Training</td>\n",
              "      <td>Edge-Loc</td>\n",
              "      <td>(53, 58)</td>\n",
              "      <td>[[0, 0, 0, 0, 0, 0, 0, 0, 0, 0, 0, 0, 0, 0, 0,...</td>\n",
              "    </tr>\n",
              "  </tbody>\n",
              "</table>\n",
              "</div>"
            ],
            "text/plain": [
              "                                            waferMap  dieSize lotName  \\\n",
              "0  [[0, 0, 0, 0, 0, 0, 0, 0, 0, 0, 0, 0, 0, 0, 0,...   1683.0    lot1   \n",
              "1  [[0, 0, 0, 0, 0, 0, 0, 0, 0, 0, 0, 0, 0, 0, 0,...   2460.0    lot2   \n",
              "2  [[0, 0, 0, 0, 0, 0, 0, 0, 0, 0, 0, 0, 0, 0, 0,...   2460.0    lot2   \n",
              "3  [[0, 0, 0, 0, 0, 0, 0, 0, 0, 0, 0, 0, 0, 0, 0,...   2460.0    lot2   \n",
              "4  [[0, 0, 0, 0, 0, 0, 0, 0, 0, 0, 0, 0, 0, 0, 0,...   2460.0    lot2   \n",
              "\n",
              "  TrainTestLabel failureType waferMapDim  \\\n",
              "0       Training         Loc    (45, 48)   \n",
              "1       Training    Edge-Loc    (53, 58)   \n",
              "2       Training    Edge-Loc    (53, 58)   \n",
              "3       Training    Edge-Loc    (53, 58)   \n",
              "4       Training    Edge-Loc    (53, 58)   \n",
              "\n",
              "                                       resized_wafer  \n",
              "0  [[0, 0, 0, 0, 0, 0, 0, 0, 0, 0, 0, 0, 0, 0, 0,...  \n",
              "1  [[0, 0, 0, 0, 0, 0, 0, 0, 0, 0, 0, 0, 0, 0, 0,...  \n",
              "2  [[0, 0, 0, 0, 0, 0, 0, 0, 0, 0, 0, 0, 0, 0, 0,...  \n",
              "3  [[0, 0, 0, 0, 0, 0, 0, 0, 0, 0, 0, 0, 0, 0, 0,...  \n",
              "4  [[0, 0, 0, 0, 0, 0, 0, 0, 0, 0, 0, 0, 0, 0, 0,...  "
            ]
          },
          "metadata": {},
          "execution_count": 23
        }
      ],
      "metadata": {}
    },
    {
      "cell_type": "code",
      "execution_count": 24,
      "source": [
        "number_of_sample = 10\r\n",
        "sample = df.sample(number_of_sample)\r\n",
        "WAFER = sample.waferMap.values\r\n",
        "CUBIC = sample.resized_wafer.values\r\n",
        "LB = sample.failureType.values\r\n",
        "for i in range(number_of_sample):\r\n",
        "  vis(WAFER[i], CUBIC[i], LB[i])"
      ],
      "outputs": [
        {
          "output_type": "display_data",
          "data": {
            "image/png": "[encoded data removed]",
            "text/plain": [
              "<Figure size 576x1728 with 2 Axes>"
            ]
          },
          "metadata": {
            "needs_background": "light"
          }
        },
        {
          "output_type": "display_data",
          "data": {
            "image/png": "[encoded data removed]",
            "text/plain": [
              "<Figure size 576x1728 with 2 Axes>"
            ]
          },
          "metadata": {
            "needs_background": "light"
          }
        },
        {
          "output_type": "display_data",
          "data": {
            "image/png": "[encoded data removed]",
            "text/plain": [
              "<Figure size 576x1728 with 2 Axes>"
            ]
          },
          "metadata": {
            "needs_background": "light"
          }
        },
        {
          "output_type": "display_data",
          "data": {
            "image/png": "[encoded data removed]",
            "text/plain": [
              "<Figure size 576x1728 with 2 Axes>"
            ]
          },
          "metadata": {
            "needs_background": "light"
          }
        },
        {
          "output_type": "display_data",
          "data": {
            "image/png": "[encoded data removed]",
            "text/plain": [
              "<Figure size 576x1728 with 2 Axes>"
            ]
          },
          "metadata": {
            "needs_background": "light"
          }
        },
        {
          "output_type": "display_data",
          "data": {
            "image/png": "[encoded data removed]",
            "text/plain": [
              "<Figure size 576x1728 with 2 Axes>"
            ]
          },
          "metadata": {
            "needs_background": "light"
          }
        },
        {
          "output_type": "display_data",
          "data": {
            "image/png": "[encoded data removed]",
            "text/plain": [
              "<Figure size 576x1728 with 2 Axes>"
            ]
          },
          "metadata": {
            "needs_background": "light"
          }
        },
        {
          "output_type": "display_data",
          "data": {
            "image/png": "[encoded data removed]",
            "text/plain": [
              "<Figure size 576x1728 with 2 Axes>"
            ]
          },
          "metadata": {
            "needs_background": "light"
          }
        },
        {
          "output_type": "display_data",
          "data": {
            "image/png": "[encoded data removed]",
            "text/plain": [
              "<Figure size 576x1728 with 2 Axes>"
            ]
          },
          "metadata": {
            "needs_background": "light"
          }
        },
        {
          "output_type": "display_data",
          "data": {
            "image/png": "[encoded data removed]",
            "text/plain": [
              "<Figure size 576x1728 with 2 Axes>"
            ]
          },
          "metadata": {
            "needs_background": "light"
          }
        }
      ],
      "metadata": {}
    },
    {
      "cell_type": "markdown",
      "source": [
        "# Create Dataset"
      ],
      "metadata": {}
    },
    {
      "cell_type": "code",
      "execution_count": 25,
      "source": [
        "images = df.resized_wafer.values\r\n",
        "X = np.empty((len(images), size, size))\r\n",
        "for i in range(len(images)):\r\n",
        "  X[i,:,:] = images[i]\r\n",
        "X = X.reshape((-1, 1, size, size))\r\n",
        "print('X shape : {}, y shape : {}'.format(X.shape, y.shape))"
      ],
      "outputs": [
        {
          "output_type": "stream",
          "name": "stdout",
          "text": [
            "X shape : (35519, 1, 64, 64), y shape : (35519,)\n"
          ]
        }
      ],
      "metadata": {}
    },
    {
      "cell_type": "code",
      "execution_count": 26,
      "source": [
        "BATCH_SIZE = 256\r\n",
        "\r\n",
        "X = torch.as_tensor(X, dtype=torch.float)\r\n",
        "y = torch.as_tensor(y, dtype=torch.long)\r\n",
        "dataset = TensorDataset(X, y)\r\n",
        "train_indices, val_indices = train_test_split(list(range(len(y))), test_size=0.2, stratify=y)\r\n",
        "\r\n",
        "train_dataset = torch.utils.data.Subset(dataset, train_indices)\r\n",
        "val_dataset = torch.utils.data.Subset(dataset, val_indices)\r\n",
        "\r\n",
        "train_loader = DataLoader(train_dataset, batch_size=BATCH_SIZE)\r\n",
        "val_loader = DataLoader(val_dataset, batch_size=BATCH_SIZE)\r\n",
        "sample = next(iter(train_loader))\r\n",
        "print('Dataset Shape: {}'.format(sample[0].shape))"
      ],
      "outputs": [
        {
          "output_type": "stream",
          "name": "stdout",
          "text": [
            "Dataset Shape: torch.Size([256, 1, 64, 64])\n"
          ]
        }
      ],
      "metadata": {}
    },
    {
      "cell_type": "code",
      "execution_count": 27,
      "source": [
        "'''\r\n",
        "# One-Hot Encoding\r\n",
        "new_x = np.empty((len(x), 4, 128, 128),dtype=int)\r\n",
        "\r\n",
        "for w in tqdm(range(len(x))):\r\n",
        "    for i in range(128):\r\n",
        "        for j in range(128):\r\n",
        "            new_x[w, int(x[w, :, i, j]), i, j] = 1\r\n",
        "            '''"
      ],
      "outputs": [
        {
          "output_type": "execute_result",
          "data": {
            "text/plain": [
              "'\\n# One-Hot Encoding\\nnew_x = np.empty((len(x), 4, 128, 128),dtype=int)\\n\\nfor w in tqdm(range(len(x))):\\n    for i in range(128):\\n        for j in range(128):\\n            new_x[w, int(x[w, :, i, j]), i, j] = 1\\n            '"
            ]
          },
          "metadata": {},
          "execution_count": 27
        }
      ],
      "metadata": {}
    },
    {
      "cell_type": "markdown",
      "source": [
        "# Variational Autoencoder for augmentation"
      ],
      "metadata": {
        "_uuid": "5330346f0dccf25331724403406c0e848541fb9a",
        "id": "CaU-rfLnYYJH"
      }
    },
    {
      "cell_type": "markdown",
      "source": [
        "## 모델 구조"
      ],
      "metadata": {}
    },
    {
      "cell_type": "code",
      "execution_count": 28,
      "source": [
        "'''\r\n",
        "class Encoder(nn.Module):\r\n",
        "    def __init__(self):\r\n",
        "        super(Encoder, self).__init__()\r\n",
        "        self.encode1 = self.encoder_block(1, 16)\r\n",
        "        self.encode2 = self.encoder_block(16, 32)\r\n",
        "        self.encode3 = self.encoder_block(32, 64)\r\n",
        "        self.encode4 = self.encoder_block(64, 128)\r\n",
        "        self.encode5 = self.encoder_block(128, 256)\r\n",
        "        self.maxpool = nn.MaxPool2d(kernel_size=2)\r\n",
        "\r\n",
        "    def encoder_block(self, c_in, c_out):  # Conv2d - relu - batchnorm 수행 \r\n",
        "        encode = nn.Sequential(\r\n",
        "            nn.Conv2d(c_in, c_out, kernel_size=3, padding=1),\r\n",
        "            nn.ReLU(),\r\n",
        "            nn.BatchNorm2d(c_out)\r\n",
        "        )\r\n",
        "        return encode\r\n",
        "\r\n",
        "    def forward(self, x):               # Encode x 3 -maxpool-encode-maxpool-encode      \r\n",
        "        x = self.encode1(x)                   \r\n",
        "        x = self.encode2(x)\r\n",
        "        x = self.maxpool(x)\r\n",
        "        x = self.encode3(x)\r\n",
        "        x = self.encode4(x)\r\n",
        "        x = self.maxpool(x)      \r\n",
        "        x = self.encode5(x)                 \r\n",
        "        return x \r\n",
        "\r\n",
        "# Upsampling할때 Conv2d로 업샘플링하는거 실패.\r\n",
        "class Decoder(nn.Module):\r\n",
        "    def __init__(self):\r\n",
        "        super(Decoder, self).__init__()\r\n",
        "        self.decode1 = self.decoder_block(256, 128)             \r\n",
        "        self.decode2 = self.decoder_block(128, 64, stride=2, output_padding=1)  # Upsample\r\n",
        "        self.decode3 = self.decoder_block(64, 32)\r\n",
        "        self.decode4 = self.decoder_block(32, 16, stride=2, output_padding=1)   # Upsample\r\n",
        "        self.decode5 = self.decoder_block(16, 1)              \r\n",
        "        self.upsample = nn.Upsample(scale_factor=2, mode='nearest')\r\n",
        "        self.upsample_bicubic = nn.Upsample(scale_factor=2, mode='bicubic', align_corners=True)\r\n",
        "\r\n",
        "    def decoder_block(self, c_in, c_out, stride=1, padding=1, output_padding=0):             \r\n",
        "        decode = nn.Sequential(\r\n",
        "            nn.ConvTranspose2d(\r\n",
        "                c_in, c_out, kernel_size=3, stride=stride, \r\n",
        "                padding=padding, output_padding=output_padding\r\n",
        "                ), # ConvTR2d - relu - batchnorm 수행, stride가 주어질 경우 upsample, output에 padding 추가\r\n",
        "            nn.ReLU(),\r\n",
        "            nn.BatchNorm2d(c_out), \r\n",
        "        )\r\n",
        "        return decode\r\n",
        "\r\n",
        "    def forward(self, x):\r\n",
        "        x = self.decode1(x)           \r\n",
        "        x = self.decode2(x)\r\n",
        "        x = self.decode3(x)\r\n",
        "        x = self.decode4(x)\r\n",
        "        x = self.decode5(x) \r\n",
        "        return x\r\n",
        "        \r\n",
        "BATCH_SIZE = 256\r\n",
        "'''"
      ],
      "outputs": [
        {
          "output_type": "execute_result",
          "data": {
            "text/plain": [
              "\"\\nclass Encoder(nn.Module):\\n    def __init__(self):\\n        super(Encoder, self).__init__()\\n        self.encode1 = self.encoder_block(1, 16)\\n        self.encode2 = self.encoder_block(16, 32)\\n        self.encode3 = self.encoder_block(32, 64)\\n        self.encode4 = self.encoder_block(64, 128)\\n        self.encode5 = self.encoder_block(128, 256)\\n        self.maxpool = nn.MaxPool2d(kernel_size=2)\\n\\n    def encoder_block(self, c_in, c_out):  # Conv2d - relu - batchnorm 수행 \\n        encode = nn.Sequential(\\n            nn.Conv2d(c_in, c_out, kernel_size=3, padding=1),\\n            nn.ReLU(),\\n            nn.BatchNorm2d(c_out)\\n        )\\n        return encode\\n\\n    def forward(self, x):               # Encode x 3 -maxpool-encode-maxpool-encode      \\n        x = self.encode1(x)                   \\n        x = self.encode2(x)\\n        x = self.maxpool(x)\\n        x = self.encode3(x)\\n        x = self.encode4(x)\\n        x = self.maxpool(x)      \\n        x = self.encode5(x)                 \\n        return x \\n\\n# Upsampling할때 Conv2d로 업샘플링하는거 실패.\\nclass Decoder(nn.Module):\\n    def __init__(self):\\n        super(Decoder, self).__init__()\\n        self.decode1 = self.decoder_block(256, 128)             \\n        self.decode2 = self.decoder_block(128, 64, stride=2, output_padding=1)  # Upsample\\n        self.decode3 = self.decoder_block(64, 32)\\n        self.decode4 = self.decoder_block(32, 16, stride=2, output_padding=1)   # Upsample\\n        self.decode5 = self.decoder_block(16, 1)              \\n        self.upsample = nn.Upsample(scale_factor=2, mode='nearest')\\n        self.upsample_bicubic = nn.Upsample(scale_factor=2, mode='bicubic', align_corners=True)\\n\\n    def decoder_block(self, c_in, c_out, stride=1, padding=1, output_padding=0):             \\n        decode = nn.Sequential(\\n            nn.ConvTranspose2d(\\n                c_in, c_out, kernel_size=3, stride=stride, \\n                padding=padding, output_padding=output_padding\\n                ), # ConvTR2d - relu - batchnorm 수행, stride가 주어질 경우 upsample, output에 padding 추가\\n            nn.ReLU(),\\n            nn.BatchNorm2d(c_out), \\n        )\\n        return decode\\n\\n    def forward(self, x):\\n        x = self.decode1(x)           \\n        x = self.decode2(x)\\n        x = self.decode3(x)\\n        x = self.decode4(x)\\n        x = self.decode5(x) \\n        return x\\n        \\nBATCH_SIZE = 256\\n\""
            ]
          },
          "metadata": {},
          "execution_count": 28
        }
      ],
      "metadata": {}
    },
    {
      "cell_type": "code",
      "execution_count": 179,
      "source": [
        "class ConvVAE(nn.Module):\r\n",
        "    def __init__(self, alpha=1, Input_channels=1, imgsize=64*64, zDim=256):\r\n",
        "        super().__init__()\r\n",
        "        self.alpha=1\r\n",
        "        self.imgsize = 64*64\r\n",
        "\r\n",
        "        # Initializing the 2 convolutional layers and 2 full-connected layers for the encoder\r\n",
        "        self.encConv1 = nn.Conv2d(Input_channels, 8, 3, padding=1)\r\n",
        "        self.encConv2 = nn.Conv2d(8, 16, 3, padding=1)\r\n",
        "        self.encConv3 = nn.Conv2d(16, 32, 3, padding=1)\r\n",
        "        self.encConv4 = nn.Conv2d(32, 64, 3, padding=1)\r\n",
        "        self.encFC_mu = nn.Linear(64*imgsize, zDim)\r\n",
        "        self.encFC_var = nn.Linear(64*imgsize, zDim)\r\n",
        "\r\n",
        "        # Initializing the fully-connected layer and 2 convolutional layers for decoder\r\n",
        "        self.decFC1 = nn.Linear(zDim, 64*imgsize)\r\n",
        "        self.decConv1 = nn.ConvTranspose2d(64, 32, 3, padding=1)\r\n",
        "        self.decConv2 = nn.ConvTranspose2d(32, 16, 3, padding=1)\r\n",
        "        self.decConv3 = nn.ConvTranspose2d(16, 8, 3, padding=1)\r\n",
        "        self.decConv4 = nn.ConvTranspose2d(8, 1, 3, padding=1)\r\n",
        "\r\n",
        "    def encoder(self, x):\r\n",
        "        imgsize = self.imgsize\r\n",
        "        # Input is fed into 2 convolutional layers sequentially\r\n",
        "        # The output feature map are fed into 2 fully-connected layers to predict mean (mu) and variance (logVar)\r\n",
        "        # Mu and logVar are used for generating middle representation z and KL divergence loss\r\n",
        "        x = F.relu(self.encConv1(x))\r\n",
        "        x = F.relu(self.encConv2(x))\r\n",
        "        x = F.relu(self.encConv3(x))\r\n",
        "        x = F.relu(self.encConv4(x))\r\n",
        "        x = x.view(-1, 64*imgsize) # FLATTEN\r\n",
        "        mu = self.encFC_mu(x)\r\n",
        "        logVar = self.encFC_var(x)\r\n",
        "        return mu, logVar\r\n",
        "\r\n",
        "    def reparameterize(self, mu, log_var):\r\n",
        "        #Reparameterization takes in the input mu and logVar and sample the mu + std * eps\r\n",
        "        std = torch.exp(0.5*log_var)\r\n",
        "        eps = torch.randn_like(std)\r\n",
        "        z = mu + std * eps\r\n",
        "        return z\r\n",
        "\r\n",
        "    def decoder(self, z):\r\n",
        "\r\n",
        "        # z is fed back into a fully-connected layers and then into two transpose convolutional layers\r\n",
        "        # The generated output is the same size of the original input\r\n",
        "        x = F.relu(self.decFC1(z))\r\n",
        "        x = x.view(-1, 64, 64, 64) # FLATTEN\r\n",
        "        x = F.relu(self.decConv1(x))\r\n",
        "        x = F.relu(self.decConv2(x))\r\n",
        "        x = F.relu(self.decConv3(x))\r\n",
        "        x = torch.sigmoid(self.decConv4(x))\r\n",
        "        return x\r\n",
        "\r\n",
        "    def forward(self, x):\r\n",
        "        # The entire pipeline of the VAE: encoder -> reparameterization -> decoder\r\n",
        "        # output, mu, and logVar are returned for loss computation\r\n",
        "        mu, logVar = self.encoder(x)\r\n",
        "        z = self.reparameterize(mu, logVar)\r\n",
        "        out = self.decoder(z)\r\n",
        "        return out, mu, logVar\r\n",
        "\r\n",
        "cvae = ConvVAE()\r\n",
        "summary(cvae, torch.zeros(BATCH_SIZE, 1, size, size))"
      ],
      "outputs": [
        {
          "output_type": "stream",
          "name": "stdout",
          "text": [
            "===================================================================\n",
            "               Kernel Shape       Output Shape    Params  Mult-Adds\n",
            "Layer                                                              \n",
            "0_encConv1     [1, 8, 3, 3]   [256, 8, 64, 64]        80     294912\n",
            "1_encConv2    [8, 16, 3, 3]  [256, 16, 64, 64]      1168    4718592\n",
            "2_encConv3   [16, 32, 3, 3]  [256, 32, 64, 64]      4640   18874368\n",
            "3_encConv4   [32, 64, 3, 3]  [256, 64, 64, 64]     18496   75497472\n",
            "4_encFC_mu    [262144, 256]         [256, 256]  67109120   67108864\n",
            "5_encFC_var   [262144, 256]         [256, 256]  67109120   67108864\n",
            "6_decFC1      [256, 262144]      [256, 262144]  67371008   67108864\n",
            "7_decConv1   [32, 64, 3, 3]  [256, 32, 64, 64]     18464   75497472\n",
            "8_decConv2   [16, 32, 3, 3]  [256, 16, 64, 64]      4624   18874368\n",
            "9_decConv3    [8, 16, 3, 3]   [256, 8, 64, 64]      1160    4718592\n",
            "10_decConv4    [1, 8, 3, 3]   [256, 1, 64, 64]        73     294912\n",
            "-------------------------------------------------------------------\n",
            "                         Totals\n",
            "Total params          201637953\n",
            "Trainable params      201637953\n",
            "Non-trainable params          0\n",
            "Mult-Adds             400097280\n",
            "===================================================================\n"
          ]
        },
        {
          "output_type": "execute_result",
          "data": {
            "text/html": [
              "<div>\n",
              "<style scoped>\n",
              "    .dataframe tbody tr th:only-of-type {\n",
              "        vertical-align: middle;\n",
              "    }\n",
              "\n",
              "    .dataframe tbody tr th {\n",
              "        vertical-align: top;\n",
              "    }\n",
              "\n",
              "    .dataframe thead th {\n",
              "        text-align: right;\n",
              "    }\n",
              "</style>\n",
              "<table border=\"1\" class=\"dataframe\">\n",
              "  <thead>\n",
              "    <tr style=\"text-align: right;\">\n",
              "      <th></th>\n",
              "      <th>Kernel Shape</th>\n",
              "      <th>Output Shape</th>\n",
              "      <th>Params</th>\n",
              "      <th>Mult-Adds</th>\n",
              "    </tr>\n",
              "    <tr>\n",
              "      <th>Layer</th>\n",
              "      <th></th>\n",
              "      <th></th>\n",
              "      <th></th>\n",
              "      <th></th>\n",
              "    </tr>\n",
              "  </thead>\n",
              "  <tbody>\n",
              "    <tr>\n",
              "      <th>0_encConv1</th>\n",
              "      <td>[1, 8, 3, 3]</td>\n",
              "      <td>[256, 8, 64, 64]</td>\n",
              "      <td>80</td>\n",
              "      <td>294912</td>\n",
              "    </tr>\n",
              "    <tr>\n",
              "      <th>1_encConv2</th>\n",
              "      <td>[8, 16, 3, 3]</td>\n",
              "      <td>[256, 16, 64, 64]</td>\n",
              "      <td>1168</td>\n",
              "      <td>4718592</td>\n",
              "    </tr>\n",
              "    <tr>\n",
              "      <th>2_encConv3</th>\n",
              "      <td>[16, 32, 3, 3]</td>\n",
              "      <td>[256, 32, 64, 64]</td>\n",
              "      <td>4640</td>\n",
              "      <td>18874368</td>\n",
              "    </tr>\n",
              "    <tr>\n",
              "      <th>3_encConv4</th>\n",
              "      <td>[32, 64, 3, 3]</td>\n",
              "      <td>[256, 64, 64, 64]</td>\n",
              "      <td>18496</td>\n",
              "      <td>75497472</td>\n",
              "    </tr>\n",
              "    <tr>\n",
              "      <th>4_encFC_mu</th>\n",
              "      <td>[262144, 256]</td>\n",
              "      <td>[256, 256]</td>\n",
              "      <td>67109120</td>\n",
              "      <td>67108864</td>\n",
              "    </tr>\n",
              "    <tr>\n",
              "      <th>5_encFC_var</th>\n",
              "      <td>[262144, 256]</td>\n",
              "      <td>[256, 256]</td>\n",
              "      <td>67109120</td>\n",
              "      <td>67108864</td>\n",
              "    </tr>\n",
              "    <tr>\n",
              "      <th>6_decFC1</th>\n",
              "      <td>[256, 262144]</td>\n",
              "      <td>[256, 262144]</td>\n",
              "      <td>67371008</td>\n",
              "      <td>67108864</td>\n",
              "    </tr>\n",
              "    <tr>\n",
              "      <th>7_decConv1</th>\n",
              "      <td>[32, 64, 3, 3]</td>\n",
              "      <td>[256, 32, 64, 64]</td>\n",
              "      <td>18464</td>\n",
              "      <td>75497472</td>\n",
              "    </tr>\n",
              "    <tr>\n",
              "      <th>8_decConv2</th>\n",
              "      <td>[16, 32, 3, 3]</td>\n",
              "      <td>[256, 16, 64, 64]</td>\n",
              "      <td>4624</td>\n",
              "      <td>18874368</td>\n",
              "    </tr>\n",
              "    <tr>\n",
              "      <th>9_decConv3</th>\n",
              "      <td>[8, 16, 3, 3]</td>\n",
              "      <td>[256, 8, 64, 64]</td>\n",
              "      <td>1160</td>\n",
              "      <td>4718592</td>\n",
              "    </tr>\n",
              "    <tr>\n",
              "      <th>10_decConv4</th>\n",
              "      <td>[1, 8, 3, 3]</td>\n",
              "      <td>[256, 1, 64, 64]</td>\n",
              "      <td>73</td>\n",
              "      <td>294912</td>\n",
              "    </tr>\n",
              "  </tbody>\n",
              "</table>\n",
              "</div>"
            ],
            "text/plain": [
              "               Kernel Shape       Output Shape    Params  Mult-Adds\n",
              "Layer                                                              \n",
              "0_encConv1     [1, 8, 3, 3]   [256, 8, 64, 64]        80     294912\n",
              "1_encConv2    [8, 16, 3, 3]  [256, 16, 64, 64]      1168    4718592\n",
              "2_encConv3   [16, 32, 3, 3]  [256, 32, 64, 64]      4640   18874368\n",
              "3_encConv4   [32, 64, 3, 3]  [256, 64, 64, 64]     18496   75497472\n",
              "4_encFC_mu    [262144, 256]         [256, 256]  67109120   67108864\n",
              "5_encFC_var   [262144, 256]         [256, 256]  67109120   67108864\n",
              "6_decFC1      [256, 262144]      [256, 262144]  67371008   67108864\n",
              "7_decConv1   [32, 64, 3, 3]  [256, 32, 64, 64]     18464   75497472\n",
              "8_decConv2   [16, 32, 3, 3]  [256, 16, 64, 64]      4624   18874368\n",
              "9_decConv3    [8, 16, 3, 3]   [256, 8, 64, 64]      1160    4718592\n",
              "10_decConv4    [1, 8, 3, 3]   [256, 1, 64, 64]        73     294912"
            ]
          },
          "metadata": {},
          "execution_count": 179
        }
      ],
      "metadata": {}
    },
    {
      "cell_type": "code",
      "execution_count": 180,
      "source": [
        "len(train_loader) # BATCH 개수"
      ],
      "outputs": [
        {
          "output_type": "execute_result",
          "data": {
            "text/plain": [
              "111"
            ]
          },
          "metadata": {},
          "execution_count": 180
        }
      ],
      "metadata": {}
    },
    {
      "cell_type": "code",
      "execution_count": 181,
      "source": [
        "len(train_loader.dataset)"
      ],
      "outputs": [
        {
          "output_type": "execute_result",
          "data": {
            "text/plain": [
              "28415"
            ]
          },
          "metadata": {},
          "execution_count": 181
        }
      ],
      "metadata": {}
    },
    {
      "cell_type": "markdown",
      "source": [
        "# AutoEncoder Train"
      ],
      "metadata": {}
    },
    {
      "cell_type": "code",
      "execution_count": 187,
      "source": [
        "def final_loss(recon_loss, mu, logVar, alpha):\r\n",
        "    RECON = recon_loss\r\n",
        "    KLD = 0.5 * torch.sum(-1 - logVar + mu.pow(2) + logVar.exp())\r\n",
        "    return alpha*RECON + KLD\r\n",
        "\r\n",
        "def AE_train(loader, epoch, alpha=1):\r\n",
        "    num_samples = len(loader.dataset)\r\n",
        "    total_batches = len(loader)\r\n",
        "    running_loss = 0.0 # Batch-wise\r\n",
        "    model.train()\r\n",
        "    for batch_idx, (X, _) in enumerate(tqdm(loader)): # 모든 배치에 대해 loop\r\n",
        "        X = X.to(device).float() # move to device, e.g. GPU\r\n",
        "        # 순전파 \r\n",
        "        out, mu, logVar = model(X)\r\n",
        "        recon_loss = criterion(out, X)\r\n",
        "        loss = final_loss(recon_loss, mu, logVar) # 1 배치의 평균 # Alpha*Reconstruction_loss + KL_Divergence\r\n",
        "\r\n",
        "        # 역전파 \r\n",
        "        optimizer.zero_grad()\r\n",
        "        loss.backward()\r\n",
        "        running_loss += loss.item()\r\n",
        "        optimizer.step()\r\n",
        "\r\n",
        "    train_loss = running_loss / total_batches\r\n",
        "    writer.add_scalar('train_loss', train_loss, epoch)\r\n",
        "    print('Epoch {} Train Loss {:.4f}'.format(epoch, train_loss))\r\n",
        "            \r\n",
        "def AE_validate(loader, epoch, alpha=1):\r\n",
        "    #print(\"working on val set...\")\r\n",
        "    #num_samples = len(loader.dataset)\r\n",
        "    running_loss=0.0\r\n",
        "    total_batches = len(loader)\r\n",
        "    model.eval() \r\n",
        "    with torch.no_grad():\r\n",
        "        for batch_idx, (X, _) in enumerate(loader):\r\n",
        "            X = X.to(device).float()\r\n",
        "            out, mu, logVar = model(X)\r\n",
        "            recon_loss = criterion(out, X)\r\n",
        "            loss = final_loss(recon_loss, mu, logVar)\r\n",
        "            running_loss += loss.item()\r\n",
        "            \r\n",
        "        val_loss = running_loss / total_batches\r\n",
        "        scheduler.step(val_loss) # val_loss가 개선되지 않으면 lr scheduler 실행\r\n",
        "        writer.add_scalar('val_loss', loss, epoch)\r\n",
        "        print(\"EPOCH {} val_loss : {:.4f}\".format(epoch, val_loss))"
      ],
      "outputs": [],
      "metadata": {}
    },
    {
      "cell_type": "code",
      "execution_count": 185,
      "source": [
        "from torch.utils.tensorboard import SummaryWriter\r\n",
        "writer = SummaryWriter()\r\n",
        "model = ConvVAE().to(device)\r\n",
        "\r\n",
        "# parameter\r\n",
        "BATCH_SIZE = 256\r\n",
        "LEARNING_RATE = 0.005\r\n",
        "NUM_EPOCHS = 10\r\n",
        "alpha = 1.0\r\n",
        "criterion = nn.MSELoss()\r\n",
        "optimizer = optim.Adam(model.parameters(), lr=LEARNING_RATE, amsgrad=True)\r\n",
        "scheduler = optim.lr_scheduler.ReduceLROnPlateau(\r\n",
        "                optimizer,\r\n",
        "                mode='min',\r\n",
        "                factor=0.5,\r\n",
        "                patience=3, \r\n",
        "                threshold=0.03,\r\n",
        "                threshold_mode='rel',\r\n",
        "                cooldown=1, \r\n",
        "                verbose=True\r\n",
        "            )"
      ],
      "outputs": [],
      "metadata": {}
    },
    {
      "cell_type": "code",
      "execution_count": 186,
      "source": [
        "for epoch in range(NUM_EPOCHS):\r\n",
        "    AE_train(train_loader, epoch, alpha=alpha)\r\n",
        "    AE_validate(val_loader, epoch, alpha=alpha)"
      ],
      "outputs": [
        {
          "output_type": "stream",
          "name": "stderr",
          "text": [
            "100%|██████████| 111/111 [00:17<00:00,  6.51it/s]\n"
          ]
        },
        {
          "output_type": "stream",
          "name": "stdout",
          "text": [
            "Epoch 0 Train Loss 96071.8678\n",
            "EPOCH 0 val_loss : 8.6460\n"
          ]
        },
        {
          "output_type": "stream",
          "name": "stderr",
          "text": [
            "100%|██████████| 111/111 [00:16<00:00,  6.59it/s]\n"
          ]
        },
        {
          "output_type": "stream",
          "name": "stdout",
          "text": [
            "Epoch 1 Train Loss 5.8417\n",
            "EPOCH 1 val_loss : 4.2269\n"
          ]
        },
        {
          "output_type": "stream",
          "name": "stderr",
          "text": [
            "100%|██████████| 111/111 [00:17<00:00,  6.51it/s]\n"
          ]
        },
        {
          "output_type": "stream",
          "name": "stdout",
          "text": [
            "Epoch 2 Train Loss 3.8982\n",
            "EPOCH 2 val_loss : 3.6747\n"
          ]
        },
        {
          "output_type": "stream",
          "name": "stderr",
          "text": [
            "100%|██████████| 111/111 [00:17<00:00,  6.50it/s]\n"
          ]
        },
        {
          "output_type": "stream",
          "name": "stdout",
          "text": [
            "Epoch 3 Train Loss 3.6216\n",
            "EPOCH 3 val_loss : 3.5170\n"
          ]
        },
        {
          "output_type": "stream",
          "name": "stderr",
          "text": [
            "100%|██████████| 111/111 [00:17<00:00,  6.51it/s]\n"
          ]
        },
        {
          "output_type": "stream",
          "name": "stdout",
          "text": [
            "Epoch 4 Train Loss 3.4765\n",
            "EPOCH 4 val_loss : 3.3789\n"
          ]
        },
        {
          "output_type": "stream",
          "name": "stderr",
          "text": [
            "100%|██████████| 111/111 [00:17<00:00,  6.50it/s]\n"
          ]
        },
        {
          "output_type": "stream",
          "name": "stdout",
          "text": [
            "Epoch 5 Train Loss 3.3359\n",
            "EPOCH 5 val_loss : 3.2363\n"
          ]
        },
        {
          "output_type": "stream",
          "name": "stderr",
          "text": [
            "100%|██████████| 111/111 [00:16<00:00,  6.53it/s]\n"
          ]
        },
        {
          "output_type": "stream",
          "name": "stdout",
          "text": [
            "Epoch 6 Train Loss 3.1952\n",
            "EPOCH 6 val_loss : 3.1023\n"
          ]
        },
        {
          "output_type": "stream",
          "name": "stderr",
          "text": [
            "100%|██████████| 111/111 [00:16<00:00,  6.59it/s]\n"
          ]
        },
        {
          "output_type": "stream",
          "name": "stdout",
          "text": [
            "Epoch 7 Train Loss 3.0619\n",
            "EPOCH 7 val_loss : 2.9722\n"
          ]
        },
        {
          "output_type": "stream",
          "name": "stderr",
          "text": [
            "100%|██████████| 111/111 [00:16<00:00,  6.65it/s]\n"
          ]
        },
        {
          "output_type": "stream",
          "name": "stdout",
          "text": [
            "Epoch 8 Train Loss 2.9326\n",
            "EPOCH 8 val_loss : 2.8461\n"
          ]
        },
        {
          "output_type": "stream",
          "name": "stderr",
          "text": [
            "100%|██████████| 111/111 [00:16<00:00,  6.66it/s]\n"
          ]
        },
        {
          "output_type": "stream",
          "name": "stdout",
          "text": [
            "Epoch 9 Train Loss 2.8075\n",
            "EPOCH 9 val_loss : 2.7242\n"
          ]
        }
      ],
      "metadata": {}
    },
    {
      "cell_type": "code",
      "execution_count": 188,
      "source": [
        "# CUDA 메모리 정리 \r\n",
        "model.to('cpu')\r\n",
        "torch.cuda.empty_cache() \r\n",
        "gc.collect()"
      ],
      "outputs": [
        {
          "output_type": "execute_result",
          "data": {
            "text/plain": [
              "0"
            ]
          },
          "metadata": {},
          "execution_count": 188
        }
      ],
      "metadata": {}
    },
    {
      "cell_type": "code",
      "execution_count": 190,
      "source": [
        "# reconstruct original faulty wafer\r\n",
        "x_sample = next(iter(train_loader))[0] # 이미지만\r\n",
        "recon_x = list(model(x_sample))[0]"
      ],
      "outputs": [],
      "metadata": {}
    },
    {
      "cell_type": "code",
      "execution_count": 192,
      "source": [
        "index = 50\r\n",
        "fig = plt.figure(figsize=(8,12))\r\n",
        "ax1 = fig.add_subplot(1, 2, 1)\r\n",
        "ax2 = fig.add_subplot(1, 2, 2)\r\n",
        "ax1.matshow(x_sample[index][0]) \r\n",
        "ax2.matshow(recon_x.detach().numpy()[index][0])\r\n",
        "plt.show()"
      ],
      "outputs": [
        {
          "output_type": "display_data",
          "data": {
            "image/png": "[encoded data removed]",
            "text/plain": [
              "<Figure size 576x864 with 2 Axes>"
            ]
          },
          "metadata": {
            "needs_background": "light"
          }
        }
      ],
      "metadata": {
        "_uuid": "bbc99179f3b90b7ba62e3e13db80cd9adb7b8a58",
        "colab": {
          "base_uri": "https://localhost:8080/",
          "height": 283
        },
        "id": "7TqA6pNFYYJK",
        "outputId": "ff76be60-8334-49a7-bd28-9f9e8c56b5d8"
      }
    },
    {
      "cell_type": "markdown",
      "source": [
        "## Data augmentation\n"
      ],
      "metadata": {
        "_uuid": "c29236b3ac68761abb4458fd9bf0138fadb86ab7",
        "id": "eYu0NDCJYYJL"
      }
    },
    {
      "cell_type": "code",
      "execution_count": null,
      "source": [
        "# augment function define\r\n",
        "def gen_data(x, label):\r\n",
        "    # Encode input x\r\n",
        "    encoded_x = encoder(x)\r\n",
        "    # dummy array for collecting noised x\r\n",
        "    gen_x = torch.empty((len(x), 1, 128, 128), dtype=torch.float32)\r\n",
        "    \r\n",
        "    # Make x until total # of x to 5000\r\n",
        "    for i in tqdm(range((5000//len(x)) + 1)):\r\n",
        "        noised_encoded_x = encoded_x + torch.normal(mean=torch.zeros((len(encoded_x), 256, 13, 13)), std=STD*torch.ones((len(encoded_x), 256, 13, 13)))\r\n",
        "        noised_gen_x = decoder(noised_encoded_x)\r\n",
        "        gen_x[i] = noised_gen_x\r\n",
        "\r\n",
        "    gen_y = torch.full((len(gen_x), 1), label, dtype=torch.int8)\r\n",
        "    \r\n",
        "    return gen_x, gen_y"
      ],
      "outputs": [],
      "metadata": {
        "_uuid": "53185d9b371ab1719c7738acb3f391ebb4c731a4",
        "id": "7xbaeaSbYYJL"
      }
    },
    {
      "cell_type": "code",
      "execution_count": null,
      "source": [
        "# reset\r\n",
        "x = torch.as_tensor(x, dtype=torch.float32)\r\n",
        "y = np.array(label).reshape((-1, 1))\r\n",
        "y = torch.as_tensor(y, dtype=torch.int8)\r\n",
        "print(x.shape)\r\n",
        "print(noised_encoded_x.shape)\r\n",
        "print(decoder(noised_encoded_x).shape)\r\n",
        "print(y.shape)"
      ],
      "outputs": [],
      "metadata": {}
    },
    {
      "cell_type": "code",
      "execution_count": null,
      "source": [
        "gc.collect()"
      ],
      "outputs": [],
      "metadata": {}
    },
    {
      "cell_type": "code",
      "execution_count": null,
      "source": [
        "# Augmentation for all faulty case.\r\n",
        "for f in tqdm(faulty_case) : \r\n",
        "    if f == 8 : # skip none case\r\n",
        "        continue\r\n",
        "    target_index = np.where(y==f)[0]\r\n",
        "    gen_x, gen_y = gen_data(x[target_index], f)\r\n",
        "    x = torch.cat((x, gen_x), axis=0)\r\n",
        "    y = torch.cat((y, gen_y))"
      ],
      "outputs": [],
      "metadata": {
        "_uuid": "feafb17181cc20ae48402d75789f241d1ae7a5df",
        "id": "wXVwCD8MYYJM"
      }
    },
    {
      "cell_type": "code",
      "execution_count": null,
      "source": [
        "print('After Generate X shape : {}, y shape : {}'.format(X.shape, y.shape))"
      ],
      "outputs": [],
      "metadata": {
        "_uuid": "312ccd58ce0419f36b8b45aa6a5c3b6992e7045c",
        "colab": {
          "base_uri": "https://localhost:8080/"
        },
        "id": "3aFwm7GJYYJM",
        "outputId": "b57e0225-65d4-4675-aa7d-8b1272e2796e"
      }
    },
    {
      "cell_type": "code",
      "execution_count": null,
      "source": [
        "for f in faulty_case :\r\n",
        "    print('{} : {}'.format(f, len(y[y==f])))"
      ],
      "outputs": [],
      "metadata": {
        "_uuid": "6eae1b2b5ea63bbd6ff0f6e10e33377b59ff26c7",
        "colab": {
          "base_uri": "https://localhost:8080/"
        },
        "id": "E7APpKVQYYJM",
        "outputId": "2b054a5d-37ac-4f8f-deb5-1deac0ca1bb9"
      }
    },
    {
      "cell_type": "code",
      "execution_count": null,
      "source": [
        "# choice index without replace.\r\n",
        "none_idx = np.where(y==8)[0][np.random.choice(len(np.where(y==8)[0]), size=11000, replace=False)]"
      ],
      "outputs": [],
      "metadata": {
        "_uuid": "2c8e55735742f478c4bdbc182cb2cca289c61be6",
        "id": "gIsX4fnXYYJM"
      }
    },
    {
      "cell_type": "code",
      "execution_count": null,
      "source": [
        "X = X.detach().numpy()\r\n",
        "y = y.detach().numpy()"
      ],
      "outputs": [],
      "metadata": {}
    },
    {
      "cell_type": "code",
      "execution_count": null,
      "source": [
        "# delete choiced index data.\r\n",
        "new_x = np.delete(X, none_idx, axis=0)\r\n",
        "new_y = np.delete(y, none_idx, axis=0)"
      ],
      "outputs": [],
      "metadata": {
        "_uuid": "176736aa682e1865b5c9224abcc497100c07da2c",
        "id": "fWAn0q03YYJM"
      }
    },
    {
      "cell_type": "code",
      "execution_count": null,
      "source": [
        "print('After Delete \"none\" class new_x shape : {}, new_y shape : {}'.format(new_x.shape, new_y.shape))"
      ],
      "outputs": [],
      "metadata": {
        "_uuid": "984ca3aab008480e2a559d221edb97471b9d20d4",
        "colab": {
          "base_uri": "https://localhost:8080/"
        },
        "id": "8aJqLtVfYYJN",
        "outputId": "746a5d8e-aed2-4530-e19b-cb12d969143e"
      }
    },
    {
      "cell_type": "code",
      "execution_count": null,
      "source": [
        "for f in faulty_case :\r\n",
        "    print('{} : {}'.format(f, len(new_y[new_y==f])))"
      ],
      "outputs": [],
      "metadata": {
        "_uuid": "f25df666116dad97d9437c632b9f4706fbb36589",
        "colab": {
          "base_uri": "https://localhost:8080/"
        },
        "id": "2WwKo_pdYYJN",
        "outputId": "eaa01181-1aec-4119-b603-ba30c5eee8a0"
      }
    },
    {
      "cell_type": "code",
      "execution_count": null,
      "source": [
        "new_x = torch.tensor(new_x, dtype=torch.float32)\r\n",
        "new_y = torch.tensor(new_y, dtype=torch.long)\r\n",
        "dataset = TensorDataset(new_x, new_y)\r\n",
        "train_indices, val_indices = train_test_split(list(range(len(new_y))), test_size = 0.2, stratify = new_y)\r\n",
        "\r\n",
        "train_dataset = torch.utils.data.Subset(dataset, train_indices)\r\n",
        "val_dataset = torch.utils.data.Subset(dataset, val_indices)\r\n",
        "\r\n",
        "train_loader = DataLoader(train_dataset, batch_size=BATCH_SIZE)\r\n",
        "val_loader = DataLoader(val_dataset, batch_size=BATCH_SIZE)\r\n",
        "\r\n",
        "sample = next(iter(train_loader))\r\n",
        "print(sample[0].shape)\r\n",
        "print(sample[1].shape)"
      ],
      "outputs": [],
      "metadata": {
        "_uuid": "45c97eb59ee98522979105b6b1b127461a2c235b",
        "id": "QBJMAjeJYYJN"
      }
    },
    {
      "cell_type": "markdown",
      "source": [
        "### 모델 생성"
      ],
      "metadata": {
        "id": "xv563-o6RUtl"
      }
    },
    {
      "cell_type": "markdown",
      "source": [
        "# Transfer Learning"
      ],
      "metadata": {
        "_uuid": "5811613cd83778f3a2a7aa28a47c362cedbe713f",
        "id": "9vUr3jywYYJO"
      }
    },
    {
      "cell_type": "code",
      "execution_count": null,
      "source": [
        "from efficientnet_pytorch import EfficientNet \r\n",
        "model = EfficientNet.from_pretrained(\"efficientnet-b4\", advprop=True, num_classes = 9) # Transfer learning\r\n",
        "summary(model, torch.zeros(BATCH_SIZE, 3, 26, 26))"
      ],
      "outputs": [],
      "metadata": {}
    },
    {
      "cell_type": "markdown",
      "source": [
        "## Lightning Wrapper"
      ],
      "metadata": {}
    },
    {
      "cell_type": "code",
      "execution_count": null,
      "source": [
        "class LitEfficientNet(LightningModule):\r\n",
        "    def __init__(self, lr):\r\n",
        "        super().__init__()\r\n",
        "        self.save_hyperparameters()\r\n",
        "        self.model = model\r\n",
        "    \r\n",
        "    def forward(self, x):\r\n",
        "        x = self.model(x)\r\n",
        "        return x\r\n",
        "\r\n",
        "    def training_step(self, batch, batch_idx):\r\n",
        "        x, y = batch\r\n",
        "        y_pred = self(x)\r\n",
        "        loss = F.cross_entropy(y_pred, y) # for multi-class classification\r\n",
        "        self.log(\"training loss\", loss, on_step=True, prog_bar=True, logger=True)\r\n",
        "        return loss \r\n",
        "\r\n",
        "    def evaluate(self, batch, stage=None):\r\n",
        "        x, y = batch\r\n",
        "        y_pred = self(x) # (batch,)\r\n",
        "        loss = F.cross_entropy(y_pred, y)\r\n",
        "        preds = y_pred.argmax(-1)\r\n",
        "        acc = accuracy(preds, y)\r\n",
        "        if stage:\r\n",
        "            self.log(f\"{stage}_loss\", loss, prog_bar=True, logger=True)\r\n",
        "            self.log(f\"{stage}_accuracy\", acc, prog_bar=True, logger=True)\r\n",
        "\r\n",
        "    def validation_step(self, batch, batch_idx):\r\n",
        "        self.evaluate(batch, \"val\")\r\n",
        "\r\n",
        "    def configure_optimizers(self):\r\n",
        "        optimizer = torch.optim.Adam(\r\n",
        "            self.parameters(),\r\n",
        "            lr=self.hparams.lr)\r\n",
        "        steps_per_epoch = len(train_loader.dataset) // BATCH_SIZE\r\n",
        "        scheduler_dict = {\r\n",
        "            \"scheduler\": ReduceLROnPlateau(\r\n",
        "                optimizer,\r\n",
        "                mode='min',\r\n",
        "                factor=0.1,\r\n",
        "                patience=3, \r\n",
        "                threshold=0.0003,\r\n",
        "                cooldown=2, \r\n",
        "                verbose=True\r\n",
        "            ),\r\n",
        "            \"interval\": \"epoch\",\r\n",
        "            \"monitor\" : \"val_loss\", \r\n",
        "        }\r\n",
        "        return {\"optimizer\": optimizer, \"lr_scheduler\": scheduler_dict}"
      ],
      "outputs": [],
      "metadata": {}
    },
    {
      "cell_type": "markdown",
      "source": [
        "# Callback"
      ],
      "metadata": {}
    },
    {
      "cell_type": "code",
      "execution_count": null,
      "source": [
        "\r\n",
        "checkpoint = ModelCheckpoint(\r\n",
        "    dirpath='./models',\r\n",
        "    filename='model-{epoch:02d}-{val_loss:.4f}',\r\n",
        "    save_top_k=1,\r\n",
        "    monitor='val_loss',\r\n",
        "    verbose=True,\r\n",
        "    mode='min',\r\n",
        "    save_weights_only=False,\r\n",
        "    every_n_epochs = 1\r\n",
        ")\r\n",
        "earlystop = EarlyStopping(\r\n",
        "    monitor='val_loss',\r\n",
        "    min_delta=0.003,  # minimum value to determine 'improved'\r\n",
        "    patience=5,\r\n",
        "    verbose=True,\r\n",
        "    mode='min'\r\n",
        ") \r\n",
        "lr_monitor = LearningRateMonitor(logging_interval='step')\r\n",
        "\r\n",
        "callbacks = [checkpoint, earlystop, lr_monitor]"
      ],
      "outputs": [],
      "metadata": {}
    },
    {
      "cell_type": "markdown",
      "source": [
        "# Classifier Training"
      ],
      "metadata": {}
    },
    {
      "cell_type": "code",
      "execution_count": null,
      "source": [
        "model = LitEfficientNet(lr = 0.005)\r\n",
        "trainer = Trainer(\r\n",
        "    progress_bar_refresh_rate = 10,\r\n",
        "    min_epochs = 5,\r\n",
        "    max_epochs = 50,\r\n",
        "    gpus = 1,\r\n",
        "    logger = TensorBoardLogger(\"logs\", name = 'EfficientNetb4'), \r\n",
        "    callbacks = callbacks\r\n",
        ")\r\n",
        "trainer.fit(model, datamodule)"
      ],
      "outputs": [],
      "metadata": {}
    },
    {
      "cell_type": "code",
      "execution_count": null,
      "source": [
        "%load_ext tensorboard"
      ],
      "outputs": [],
      "metadata": {}
    }
  ]
}