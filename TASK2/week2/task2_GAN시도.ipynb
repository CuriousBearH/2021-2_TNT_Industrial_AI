{
  "nbformat": 4,
  "nbformat_minor": 0,
  "metadata": {
    "colab": {
      "name": "task2_GAN시도.ipynb",
      "provenance": []
    },
    "kernelspec": {
      "name": "python3",
      "display_name": "Python 3"
    },
    "language_info": {
      "name": "python"
    }
  },
  "cells": [
    {
      "cell_type": "markdown",
      "metadata": {
        "id": "96fAHAtrGFJp"
      },
      "source": [
        "## GAN 실패,,"
      ]
    },
    {
      "cell_type": "code",
      "metadata": {
        "id": "GFat1OlDx5Xy"
      },
      "source": [
        "from tensorflow import keras\n",
        "from keras.layers import Input, Dense, Reshape, Flatten\n",
        "from keras.layers import Activation\n",
        "from keras.layers.advanced_activations import LeakyReLU\n",
        "from keras.models import Sequential, Model\n",
        "import matplotlib.pyplot as plt\n",
        "\n",
        "import sys\n",
        "\n",
        "import numpy as np"
      ],
      "execution_count": null,
      "outputs": []
    },
    {
      "cell_type": "code",
      "metadata": {
        "id": "yDzwrgdRzYLg"
      },
      "source": [
        "img_rows = 26\n",
        "img_cols = 26\n",
        "channels = 1\n",
        "img_shape = (img_rows, img_cols, channels)\n",
        "\n",
        "z_dim = 100"
      ],
      "execution_count": null,
      "outputs": []
    },
    {
      "cell_type": "code",
      "metadata": {
        "id": "mJXHHJuwzYNY"
      },
      "source": [
        "def generator(img_shape, z_dim):\n",
        "    \n",
        "    model = Sequential()\n",
        "\n",
        "    model.add(Dense(128, input_dim=z_dim))\n",
        "\n",
        "    model.add(LeakyReLU(alpha=0.01))\n",
        "\n",
        "    model.add(Dense(26*26*1, activation='tanh'))\n",
        "    model.add(Reshape(img_shape))\n",
        "\n",
        "    z = Input(shape=(z_dim,))\n",
        "    img = model(z)\n",
        "\n",
        "    return Model(z, img)"
      ],
      "execution_count": null,
      "outputs": []
    },
    {
      "cell_type": "code",
      "metadata": {
        "id": "84gMsEdHzYPS"
      },
      "source": [
        "def discriminator(img_shape):\n",
        "    \n",
        "    model = Sequential()\n",
        "\n",
        "    model.add(Flatten(input_shape=img_shape))\n",
        "\n",
        "\n",
        "    model.add(Dense(128))\n",
        "\n",
        "\n",
        "    model.add(LeakyReLU(alpha=0.01))\n",
        "\n",
        "    model.add(Dense(1, activation='sigmoid'))\n",
        "\n",
        "    img = Input(shape=img_shape)\n",
        "    prediction = model(img)\n",
        "\n",
        "    return Model(img, prediction)"
      ],
      "execution_count": null,
      "outputs": []
    },
    {
      "cell_type": "code",
      "metadata": {
        "id": "g39PRidjzYRU"
      },
      "source": [
        "discriminator = discriminator(img_shape)\n",
        "discriminator.compile(loss='binary_crossentropy', \n",
        "                      optimizer=keras.optimizers.Adam(), metrics=['accuracy'])\n",
        "\n",
        "# Build the Generator\n",
        "generator = generator(img_shape, z_dim)\n",
        "\n",
        "# Generated image to be used as input\n",
        "z = Input(shape=(100,))\n",
        "img = generator(z)\n",
        "\n",
        "# Keep Discriminator’s parameters constant during Generator training\n",
        "discriminator.trainable = False\n",
        "\n",
        "# The Discriminator’s prediction\n",
        "prediction = discriminator(img)\n",
        "\n",
        "# Combined GAN model to train the Generator\n",
        "combined = Model(z, prediction)\n",
        "combined.compile(loss='binary_crossentropy', optimizer=keras.optimizers.Adam())"
      ],
      "execution_count": null,
      "outputs": []
    },
    {
      "cell_type": "code",
      "metadata": {
        "id": "kLu3wP7vzYTQ"
      },
      "source": [
        "losses = []\n",
        "accuracies = []\n",
        "\n",
        "def train(iterations, batch_size, sample_interval):\n",
        "    \n",
        "    data_slice = 3000\n",
        "    X_train = np.expand_dims(X_train, axis=3)\n",
        "\n",
        "\n",
        "    real = np.ones((batch_size, 1))\n",
        "    fake = np.zeros((batch_size, 1))\n",
        "\n",
        "    for iteration in range(iterations):\n",
        "        \n",
        "        idx = np.random.randint(0, X_train.shape[0], batch_size)\n",
        "        imgs = X_train[idx]\n",
        "\n",
        "        # Generate a batch of fake images\n",
        "        z = np.random.normal(0, 1, (batch_size, 100))\n",
        "        gen_imgs = generator.predict(z)\n",
        "\n",
        "        # Discriminator loss\n",
        "        d_loss_real = discriminator.train_on_batch(imgs, real)\n",
        "        d_loss_fake = discriminator.train_on_batch(gen_imgs, fake)\n",
        "        d_loss = 0.5 * np.add(d_loss_real, d_loss_fake)\n",
        "        \n",
        "        z = np.random.normal(0, 1, (batch_size, 100))\n",
        "        gen_imgs = generator.predict(z)\n",
        "\n",
        "        # Generator loss\n",
        "        g_loss = combined.train_on_batch(z, real)\n",
        "\n",
        "        if iteration % sample_interval == 0:\n",
        "            \n",
        "            # Output training progress\n",
        "            print (\"%d [D loss: %f, acc.: %.2f%%] [G loss: %f]\" % \n",
        "                         (iteration, d_loss[0], 100*d_loss[1], g_loss))\n",
        "            \n",
        "            # Save losses and accuracies so they can be plotted after training\n",
        "            losses.append((d_loss[0], g_loss))\n",
        "            accuracies.append(100*d_loss[1])\n",
        "\n",
        "            # Output generated image samples \n",
        "            sample_images(iteration)"
      ],
      "execution_count": null,
      "outputs": []
    }
  ]
}