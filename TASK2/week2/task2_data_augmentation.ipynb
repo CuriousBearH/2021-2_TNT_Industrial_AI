{
  "nbformat": 4,
  "nbformat_minor": 0,
  "metadata": {
    "kernelspec": {
      "display_name": "Python 3",
      "language": "python",
      "name": "python3"
    },
    "language_info": {
      "codemirror_mode": {
        "name": "ipython",
        "version": 3
      },
      "file_extension": ".py",
      "mimetype": "text/x-python",
      "name": "python",
      "nbconvert_exporter": "python",
      "pygments_lexer": "ipython3",
      "version": "3.6.6"
    },
    "colab": {
      "name": "task2_data augmentation.ipynb",
      "provenance": [],
      "collapsed_sections": [
        "xv563-o6RUtl",
        "9vUr3jywYYJO"
      ]
    },
    "accelerator": "GPU"
  },
  "cells": [
    {
      "cell_type": "code",
      "metadata": {
        "_cell_guid": "b1076dfc-b9ad-4769-8c92-a6c4dae69d19",
        "_uuid": "8f2839f25d086af736a60e9eeb907d3b93b6e0e5",
        "id": "DuPEi2_gYYI0"
      },
      "source": [
        "import os\n",
        "from os.path import join\n",
        "\n",
        "import numpy as np\n",
        "import pandas as pd\n",
        "import cv2\n",
        "\n",
        "import tensorflow as tf\n",
        "import keras\n",
        "from keras import layers, Input, models\n",
        "from keras.wrappers.scikit_learn import KerasClassifier \n",
        "from sklearn.model_selection import KFold \n",
        "from sklearn.model_selection import cross_val_score\n",
        "\n",
        "from sklearn.model_selection import train_test_split\n",
        "\n",
        "import matplotlib.pyplot as plt"
      ],
      "execution_count": 44,
      "outputs": []
    },
    {
      "cell_type": "code",
      "metadata": {
        "colab": {
          "base_uri": "https://localhost:8080/"
        },
        "id": "iIb4XDuSIo97",
        "outputId": "802ccb9f-bc9d-4680-a5ca-cef4f666afc8"
      },
      "source": [
        "from google.colab import drive\n",
        "drive.mount('/content/drive')"
      ],
      "execution_count": 2,
      "outputs": [
        {
          "output_type": "stream",
          "name": "stdout",
          "text": [
            "Drive already mounted at /content/drive; to attempt to forcibly remount, call drive.mount(\"/content/drive\", force_remount=True).\n"
          ]
        }
      ]
    },
    {
      "cell_type": "code",
      "metadata": {
        "id": "xYbmehJaIwwC"
      },
      "source": [
        "df = pd.read_pickle(\"/content/drive/Shareddrives/TNT/정규세션/2021년 2학기/산업인공지능/TASK2-wafer map /LSWMD.pkl\")"
      ],
      "execution_count": 3,
      "outputs": []
    },
    {
      "cell_type": "code",
      "metadata": {
        "_cell_guid": "79c7e3d0-c299-4dcb-8224-4455121ee9b0",
        "_uuid": "d629ff2d2480ee46fbb7e2d37f6b5fab8052498a",
        "colab": {
          "base_uri": "https://localhost:8080/"
        },
        "id": "vSTdJhxDYYI4",
        "outputId": "11844310-b011-498c-896e-12db9abc74a5"
      },
      "source": [
        "df.info()"
      ],
      "execution_count": 4,
      "outputs": [
        {
          "output_type": "stream",
          "name": "stdout",
          "text": [
            "<class 'pandas.core.frame.DataFrame'>\n",
            "RangeIndex: 811457 entries, 0 to 811456\n",
            "Data columns (total 6 columns):\n",
            " #   Column          Non-Null Count   Dtype  \n",
            "---  ------          --------------   -----  \n",
            " 0   waferMap        811457 non-null  object \n",
            " 1   dieSize         811457 non-null  float64\n",
            " 2   lotName         811457 non-null  object \n",
            " 3   waferIndex      811457 non-null  float64\n",
            " 4   trianTestLabel  811457 non-null  object \n",
            " 5   failureType     811457 non-null  object \n",
            "dtypes: float64(2), object(4)\n",
            "memory usage: 37.1+ MB\n"
          ]
        }
      ]
    },
    {
      "cell_type": "code",
      "metadata": {
        "_cell_guid": "68f6fd95-8687-450f-827b-418cc7143362",
        "_uuid": "6bb42da7f6371cdc7c624d67d29cb3ed395c7393",
        "colab": {
          "base_uri": "https://localhost:8080/",
          "height": 204
        },
        "id": "6m3AgSgWYYI6",
        "outputId": "76aa284d-60a9-4db8-ef22-a3ce99b59cb7"
      },
      "source": [
        "df.head()"
      ],
      "execution_count": 5,
      "outputs": [
        {
          "output_type": "execute_result",
          "data": {
            "text/html": [
              "<div>\n",
              "<style scoped>\n",
              "    .dataframe tbody tr th:only-of-type {\n",
              "        vertical-align: middle;\n",
              "    }\n",
              "\n",
              "    .dataframe tbody tr th {\n",
              "        vertical-align: top;\n",
              "    }\n",
              "\n",
              "    .dataframe thead th {\n",
              "        text-align: right;\n",
              "    }\n",
              "</style>\n",
              "<table border=\"1\" class=\"dataframe\">\n",
              "  <thead>\n",
              "    <tr style=\"text-align: right;\">\n",
              "      <th></th>\n",
              "      <th>waferMap</th>\n",
              "      <th>dieSize</th>\n",
              "      <th>lotName</th>\n",
              "      <th>waferIndex</th>\n",
              "      <th>trianTestLabel</th>\n",
              "      <th>failureType</th>\n",
              "    </tr>\n",
              "  </thead>\n",
              "  <tbody>\n",
              "    <tr>\n",
              "      <th>0</th>\n",
              "      <td>[[0, 0, 0, 0, 0, 0, 0, 0, 0, 0, 0, 0, 0, 0, 0,...</td>\n",
              "      <td>1683.0</td>\n",
              "      <td>lot1</td>\n",
              "      <td>1.0</td>\n",
              "      <td>[[Training]]</td>\n",
              "      <td>[[none]]</td>\n",
              "    </tr>\n",
              "    <tr>\n",
              "      <th>1</th>\n",
              "      <td>[[0, 0, 0, 0, 0, 0, 0, 0, 0, 0, 0, 0, 0, 0, 0,...</td>\n",
              "      <td>1683.0</td>\n",
              "      <td>lot1</td>\n",
              "      <td>2.0</td>\n",
              "      <td>[[Training]]</td>\n",
              "      <td>[[none]]</td>\n",
              "    </tr>\n",
              "    <tr>\n",
              "      <th>2</th>\n",
              "      <td>[[0, 0, 0, 0, 0, 0, 0, 0, 0, 0, 0, 0, 0, 0, 0,...</td>\n",
              "      <td>1683.0</td>\n",
              "      <td>lot1</td>\n",
              "      <td>3.0</td>\n",
              "      <td>[[Training]]</td>\n",
              "      <td>[[none]]</td>\n",
              "    </tr>\n",
              "    <tr>\n",
              "      <th>3</th>\n",
              "      <td>[[0, 0, 0, 0, 0, 0, 0, 0, 0, 0, 0, 0, 0, 0, 0,...</td>\n",
              "      <td>1683.0</td>\n",
              "      <td>lot1</td>\n",
              "      <td>4.0</td>\n",
              "      <td>[[Training]]</td>\n",
              "      <td>[[none]]</td>\n",
              "    </tr>\n",
              "    <tr>\n",
              "      <th>4</th>\n",
              "      <td>[[0, 0, 0, 0, 0, 0, 0, 0, 0, 0, 0, 0, 0, 0, 0,...</td>\n",
              "      <td>1683.0</td>\n",
              "      <td>lot1</td>\n",
              "      <td>5.0</td>\n",
              "      <td>[[Training]]</td>\n",
              "      <td>[[none]]</td>\n",
              "    </tr>\n",
              "  </tbody>\n",
              "</table>\n",
              "</div>"
            ],
            "text/plain": [
              "                                            waferMap  ...  failureType\n",
              "0  [[0, 0, 0, 0, 0, 0, 0, 0, 0, 0, 0, 0, 0, 0, 0,...  ...     [[none]]\n",
              "1  [[0, 0, 0, 0, 0, 0, 0, 0, 0, 0, 0, 0, 0, 0, 0,...  ...     [[none]]\n",
              "2  [[0, 0, 0, 0, 0, 0, 0, 0, 0, 0, 0, 0, 0, 0, 0,...  ...     [[none]]\n",
              "3  [[0, 0, 0, 0, 0, 0, 0, 0, 0, 0, 0, 0, 0, 0, 0,...  ...     [[none]]\n",
              "4  [[0, 0, 0, 0, 0, 0, 0, 0, 0, 0, 0, 0, 0, 0, 0,...  ...     [[none]]\n",
              "\n",
              "[5 rows x 6 columns]"
            ]
          },
          "metadata": {},
          "execution_count": 5
        }
      ]
    },
    {
      "cell_type": "code",
      "metadata": {
        "_cell_guid": "26296434-bb94-4600-ac5c-e60052540fc2",
        "_uuid": "81b4438880a465265144c4189c8e79457329604e",
        "colab": {
          "base_uri": "https://localhost:8080/",
          "height": 204
        },
        "id": "hzbXacIoYYI7",
        "outputId": "0fe3c9f8-1077-40d7-e674-c43adb9143e8"
      },
      "source": [
        "df.tail()"
      ],
      "execution_count": 6,
      "outputs": [
        {
          "output_type": "execute_result",
          "data": {
            "text/html": [
              "<div>\n",
              "<style scoped>\n",
              "    .dataframe tbody tr th:only-of-type {\n",
              "        vertical-align: middle;\n",
              "    }\n",
              "\n",
              "    .dataframe tbody tr th {\n",
              "        vertical-align: top;\n",
              "    }\n",
              "\n",
              "    .dataframe thead th {\n",
              "        text-align: right;\n",
              "    }\n",
              "</style>\n",
              "<table border=\"1\" class=\"dataframe\">\n",
              "  <thead>\n",
              "    <tr style=\"text-align: right;\">\n",
              "      <th></th>\n",
              "      <th>waferMap</th>\n",
              "      <th>dieSize</th>\n",
              "      <th>lotName</th>\n",
              "      <th>waferIndex</th>\n",
              "      <th>trianTestLabel</th>\n",
              "      <th>failureType</th>\n",
              "    </tr>\n",
              "  </thead>\n",
              "  <tbody>\n",
              "    <tr>\n",
              "      <th>811452</th>\n",
              "      <td>[[0, 0, 0, 0, 0, 0, 0, 0, 0, 0, 0, 1, 2, 1, 1,...</td>\n",
              "      <td>600.0</td>\n",
              "      <td>lot47542</td>\n",
              "      <td>23.0</td>\n",
              "      <td>[[Test]]</td>\n",
              "      <td>[[Edge-Ring]]</td>\n",
              "    </tr>\n",
              "    <tr>\n",
              "      <th>811453</th>\n",
              "      <td>[[0, 0, 0, 0, 0, 0, 0, 0, 0, 0, 0, 2, 2, 1, 1,...</td>\n",
              "      <td>600.0</td>\n",
              "      <td>lot47542</td>\n",
              "      <td>24.0</td>\n",
              "      <td>[[Test]]</td>\n",
              "      <td>[[Edge-Loc]]</td>\n",
              "    </tr>\n",
              "    <tr>\n",
              "      <th>811454</th>\n",
              "      <td>[[0, 0, 0, 0, 0, 0, 0, 0, 0, 0, 0, 1, 2, 1, 1,...</td>\n",
              "      <td>600.0</td>\n",
              "      <td>lot47542</td>\n",
              "      <td>25.0</td>\n",
              "      <td>[[Test]]</td>\n",
              "      <td>[[Edge-Ring]]</td>\n",
              "    </tr>\n",
              "    <tr>\n",
              "      <th>811455</th>\n",
              "      <td>[[0, 0, 0, 0, 0, 0, 0, 0, 0, 0, 0, 1, 1, 1, 1,...</td>\n",
              "      <td>600.0</td>\n",
              "      <td>lot47543</td>\n",
              "      <td>1.0</td>\n",
              "      <td>[]</td>\n",
              "      <td>[]</td>\n",
              "    </tr>\n",
              "    <tr>\n",
              "      <th>811456</th>\n",
              "      <td>[[0, 0, 0, 0, 0, 0, 0, 0, 0, 0, 0, 1, 2, 1, 1,...</td>\n",
              "      <td>600.0</td>\n",
              "      <td>lot47543</td>\n",
              "      <td>2.0</td>\n",
              "      <td>[]</td>\n",
              "      <td>[]</td>\n",
              "    </tr>\n",
              "  </tbody>\n",
              "</table>\n",
              "</div>"
            ],
            "text/plain": [
              "                                                 waferMap  ...    failureType\n",
              "811452  [[0, 0, 0, 0, 0, 0, 0, 0, 0, 0, 0, 1, 2, 1, 1,...  ...  [[Edge-Ring]]\n",
              "811453  [[0, 0, 0, 0, 0, 0, 0, 0, 0, 0, 0, 2, 2, 1, 1,...  ...   [[Edge-Loc]]\n",
              "811454  [[0, 0, 0, 0, 0, 0, 0, 0, 0, 0, 0, 1, 2, 1, 1,...  ...  [[Edge-Ring]]\n",
              "811455  [[0, 0, 0, 0, 0, 0, 0, 0, 0, 0, 0, 1, 1, 1, 1,...  ...             []\n",
              "811456  [[0, 0, 0, 0, 0, 0, 0, 0, 0, 0, 0, 1, 2, 1, 1,...  ...             []\n",
              "\n",
              "[5 rows x 6 columns]"
            ]
          },
          "metadata": {},
          "execution_count": 6
        }
      ]
    },
    {
      "cell_type": "markdown",
      "metadata": {
        "id": "frmgw8LpRK6v"
      },
      "source": [
        "### EDA "
      ]
    },
    {
      "cell_type": "code",
      "metadata": {
        "_cell_guid": "6f939db7-e348-418c-bad1-596881441789",
        "_uuid": "b2dcf6fdd761ba3782b88a45f5592df200bd35ba",
        "colab": {
          "base_uri": "https://localhost:8080/",
          "height": 295
        },
        "id": "fm5i43tEYYI9",
        "outputId": "ac9e6e35-edd1-42d8-a6a6-0068f3c30050"
      },
      "source": [
        "import matplotlib.pyplot as plt\n",
        "%matplotlib inline\n",
        "\n",
        "\n",
        "uni_Index=np.unique(df.waferIndex, return_counts=True)\n",
        "plt.bar(uni_Index[0],uni_Index[1], color='gold', align='center', alpha=0.5)\n",
        "plt.title(\" wafer Index distribution\")\n",
        "plt.xlabel(\"index #\")\n",
        "plt.ylabel(\"frequency\")\n",
        "plt.xlim(0,26)\n",
        "plt.ylim(30000,34000)\n",
        "plt.show()"
      ],
      "execution_count": 7,
      "outputs": [
        {
          "output_type": "display_data",
          "data": {
            "image/png": "[encoded data removed]",
            "text/plain": [
              "<Figure size 432x288 with 1 Axes>"
            ]
          },
          "metadata": {
            "needs_background": "light"
          }
        }
      ]
    },
    {
      "cell_type": "code",
      "metadata": {
        "_cell_guid": "b9b24bdd-8fb9-463e-bf28-c4ebeed7ae4d",
        "_uuid": "652a9c89d538962295917acbfcde37a88b7337f1",
        "id": "dS25NUC1YYI-"
      },
      "source": [
        "df = df.drop(['waferIndex'], axis = 1)"
      ],
      "execution_count": 8,
      "outputs": []
    },
    {
      "cell_type": "code",
      "metadata": {
        "_cell_guid": "846afbcf-dc89-4f69-9def-512eaa64b533",
        "_uuid": "a06d8b69be3752f5035e6ca1ffe841e0c9a761ad",
        "colab": {
          "base_uri": "https://localhost:8080/",
          "height": 204
        },
        "id": "24ElHIdMYYI_",
        "outputId": "20b56b55-cebb-4c69-cf7e-62c723236dfc"
      },
      "source": [
        "def find_dim(x):\n",
        "    dim0=np.size(x,axis=0)\n",
        "    dim1=np.size(x,axis=1)\n",
        "    return dim0,dim1\n",
        "df['waferMapDim']=df.waferMap.apply(find_dim)\n",
        "df.sample(5)"
      ],
      "execution_count": 9,
      "outputs": [
        {
          "output_type": "execute_result",
          "data": {
            "text/html": [
              "<div>\n",
              "<style scoped>\n",
              "    .dataframe tbody tr th:only-of-type {\n",
              "        vertical-align: middle;\n",
              "    }\n",
              "\n",
              "    .dataframe tbody tr th {\n",
              "        vertical-align: top;\n",
              "    }\n",
              "\n",
              "    .dataframe thead th {\n",
              "        text-align: right;\n",
              "    }\n",
              "</style>\n",
              "<table border=\"1\" class=\"dataframe\">\n",
              "  <thead>\n",
              "    <tr style=\"text-align: right;\">\n",
              "      <th></th>\n",
              "      <th>waferMap</th>\n",
              "      <th>dieSize</th>\n",
              "      <th>lotName</th>\n",
              "      <th>trianTestLabel</th>\n",
              "      <th>failureType</th>\n",
              "      <th>waferMapDim</th>\n",
              "    </tr>\n",
              "  </thead>\n",
              "  <tbody>\n",
              "    <tr>\n",
              "      <th>161372</th>\n",
              "      <td>[[0, 0, 0, 0, 0, 0, 0, 0, 0, 0, 0, 1, 2, 1, 1,...</td>\n",
              "      <td>515.0</td>\n",
              "      <td>lot10415</td>\n",
              "      <td>[]</td>\n",
              "      <td>[]</td>\n",
              "      <td>(25, 27)</td>\n",
              "    </tr>\n",
              "    <tr>\n",
              "      <th>742754</th>\n",
              "      <td>[[0, 0, 0, 0, 0, 0, 0, 0, 0, 0, 0, 0, 0, 0, 1,...</td>\n",
              "      <td>895.0</td>\n",
              "      <td>lot44754</td>\n",
              "      <td>[[Test]]</td>\n",
              "      <td>[[none]]</td>\n",
              "      <td>(33, 35)</td>\n",
              "    </tr>\n",
              "    <tr>\n",
              "      <th>62438</th>\n",
              "      <td>[[0, 0, 0, 0, 0, 0, 0, 0, 0, 0, 0, 0, 0, 0, 0,...</td>\n",
              "      <td>776.0</td>\n",
              "      <td>lot4862</td>\n",
              "      <td>[]</td>\n",
              "      <td>[]</td>\n",
              "      <td>(30, 34)</td>\n",
              "    </tr>\n",
              "    <tr>\n",
              "      <th>99481</th>\n",
              "      <td>[[0, 0, 0, 0, 0, 0, 0, 0, 0, 0, 0, 0, 0, 0, 0,...</td>\n",
              "      <td>2422.0</td>\n",
              "      <td>lot6914</td>\n",
              "      <td>[]</td>\n",
              "      <td>[]</td>\n",
              "      <td>(72, 43)</td>\n",
              "    </tr>\n",
              "    <tr>\n",
              "      <th>617473</th>\n",
              "      <td>[[0, 0, 0, 0, 0, 0, 0, 0, 0, 0, 0, 0, 1, 1, 1,...</td>\n",
              "      <td>846.0</td>\n",
              "      <td>lot38756</td>\n",
              "      <td>[]</td>\n",
              "      <td>[]</td>\n",
              "      <td>(33, 33)</td>\n",
              "    </tr>\n",
              "  </tbody>\n",
              "</table>\n",
              "</div>"
            ],
            "text/plain": [
              "                                                 waferMap  ...  waferMapDim\n",
              "161372  [[0, 0, 0, 0, 0, 0, 0, 0, 0, 0, 0, 1, 2, 1, 1,...  ...     (25, 27)\n",
              "742754  [[0, 0, 0, 0, 0, 0, 0, 0, 0, 0, 0, 0, 0, 0, 1,...  ...     (33, 35)\n",
              "62438   [[0, 0, 0, 0, 0, 0, 0, 0, 0, 0, 0, 0, 0, 0, 0,...  ...     (30, 34)\n",
              "99481   [[0, 0, 0, 0, 0, 0, 0, 0, 0, 0, 0, 0, 0, 0, 0,...  ...     (72, 43)\n",
              "617473  [[0, 0, 0, 0, 0, 0, 0, 0, 0, 0, 0, 0, 1, 1, 1,...  ...     (33, 33)\n",
              "\n",
              "[5 rows x 6 columns]"
            ]
          },
          "metadata": {},
          "execution_count": 9
        }
      ]
    },
    {
      "cell_type": "code",
      "metadata": {
        "_uuid": "fa9606d1040c197ad78c7555e6068ed53efe4fd7",
        "id": "lDNeoyo7YYI_"
      },
      "source": [
        "sub_df = df.loc[df['waferMapDim'] == (26, 26)]\n",
        "sub_wafer = sub_df['waferMap'].values\n",
        "\n",
        "sw = np.ones((1, 26, 26))\n",
        "label = list()\n",
        "\n",
        "for i in range(len(sub_df)):\n",
        "    # skip null label\n",
        "    if len(sub_df.iloc[i,:]['failureType']) == 0:\n",
        "        continue\n",
        "    sw = np.concatenate((sw, sub_df.iloc[i,:]['waferMap'].reshape(1, 26, 26)))\n",
        "    label.append(sub_df.iloc[i,:]['failureType'][0][0])"
      ],
      "execution_count": 10,
      "outputs": []
    },
    {
      "cell_type": "code",
      "metadata": {
        "_uuid": "5765b78a2511d60df7b26ba1c92f23adea0af8f3",
        "id": "-dBaLCvNYYJA"
      },
      "source": [
        "x = sw[1:]\n",
        "y = np.array(label).reshape((-1,1))"
      ],
      "execution_count": 11,
      "outputs": []
    },
    {
      "cell_type": "code",
      "metadata": {
        "_uuid": "3661e44b7a4a26623a4df3ad0a510ccef4c1f1c0",
        "colab": {
          "base_uri": "https://localhost:8080/"
        },
        "id": "TBZjsNB6YYJC",
        "outputId": "01e7b151-9c3e-4615-ed4f-beb571db5a76"
      },
      "source": [
        "# check dimension\n",
        "print('x shape : {}, y shape : {}'.format(x.shape, y.shape))"
      ],
      "execution_count": 12,
      "outputs": [
        {
          "output_type": "stream",
          "name": "stdout",
          "text": [
            "x shape : (14366, 26, 26), y shape : (14366, 1)\n"
          ]
        }
      ]
    },
    {
      "cell_type": "code",
      "metadata": {
        "_uuid": "26ce470baf87a73737b28792e8de5990c8d40d1f",
        "colab": {
          "base_uri": "https://localhost:8080/",
          "height": 283
        },
        "id": "Rl4cJHUpYYJD",
        "outputId": "00ab931b-9d50-4b75-da6b-90d3b6cf995d"
      },
      "source": [
        "# plot 1st data\n",
        "plt.imshow(x[0])\n",
        "plt.show()\n",
        "\n",
        "# check faulty case\n",
        "print('Faulty case : {} '.format(y[0]))"
      ],
      "execution_count": 13,
      "outputs": [
        {
          "output_type": "display_data",
          "data": {
            "image/png": "[encoded data removed]",
            "text/plain": [
              "<Figure size 432x288 with 1 Axes>"
            ]
          },
          "metadata": {
            "needs_background": "light"
          }
        },
        {
          "output_type": "stream",
          "name": "stdout",
          "text": [
            "Faulty case : ['none'] \n"
          ]
        }
      ]
    },
    {
      "cell_type": "code",
      "metadata": {
        "_uuid": "f4b488120f5dac6244746461863227305e0ce818",
        "id": "oZ8g8LuPYYJE"
      },
      "source": [
        "#add channel\n",
        "x = x.reshape((-1, 26, 26, 1))"
      ],
      "execution_count": 14,
      "outputs": []
    },
    {
      "cell_type": "code",
      "metadata": {
        "_uuid": "061124b48c79ec4e0255a64664abb37dbbfdf163",
        "colab": {
          "base_uri": "https://localhost:8080/"
        },
        "id": "9ACRWJK9YYJF",
        "outputId": "563e6ac8-c2f3-4cbf-eb83-9f58df7597c2"
      },
      "source": [
        "faulty_case = np.unique(y)\n",
        "print('Faulty case list : {}'.format(faulty_case))"
      ],
      "execution_count": 15,
      "outputs": [
        {
          "output_type": "stream",
          "name": "stdout",
          "text": [
            "Faulty case list : ['Center' 'Donut' 'Edge-Loc' 'Edge-Ring' 'Loc' 'Near-full' 'Random'\n",
            " 'Scratch' 'none']\n"
          ]
        }
      ]
    },
    {
      "cell_type": "code",
      "metadata": {
        "id": "ookQGTRhYYJF"
      },
      "source": [
        "faulty_case_dict =dict()"
      ],
      "execution_count": 16,
      "outputs": []
    },
    {
      "cell_type": "code",
      "metadata": {
        "_uuid": "85080e6018ed8b1e1e68dbcdf6177fb7a8a92213",
        "colab": {
          "base_uri": "https://localhost:8080/"
        },
        "id": "GvSGRW49YYJF",
        "outputId": "b674cc28-1a8c-4c2b-d5ad-1259240a5346"
      },
      "source": [
        "for i, f in enumerate(faulty_case) :\n",
        "    print('{} : {}'.format(f, len(y[y==f])))\n",
        "    faulty_case_dict[i] = f"
      ],
      "execution_count": 17,
      "outputs": [
        {
          "output_type": "stream",
          "name": "stdout",
          "text": [
            "Center : 90\n",
            "Donut : 1\n",
            "Edge-Loc : 296\n",
            "Edge-Ring : 31\n",
            "Loc : 297\n",
            "Near-full : 16\n",
            "Random : 74\n",
            "Scratch : 72\n",
            "none : 13489\n"
          ]
        }
      ]
    },
    {
      "cell_type": "code",
      "metadata": {
        "_uuid": "f1699363f1a073612e7255c0b93414f208827c1d",
        "id": "oyoWIVNPYYJG"
      },
      "source": [
        "new_x = np.zeros((len(x), 26, 26, 3))\n",
        "\n",
        "for w in range(len(x)):\n",
        "    for i in range(26):\n",
        "        for j in range(26):\n",
        "            new_x[w, i, j, int(x[w, i, j])] = 1"
      ],
      "execution_count": 18,
      "outputs": []
    },
    {
      "cell_type": "code",
      "metadata": {
        "_uuid": "54554a909fb719de0ca277fcf693f4bed416dbc2",
        "colab": {
          "base_uri": "https://localhost:8080/"
        },
        "id": "J6XyWk5cYYJG",
        "outputId": "1a185742-c39e-4e95-c83f-afb07ea4669e"
      },
      "source": [
        "#check new x dimension\n",
        "new_x.shape"
      ],
      "execution_count": 19,
      "outputs": [
        {
          "output_type": "execute_result",
          "data": {
            "text/plain": [
              "(14366, 26, 26, 3)"
            ]
          },
          "metadata": {},
          "execution_count": 19
        }
      ]
    },
    {
      "cell_type": "markdown",
      "metadata": {
        "_uuid": "5330346f0dccf25331724403406c0e848541fb9a",
        "id": "CaU-rfLnYYJH"
      },
      "source": [
        "## Convolutional Autoencoder for augmentation.\n",
        "불균형 문제를 해결할 필요성을 확인함. <br>\n",
        "이미지 데이터인 wafermap을 convolution AE를 활용해 해결시도"
      ]
    },
    {
      "cell_type": "markdown",
      "metadata": {
        "id": "hw2X0whKVRaF"
      },
      "source": [
        "![image.png](data:image/png;base64,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)"
      ]
    },
    {
      "cell_type": "code",
      "metadata": {
        "_uuid": "3974e475616075ece755eef50175a8c601cb81d5",
        "id": "SapuENHkYYJH"
      },
      "source": [
        "# parameter\n",
        "epoch=15\n",
        "batch_size=1024"
      ],
      "execution_count": 20,
      "outputs": []
    },
    {
      "cell_type": "code",
      "metadata": {
        "_uuid": "cb0d95ec105b12c0c4826aa60b891cf4dd8fe127",
        "id": "2O8EaX2EYYJI"
      },
      "source": [
        "# Encoder\n",
        "input_shape = (26, 26, 3)\n",
        "input_tensor = Input(input_shape)\n",
        "encode = layers.Conv2D(64, (3,3), padding='same', activation='relu')(input_tensor)\n",
        "\n",
        "latent_vector = layers.MaxPool2D()(encode)\n",
        "\n",
        "# Decoder\n",
        "decode_layer_1 = layers.Conv2DTranspose(64, (3,3), padding='same', activation='relu')\n",
        "decode_layer_2 = layers.UpSampling2D()\n",
        "output_tensor = layers.Conv2DTranspose(3, (3,3), padding='same', activation='sigmoid')\n",
        "\n",
        "# connect decoder layers\n",
        "decode = decode_layer_1(latent_vector)\n",
        "decode = decode_layer_2(decode)\n",
        "\n",
        "ae = models.Model(input_tensor, output_tensor(decode))\n",
        "ae.compile(optimizer = 'Adam',\n",
        "              loss = 'mse',\n",
        "             )"
      ],
      "execution_count": 21,
      "outputs": []
    },
    {
      "cell_type": "markdown",
      "metadata": {
        "_uuid": "99fbcd6bc3cd661d67ca0aba0f08a4cabcfee3ae",
        "id": "4ctQD4p2YYJI"
      },
      "source": [
        "Check summary"
      ]
    },
    {
      "cell_type": "code",
      "metadata": {
        "_uuid": "4b89d14eb19b52c6ade0e6d7e854d0d51fb6fef4",
        "colab": {
          "base_uri": "https://localhost:8080/"
        },
        "id": "FEITPnqcYYJJ",
        "outputId": "6ce119a8-e94d-4ed0-ebe5-b193a127721f"
      },
      "source": [
        "ae.summary()"
      ],
      "execution_count": 22,
      "outputs": [
        {
          "output_type": "stream",
          "name": "stdout",
          "text": [
            "Model: \"model\"\n",
            "_________________________________________________________________\n",
            "Layer (type)                 Output Shape              Param #   \n",
            "=================================================================\n",
            "input_1 (InputLayer)         [(None, 26, 26, 3)]       0         \n",
            "_________________________________________________________________\n",
            "conv2d (Conv2D)              (None, 26, 26, 64)        1792      \n",
            "_________________________________________________________________\n",
            "max_pooling2d (MaxPooling2D) (None, 13, 13, 64)        0         \n",
            "_________________________________________________________________\n",
            "conv2d_transpose (Conv2DTran (None, 13, 13, 64)        36928     \n",
            "_________________________________________________________________\n",
            "up_sampling2d (UpSampling2D) (None, 26, 26, 64)        0         \n",
            "_________________________________________________________________\n",
            "conv2d_transpose_1 (Conv2DTr (None, 26, 26, 3)         1731      \n",
            "=================================================================\n",
            "Total params: 40,451\n",
            "Trainable params: 40,451\n",
            "Non-trainable params: 0\n",
            "_________________________________________________________________\n"
          ]
        }
      ]
    },
    {
      "cell_type": "code",
      "metadata": {
        "_uuid": "5c8bcfb8e722a01cad99fe87bb60ec40fe2c21b6",
        "colab": {
          "base_uri": "https://localhost:8080/"
        },
        "id": "Op1It0zHYYJJ",
        "outputId": "dd210ad8-3b51-4b93-83b1-a19b07834905"
      },
      "source": [
        "# start train\n",
        "ae.fit(new_x, new_x,\n",
        "       batch_size=batch_size,\n",
        "       epochs=epoch,\n",
        "       verbose=2)"
      ],
      "execution_count": 23,
      "outputs": [
        {
          "output_type": "stream",
          "name": "stdout",
          "text": [
            "Epoch 1/15\n",
            "15/15 - 17s - loss: 0.1558\n",
            "Epoch 2/15\n",
            "15/15 - 0s - loss: 0.0974\n",
            "Epoch 3/15\n",
            "15/15 - 0s - loss: 0.0844\n",
            "Epoch 4/15\n",
            "15/15 - 0s - loss: 0.0738\n",
            "Epoch 5/15\n",
            "15/15 - 0s - loss: 0.0646\n",
            "Epoch 6/15\n",
            "15/15 - 0s - loss: 0.0577\n",
            "Epoch 7/15\n",
            "15/15 - 0s - loss: 0.0517\n",
            "Epoch 8/15\n",
            "15/15 - 0s - loss: 0.0468\n",
            "Epoch 9/15\n",
            "15/15 - 0s - loss: 0.0420\n",
            "Epoch 10/15\n",
            "15/15 - 0s - loss: 0.0372\n",
            "Epoch 11/15\n",
            "15/15 - 0s - loss: 0.0328\n",
            "Epoch 12/15\n",
            "15/15 - 0s - loss: 0.0290\n",
            "Epoch 13/15\n",
            "15/15 - 0s - loss: 0.0259\n",
            "Epoch 14/15\n",
            "15/15 - 0s - loss: 0.0233\n",
            "Epoch 15/15\n",
            "15/15 - 0s - loss: 0.0212\n"
          ]
        },
        {
          "output_type": "execute_result",
          "data": {
            "text/plain": [
              "<keras.callbacks.History at 0x7f2e3c626810>"
            ]
          },
          "metadata": {},
          "execution_count": 23
        }
      ]
    },
    {
      "cell_type": "code",
      "metadata": {
        "_uuid": "4359826557dd331ca953b6aae44641f77261c88e",
        "id": "kbmm0bVxYYJJ"
      },
      "source": [
        "# Make encoder model with part of autoencoder model layers\n",
        "encoder = models.Model(input_tensor, latent_vector)"
      ],
      "execution_count": 24,
      "outputs": []
    },
    {
      "cell_type": "code",
      "metadata": {
        "_uuid": "ce51970c9636ecee088e2f2bc30c0dcce492dfd6",
        "id": "G4IZEZhHYYJK"
      },
      "source": [
        "# Make decoder model with part of autoencoder model layers\n",
        "decoder_input = Input((13, 13, 64))\n",
        "decode = decode_layer_1(decoder_input)\n",
        "decode = decode_layer_2(decode)\n",
        "\n",
        "decoder = models.Model(decoder_input, output_tensor(decode))"
      ],
      "execution_count": 25,
      "outputs": []
    },
    {
      "cell_type": "code",
      "metadata": {
        "_uuid": "cfc1e4750471ef19c4858f29ace428b261596e8f",
        "id": "n4-T0CQ4YYJK"
      },
      "source": [
        "# Encode original faulty wafer\n",
        "encoded_x = encoder.predict(new_x)"
      ],
      "execution_count": 26,
      "outputs": []
    },
    {
      "cell_type": "code",
      "metadata": {
        "_uuid": "cca7e49fc3a5e8206b913f46391f4518b3785274",
        "id": "VYZ9E5SlYYJK"
      },
      "source": [
        "# Add noise to encoded latent faulty wafers vector.\n",
        "noised_encoded_x = encoded_x + np.random.normal(loc=0, scale=0.1, size = (len(encoded_x), 13, 13, 64))"
      ],
      "execution_count": 27,
      "outputs": []
    },
    {
      "cell_type": "code",
      "metadata": {
        "_uuid": "bbc99179f3b90b7ba62e3e13db80cd9adb7b8a58",
        "colab": {
          "base_uri": "https://localhost:8080/",
          "height": 283
        },
        "id": "7TqA6pNFYYJK",
        "outputId": "ff76be60-8334-49a7-bd28-9f9e8c56b5d8"
      },
      "source": [
        "# check original faulty wafer data\n",
        "plt.imshow(np.argmax(new_x[3], axis=2))"
      ],
      "execution_count": 28,
      "outputs": [
        {
          "output_type": "execute_result",
          "data": {
            "text/plain": [
              "<matplotlib.image.AxesImage at 0x7f2e3cfa8690>"
            ]
          },
          "metadata": {},
          "execution_count": 28
        },
        {
          "output_type": "display_data",
          "data": {
            "image/png": "[encoded data removed]",
            "text/plain": [
              "<Figure size 432x288 with 1 Axes>"
            ]
          },
          "metadata": {
            "needs_background": "light"
          }
        }
      ]
    },
    {
      "cell_type": "code",
      "metadata": {
        "_uuid": "2c34d09b64151c01c6dfd29c33621fb31c666ade",
        "colab": {
          "base_uri": "https://localhost:8080/",
          "height": 283
        },
        "id": "ys_IwlopYYJL",
        "outputId": "8ede4a28-897e-4fe7-9651-a7598564dee3"
      },
      "source": [
        "# check new noised faulty wafer data\n",
        "noised_gen_x = np.argmax(decoder.predict(noised_encoded_x), axis=3)\n",
        "plt.imshow(noised_gen_x[3])"
      ],
      "execution_count": 29,
      "outputs": [
        {
          "output_type": "execute_result",
          "data": {
            "text/plain": [
              "<matplotlib.image.AxesImage at 0x7f2e3fd2ae10>"
            ]
          },
          "metadata": {},
          "execution_count": 29
        },
        {
          "output_type": "display_data",
          "data": {
            "image/png": "[encoded data removed]",
            "text/plain": [
              "<Figure size 432x288 with 1 Axes>"
            ]
          },
          "metadata": {
            "needs_background": "light"
          }
        }
      ]
    },
    {
      "cell_type": "code",
      "metadata": {
        "_uuid": "e4c959ab36890c361c92b9a4616ca8fb60a2ded4",
        "colab": {
          "base_uri": "https://localhost:8080/",
          "height": 283
        },
        "id": "ZPiETHhHYYJL",
        "outputId": "0d42856d-d5c8-4ff7-e1f8-8bde429004d3"
      },
      "source": [
        "# check reconstructed original faulty wafer data\n",
        "gen_x = np.argmax(ae.predict(new_x), axis=3)\n",
        "plt.imshow(gen_x[3])"
      ],
      "execution_count": 30,
      "outputs": [
        {
          "output_type": "execute_result",
          "data": {
            "text/plain": [
              "<matplotlib.image.AxesImage at 0x7f2e4c812f10>"
            ]
          },
          "metadata": {},
          "execution_count": 30
        },
        {
          "output_type": "display_data",
          "data": {
            "image/png": "[encoded data removed]",
            "text/plain": [
              "<Figure size 432x288 with 1 Axes>"
            ]
          },
          "metadata": {
            "needs_background": "light"
          }
        }
      ]
    },
    {
      "cell_type": "markdown",
      "metadata": {
        "_uuid": "c29236b3ac68761abb4458fd9bf0138fadb86ab7",
        "id": "eYu0NDCJYYJL"
      },
      "source": [
        "## Data augmentation\n"
      ]
    },
    {
      "cell_type": "code",
      "metadata": {
        "_uuid": "53185d9b371ab1719c7738acb3f391ebb4c731a4",
        "id": "7xbaeaSbYYJL"
      },
      "source": [
        "# augment function define\n",
        "def gen_data(wafer, label):\n",
        "    # Encode input wafer\n",
        "    encoded_x = encoder.predict(wafer)\n",
        "    \n",
        "    # dummy array for collecting noised wafer\n",
        "    gen_x = np.zeros((1, 26, 26, 3))\n",
        "    \n",
        "    # Make wafer until total # of wafer to 2000\n",
        "    for i in range((2000//len(wafer)) + 1):\n",
        "        noised_encoded_x = encoded_x + np.random.normal(loc=0, scale=0.1, size = (len(encoded_x), 13, 13, 64)) \n",
        "        noised_gen_x = decoder.predict(noised_encoded_x)\n",
        "        gen_x = np.concatenate((gen_x, noised_gen_x), axis=0)\n",
        "    gen_y = np.full((len(gen_x), 1), label)\n",
        "    \n",
        "    return gen_x[1:], gen_y[1:]"
      ],
      "execution_count": 31,
      "outputs": []
    },
    {
      "cell_type": "code",
      "metadata": {
        "_uuid": "feafb17181cc20ae48402d75789f241d1ae7a5df",
        "id": "wXVwCD8MYYJM"
      },
      "source": [
        "# Augmentation for all faulty case.\n",
        "for f in faulty_case : \n",
        "    # skip none case\n",
        "    if f == 'none' : \n",
        "        continue\n",
        "    \n",
        "    gen_x, gen_y = gen_data(new_x[np.where(y==f)[0]], f)\n",
        "    new_x = np.concatenate((new_x, gen_x), axis=0)\n",
        "    y = np.concatenate((y, gen_y))"
      ],
      "execution_count": 32,
      "outputs": []
    },
    {
      "cell_type": "code",
      "metadata": {
        "_uuid": "312ccd58ce0419f36b8b45aa6a5c3b6992e7045c",
        "colab": {
          "base_uri": "https://localhost:8080/"
        },
        "id": "3aFwm7GJYYJM",
        "outputId": "b57e0225-65d4-4675-aa7d-8b1272e2796e"
      },
      "source": [
        "print('After Generate new_x shape : {}, new_y shape : {}'.format(new_x.shape, y.shape))"
      ],
      "execution_count": 33,
      "outputs": [
        {
          "output_type": "stream",
          "name": "stdout",
          "text": [
            "After Generate new_x shape : (30707, 26, 26, 3), new_y shape : (30707, 1)\n"
          ]
        }
      ]
    },
    {
      "cell_type": "code",
      "metadata": {
        "_uuid": "6eae1b2b5ea63bbd6ff0f6e10e33377b59ff26c7",
        "colab": {
          "base_uri": "https://localhost:8080/"
        },
        "id": "E7APpKVQYYJM",
        "outputId": "2b054a5d-37ac-4f8f-deb5-1deac0ca1bb9"
      },
      "source": [
        "for f in faulty_case :\n",
        "    print('{} : {}'.format(f, len(y[y==f])))"
      ],
      "execution_count": 34,
      "outputs": [
        {
          "output_type": "stream",
          "name": "stdout",
          "text": [
            "Center : 2160\n",
            "Donut : 2002\n",
            "Edge-Loc : 2368\n",
            "Edge-Ring : 2046\n",
            "Loc : 2376\n",
            "Near-full : 2032\n",
            "Random : 2146\n",
            "Scratch : 2088\n",
            "none : 13489\n"
          ]
        }
      ]
    },
    {
      "cell_type": "code",
      "metadata": {
        "_uuid": "2c8e55735742f478c4bdbc182cb2cca289c61be6",
        "id": "gIsX4fnXYYJM"
      },
      "source": [
        "# choice index without replace.\n",
        "none_idx = np.where(y=='none')[0][np.random.choice(len(np.where(y=='none')[0]), size=11000, replace=False)]"
      ],
      "execution_count": 35,
      "outputs": []
    },
    {
      "cell_type": "code",
      "metadata": {
        "_uuid": "176736aa682e1865b5c9224abcc497100c07da2c",
        "id": "fWAn0q03YYJM"
      },
      "source": [
        "# delete choiced index data.\n",
        "new_x = np.delete(new_x, none_idx, axis=0)\n",
        "new_y = np.delete(y, none_idx, axis=0)"
      ],
      "execution_count": 36,
      "outputs": []
    },
    {
      "cell_type": "code",
      "metadata": {
        "_uuid": "984ca3aab008480e2a559d221edb97471b9d20d4",
        "colab": {
          "base_uri": "https://localhost:8080/"
        },
        "id": "8aJqLtVfYYJN",
        "outputId": "746a5d8e-aed2-4530-e19b-cb12d969143e"
      },
      "source": [
        "print('After Delete \"none\" class new_x shape : {}, new_y shape : {}'.format(new_x.shape, new_y.shape))"
      ],
      "execution_count": 37,
      "outputs": [
        {
          "output_type": "stream",
          "name": "stdout",
          "text": [
            "After Delete \"none\" class new_x shape : (19707, 26, 26, 3), new_y shape : (19707, 1)\n"
          ]
        }
      ]
    },
    {
      "cell_type": "code",
      "metadata": {
        "_uuid": "f25df666116dad97d9437c632b9f4706fbb36589",
        "colab": {
          "base_uri": "https://localhost:8080/"
        },
        "id": "2WwKo_pdYYJN",
        "outputId": "eaa01181-1aec-4119-b603-ba30c5eee8a0"
      },
      "source": [
        "for f in faulty_case :\n",
        "    print('{} : {}'.format(f, len(new_y[new_y==f])))"
      ],
      "execution_count": 38,
      "outputs": [
        {
          "output_type": "stream",
          "name": "stdout",
          "text": [
            "Center : 2160\n",
            "Donut : 2002\n",
            "Edge-Loc : 2368\n",
            "Edge-Ring : 2046\n",
            "Loc : 2376\n",
            "Near-full : 2032\n",
            "Random : 2146\n",
            "Scratch : 2088\n",
            "none : 2489\n"
          ]
        }
      ]
    },
    {
      "cell_type": "code",
      "metadata": {
        "_uuid": "8959d413d2ccd403c892a80781669bcd6d77fe16",
        "id": "ivs-C0knYYJN"
      },
      "source": [
        "from tensorflow.keras.utils import to_categorical\n",
        "for i, l in enumerate(faulty_case):\n",
        "    new_y[new_y==l] = i\n",
        "    \n",
        "new_y = to_categorical(new_y)"
      ],
      "execution_count": 39,
      "outputs": []
    },
    {
      "cell_type": "code",
      "metadata": {
        "_uuid": "45c97eb59ee98522979105b6b1b127461a2c235b",
        "id": "QBJMAjeJYYJN"
      },
      "source": [
        "# split data train, test\n",
        "x_train, x_test, y_train, y_test = train_test_split(new_x, new_y,\n",
        "                                                    test_size=0.33,\n",
        "                                                    random_state=42)"
      ],
      "execution_count": 40,
      "outputs": []
    },
    {
      "cell_type": "code",
      "metadata": {
        "_uuid": "a3bf28ea7c89ff2e8045ae48ec38f01c71cfa32f",
        "colab": {
          "base_uri": "https://localhost:8080/"
        },
        "id": "cHhkaSrlYYJO",
        "outputId": "2c71df02-49e2-410c-c15d-e228ac49d031"
      },
      "source": [
        "print('Train x : {}, y : {}'.format(x_train.shape, y_train.shape))\n",
        "print('Test x: {}, y : {}'.format(x_test.shape, y_test.shape))"
      ],
      "execution_count": 41,
      "outputs": [
        {
          "output_type": "stream",
          "name": "stdout",
          "text": [
            "Train x : (13203, 26, 26, 3), y : (13203, 9)\n",
            "Test x: (6504, 26, 26, 3), y : (6504, 9)\n"
          ]
        }
      ]
    },
    {
      "cell_type": "markdown",
      "metadata": {
        "id": "xv563-o6RUtl"
      },
      "source": [
        "### 모델 생성"
      ]
    },
    {
      "cell_type": "code",
      "metadata": {
        "_uuid": "33c6ab94582373f7d6e7061639c503f0a0311877",
        "id": "tFyKwL3-YYJO"
      },
      "source": [
        "input_shape = (26, 26, 3)\n",
        "input_tensor = Input(input_shape)\n",
        "\n",
        "def create_model():\n",
        "    input_shape = (26, 26, 3)\n",
        "    input_tensor = Input(input_shape)\n",
        "\n",
        "    conv_1 = layers.Conv2D(16, (3,3), activation='relu', padding='same')(input_tensor)\n",
        "    conv_2 = layers.Conv2D(64, (3,3), activation='relu', padding='same')(conv_1)\n",
        "    conv_3 = layers.Conv2D(128, (3,3), activation='relu', padding='same')(conv_2)\n",
        "\n",
        "    flat = layers.Flatten()(conv_3)\n",
        "\n",
        "    dense_1 = layers.Dense(512, activation='relu')(flat)\n",
        "    dense_2 = layers.Dense(128, activation='relu')(dense_1)\n",
        "    output_tensor = layers.Dense(9, activation='softmax')(dense_2)\n",
        "\n",
        "    model = models.Model(input_tensor, output_tensor)\n",
        "    model.compile(optimizer='Adam',\n",
        "                 loss='categorical_crossentropy',\n",
        "                 metrics=['accuracy'])\n",
        "\n",
        "    return model"
      ],
      "execution_count": 42,
      "outputs": []
    },
    {
      "cell_type": "markdown",
      "metadata": {
        "_uuid": "5811613cd83778f3a2a7aa28a47c362cedbe713f",
        "id": "9vUr3jywYYJO"
      },
      "source": [
        "### Cross validate model"
      ]
    },
    {
      "cell_type": "code",
      "metadata": {
        "_uuid": "529c16500f9f80e47f6b4e4ccbfa6c40c6d942e6",
        "colab": {
          "base_uri": "https://localhost:8080/"
        },
        "id": "nhv8jN2cYYJP",
        "outputId": "b3faeffc-63ba-477a-aab5-b2d3fabca897"
      },
      "source": [
        "# Make keras model to sklearn classifier.\n",
        "model = KerasClassifier(build_fn=create_model, epochs=10, batch_size=1024, verbose=2) \n",
        "# 3-Fold Crossvalidation\n",
        "kfold = KFold(n_splits=3, shuffle=True, random_state=2019) \n",
        "results = cross_val_score(model, x_train, y_train, cv=kfold)\n",
        "# Check 3-fold model's mean accuracy\n",
        "print('Class Activation Map Cross validation score : {:.4f}'.format(np.mean(results)))"
      ],
      "execution_count": 45,
      "outputs": [
        {
          "output_type": "stream",
          "name": "stdout",
          "text": [
            "Epoch 1/10\n",
            "9/9 - 3s - loss: 2.2852 - accuracy: 0.2343\n",
            "Epoch 2/10\n",
            "9/9 - 1s - loss: 1.0510 - accuracy: 0.6105\n",
            "Epoch 3/10\n",
            "9/9 - 1s - loss: 0.5976 - accuracy: 0.7974\n",
            "Epoch 4/10\n",
            "9/9 - 1s - loss: 0.3421 - accuracy: 0.8905\n",
            "Epoch 5/10\n",
            "9/9 - 1s - loss: 0.2021 - accuracy: 0.9400\n",
            "Epoch 6/10\n",
            "9/9 - 1s - loss: 0.1012 - accuracy: 0.9739\n",
            "Epoch 7/10\n",
            "9/9 - 1s - loss: 0.0647 - accuracy: 0.9824\n",
            "Epoch 8/10\n",
            "9/9 - 1s - loss: 0.0456 - accuracy: 0.9894\n",
            "Epoch 9/10\n",
            "9/9 - 1s - loss: 0.0371 - accuracy: 0.9903\n",
            "Epoch 10/10\n",
            "9/9 - 1s - loss: 0.0242 - accuracy: 0.9948\n",
            "5/5 - 0s - loss: 0.0564 - accuracy: 0.9839\n",
            "Epoch 1/10\n",
            "9/9 - 1s - loss: 2.0436 - accuracy: 0.2915\n",
            "Epoch 2/10\n",
            "9/9 - 1s - loss: 1.0136 - accuracy: 0.6282\n",
            "Epoch 3/10\n",
            "9/9 - 1s - loss: 0.8086 - accuracy: 0.7245\n",
            "Epoch 4/10\n",
            "9/9 - 1s - loss: 0.5276 - accuracy: 0.8272\n",
            "Epoch 5/10\n",
            "9/9 - 1s - loss: 0.2860 - accuracy: 0.9104\n",
            "Epoch 6/10\n",
            "9/9 - 1s - loss: 0.1631 - accuracy: 0.9504\n",
            "Epoch 7/10\n",
            "9/9 - 1s - loss: 0.0869 - accuracy: 0.9766\n",
            "Epoch 8/10\n",
            "9/9 - 1s - loss: 0.0437 - accuracy: 0.9906\n",
            "Epoch 9/10\n",
            "9/9 - 1s - loss: 0.0303 - accuracy: 0.9942\n",
            "Epoch 10/10\n",
            "9/9 - 1s - loss: 0.0183 - accuracy: 0.9981\n",
            "5/5 - 0s - loss: 0.0596 - accuracy: 0.9827\n",
            "Epoch 1/10\n",
            "9/9 - 1s - loss: 2.0982 - accuracy: 0.3566\n",
            "Epoch 2/10\n",
            "9/9 - 1s - loss: 0.9127 - accuracy: 0.6581\n",
            "Epoch 3/10\n",
            "9/9 - 1s - loss: 0.5689 - accuracy: 0.8065\n",
            "Epoch 4/10\n",
            "9/9 - 1s - loss: 0.4436 - accuracy: 0.8764\n",
            "Epoch 5/10\n",
            "9/9 - 1s - loss: 0.2418 - accuracy: 0.9247\n",
            "Epoch 6/10\n",
            "9/9 - 1s - loss: 0.1367 - accuracy: 0.9598\n",
            "Epoch 7/10\n",
            "9/9 - 1s - loss: 0.0889 - accuracy: 0.9758\n",
            "Epoch 8/10\n",
            "9/9 - 1s - loss: 0.0514 - accuracy: 0.9886\n",
            "Epoch 9/10\n",
            "9/9 - 1s - loss: 0.0347 - accuracy: 0.9939\n",
            "Epoch 10/10\n",
            "9/9 - 1s - loss: 0.0347 - accuracy: 0.9923\n",
            "5/5 - 0s - loss: 0.0424 - accuracy: 0.9857\n",
            "Class Activation Map Cross validation score : 0.9841\n"
          ]
        }
      ]
    },
    {
      "cell_type": "markdown",
      "metadata": {
        "_uuid": "2672e64060160e345bab5fbcc27485d3bb28db03",
        "id": "7H3s59cTYYJP"
      },
      "source": [
        "Our model seems quite a good model."
      ]
    },
    {
      "cell_type": "code",
      "metadata": {
        "colab": {
          "base_uri": "https://localhost:8080/"
        },
        "id": "hKhlm5kSYYJQ",
        "outputId": "32f403b0-4603-4117-dd8c-a5b01e2a0946"
      },
      "source": [
        "history = model.fit(x_train, y_train,\n",
        "         validation_data=(x_test, y_test),\n",
        "         epochs=50,\n",
        "         batch_size=batch_size,\n",
        "         )"
      ],
      "execution_count": 47,
      "outputs": [
        {
          "output_type": "stream",
          "name": "stdout",
          "text": [
            "Epoch 1/50\n",
            "13/13 - 2s - loss: 2.1014 - accuracy: 0.3298 - val_loss: 1.2183 - val_accuracy: 0.6047\n",
            "Epoch 2/50\n",
            "13/13 - 1s - loss: 0.8919 - accuracy: 0.6777 - val_loss: 0.7060 - val_accuracy: 0.7222\n",
            "Epoch 3/50\n",
            "13/13 - 1s - loss: 0.6437 - accuracy: 0.7876 - val_loss: 0.5102 - val_accuracy: 0.8373\n",
            "Epoch 4/50\n",
            "13/13 - 1s - loss: 0.3477 - accuracy: 0.8915 - val_loss: 0.2814 - val_accuracy: 0.9045\n",
            "Epoch 5/50\n",
            "13/13 - 1s - loss: 0.1936 - accuracy: 0.9377 - val_loss: 0.1564 - val_accuracy: 0.9505\n",
            "Epoch 6/50\n",
            "13/13 - 1s - loss: 0.1094 - accuracy: 0.9681 - val_loss: 0.0968 - val_accuracy: 0.9702\n",
            "Epoch 7/50\n",
            "13/13 - 1s - loss: 0.0604 - accuracy: 0.9847 - val_loss: 0.0655 - val_accuracy: 0.9834\n",
            "Epoch 8/50\n",
            "13/13 - 1s - loss: 0.0372 - accuracy: 0.9915 - val_loss: 0.0445 - val_accuracy: 0.9875\n",
            "Epoch 9/50\n",
            "13/13 - 1s - loss: 0.0233 - accuracy: 0.9955 - val_loss: 0.0412 - val_accuracy: 0.9894\n",
            "Epoch 10/50\n",
            "13/13 - 1s - loss: 0.0168 - accuracy: 0.9968 - val_loss: 0.0367 - val_accuracy: 0.9894\n",
            "Epoch 11/50\n",
            "13/13 - 1s - loss: 0.0110 - accuracy: 0.9985 - val_loss: 0.0304 - val_accuracy: 0.9900\n",
            "Epoch 12/50\n",
            "13/13 - 1s - loss: 0.0100 - accuracy: 0.9982 - val_loss: 0.0329 - val_accuracy: 0.9897\n",
            "Epoch 13/50\n",
            "13/13 - 1s - loss: 0.0088 - accuracy: 0.9983 - val_loss: 0.0350 - val_accuracy: 0.9897\n",
            "Epoch 14/50\n",
            "13/13 - 1s - loss: 0.0097 - accuracy: 0.9981 - val_loss: 0.0452 - val_accuracy: 0.9845\n",
            "Epoch 15/50\n",
            "13/13 - 1s - loss: 0.0093 - accuracy: 0.9980 - val_loss: 0.0350 - val_accuracy: 0.9895\n",
            "Epoch 16/50\n",
            "13/13 - 1s - loss: 0.0058 - accuracy: 0.9986 - val_loss: 0.0316 - val_accuracy: 0.9900\n",
            "Epoch 17/50\n",
            "13/13 - 1s - loss: 0.0057 - accuracy: 0.9986 - val_loss: 0.0378 - val_accuracy: 0.9894\n",
            "Epoch 18/50\n",
            "13/13 - 1s - loss: 0.0070 - accuracy: 0.9984 - val_loss: 0.0348 - val_accuracy: 0.9872\n",
            "Epoch 19/50\n",
            "13/13 - 1s - loss: 0.0074 - accuracy: 0.9983 - val_loss: 0.0359 - val_accuracy: 0.9897\n",
            "Epoch 20/50\n",
            "13/13 - 1s - loss: 0.0051 - accuracy: 0.9988 - val_loss: 0.0302 - val_accuracy: 0.9905\n",
            "Epoch 21/50\n",
            "13/13 - 1s - loss: 0.0047 - accuracy: 0.9986 - val_loss: 0.0358 - val_accuracy: 0.9895\n",
            "Epoch 22/50\n",
            "13/13 - 1s - loss: 0.0098 - accuracy: 0.9975 - val_loss: 0.0347 - val_accuracy: 0.9888\n",
            "Epoch 23/50\n",
            "13/13 - 1s - loss: 0.0075 - accuracy: 0.9989 - val_loss: 0.0299 - val_accuracy: 0.9885\n",
            "Epoch 24/50\n",
            "13/13 - 1s - loss: 0.0051 - accuracy: 0.9987 - val_loss: 0.0291 - val_accuracy: 0.9905\n",
            "Epoch 25/50\n",
            "13/13 - 1s - loss: 0.0039 - accuracy: 0.9989 - val_loss: 0.0414 - val_accuracy: 0.9852\n",
            "Epoch 26/50\n",
            "13/13 - 1s - loss: 0.0047 - accuracy: 0.9986 - val_loss: 0.0329 - val_accuracy: 0.9899\n",
            "Epoch 27/50\n",
            "13/13 - 1s - loss: 0.0034 - accuracy: 0.9992 - val_loss: 0.0363 - val_accuracy: 0.9868\n",
            "Epoch 28/50\n",
            "13/13 - 1s - loss: 0.0040 - accuracy: 0.9989 - val_loss: 0.0386 - val_accuracy: 0.9894\n",
            "Epoch 29/50\n",
            "13/13 - 1s - loss: 0.0039 - accuracy: 0.9989 - val_loss: 0.0315 - val_accuracy: 0.9900\n",
            "Epoch 30/50\n",
            "13/13 - 1s - loss: 0.0033 - accuracy: 0.9989 - val_loss: 0.0313 - val_accuracy: 0.9903\n",
            "Epoch 31/50\n",
            "13/13 - 1s - loss: 0.0030 - accuracy: 0.9990 - val_loss: 0.0323 - val_accuracy: 0.9899\n",
            "Epoch 32/50\n",
            "13/13 - 1s - loss: 0.0050 - accuracy: 0.9985 - val_loss: 0.0348 - val_accuracy: 0.9906\n",
            "Epoch 33/50\n",
            "13/13 - 1s - loss: 0.0041 - accuracy: 0.9992 - val_loss: 0.0284 - val_accuracy: 0.9912\n",
            "Epoch 34/50\n",
            "13/13 - 1s - loss: 0.0036 - accuracy: 0.9990 - val_loss: 0.0365 - val_accuracy: 0.9883\n",
            "Epoch 35/50\n",
            "13/13 - 1s - loss: 0.0035 - accuracy: 0.9992 - val_loss: 0.0312 - val_accuracy: 0.9908\n",
            "Epoch 36/50\n",
            "13/13 - 1s - loss: 0.0034 - accuracy: 0.9991 - val_loss: 0.0302 - val_accuracy: 0.9911\n",
            "Epoch 37/50\n",
            "13/13 - 1s - loss: 0.0028 - accuracy: 0.9993 - val_loss: 0.0331 - val_accuracy: 0.9892\n",
            "Epoch 38/50\n",
            "13/13 - 1s - loss: 0.0047 - accuracy: 0.9986 - val_loss: 0.0338 - val_accuracy: 0.9888\n",
            "Epoch 39/50\n",
            "13/13 - 1s - loss: 0.0037 - accuracy: 0.9988 - val_loss: 0.0289 - val_accuracy: 0.9914\n",
            "Epoch 40/50\n",
            "13/13 - 1s - loss: 0.0025 - accuracy: 0.9993 - val_loss: 0.0376 - val_accuracy: 0.9897\n",
            "Epoch 41/50\n",
            "13/13 - 1s - loss: 0.0027 - accuracy: 0.9992 - val_loss: 0.0311 - val_accuracy: 0.9900\n",
            "Epoch 42/50\n",
            "13/13 - 1s - loss: 0.0032 - accuracy: 0.9989 - val_loss: 0.0498 - val_accuracy: 0.9879\n",
            "Epoch 43/50\n",
            "13/13 - 1s - loss: 0.0021 - accuracy: 0.9994 - val_loss: 0.0350 - val_accuracy: 0.9903\n",
            "Epoch 44/50\n",
            "13/13 - 1s - loss: 0.0023 - accuracy: 0.9993 - val_loss: 0.0348 - val_accuracy: 0.9906\n",
            "Epoch 45/50\n",
            "13/13 - 1s - loss: 0.0026 - accuracy: 0.9990 - val_loss: 0.0414 - val_accuracy: 0.9899\n",
            "Epoch 46/50\n",
            "13/13 - 1s - loss: 0.0025 - accuracy: 0.9992 - val_loss: 0.0366 - val_accuracy: 0.9891\n",
            "Epoch 47/50\n",
            "13/13 - 1s - loss: 0.0032 - accuracy: 0.9986 - val_loss: 0.0350 - val_accuracy: 0.9905\n",
            "Epoch 48/50\n",
            "13/13 - 1s - loss: 0.0034 - accuracy: 0.9989 - val_loss: 0.0382 - val_accuracy: 0.9897\n",
            "Epoch 49/50\n",
            "13/13 - 1s - loss: 0.0040 - accuracy: 0.9989 - val_loss: 0.0337 - val_accuracy: 0.9905\n",
            "Epoch 50/50\n",
            "13/13 - 1s - loss: 0.0033 - accuracy: 0.9992 - val_loss: 0.0309 - val_accuracy: 0.9899\n"
          ]
        }
      ]
    },
    {
      "cell_type": "code",
      "metadata": {
        "_uuid": "be029459ed4461236a92d3fb9c367b1e9d0ac912",
        "colab": {
          "base_uri": "https://localhost:8080/",
          "height": 0
        },
        "id": "Je5s1ia5YYJQ",
        "outputId": "0aa8b643-18be-44e2-f4d1-1cbaa0d0416a"
      },
      "source": [
        "# accuracy plot \n",
        "plt.plot(history.history['accuracy'])\n",
        "plt.plot(history.history['val_accuracy'])\n",
        "plt.title('model accuracy')\n",
        "plt.ylabel('accuracy')\n",
        "plt.xlabel('epoch')\n",
        "plt.legend(['train', 'test'], loc='upper left')\n",
        "plt.show()\n",
        "\n",
        "# loss plot\n",
        "plt.plot(history.history['loss'])\n",
        "plt.plot(history.history['val_loss'])\n",
        "plt.title('model loss')\n",
        "plt.ylabel('loss')\n",
        "plt.xlabel('epoch')\n",
        "plt.legend(['train', 'test'], loc='upper left')\n",
        "plt.show()"
      ],
      "execution_count": 50,
      "outputs": [
        {
          "output_type": "display_data",
          "data": {
            "image/png": "[encoded data removed]",
            "text/plain": [
              "<Figure size 432x288 with 1 Axes>"
            ]
          },
          "metadata": {
            "needs_background": "light"
          }
        },
        {
          "output_type": "display_data",
          "data": {
            "image/png": "[encoded data removed]",
            "text/plain": [
              "<Figure size 432x288 with 1 Axes>"
            ]
          },
          "metadata": {
            "needs_background": "light"
          }
        }
      ]
    },
    {
      "cell_type": "code",
      "metadata": {
        "id": "A4aE1eQ9Xz4v"
      },
      "source": [
        ""
      ],
      "execution_count": null,
      "outputs": []
    }
  ]
}